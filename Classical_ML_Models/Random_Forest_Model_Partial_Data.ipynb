{
 "cells": [
  {
   "cell_type": "code",
   "execution_count": 1,
   "id": "2d371c66",
   "metadata": {},
   "outputs": [],
   "source": [
    "import pandas as pd"
   ]
  },
  {
   "cell_type": "code",
   "execution_count": 18,
   "id": "da67fa67",
   "metadata": {},
   "outputs": [],
   "source": [
    "x_train = pd.read_csv('x_train.csv')\n",
    "y_train = pd.read_csv('y_train.csv')\n",
    "x_test = pd.read_csv('x_test.csv')\n",
    "y_test = pd.read_csv('y_test.csv')"
   ]
  },
  {
   "cell_type": "code",
   "execution_count": 31,
   "id": "9ec8b95d",
   "metadata": {},
   "outputs": [],
   "source": [
    "x_train.drop(columns='Unnamed: 0', inplace=True)"
   ]
  },
  {
   "cell_type": "code",
   "execution_count": 33,
   "id": "b27baffe",
   "metadata": {},
   "outputs": [],
   "source": [
    "y_train.drop(columns='Unnamed: 0', inplace=True)"
   ]
  },
  {
   "cell_type": "code",
   "execution_count": 34,
   "id": "0d4a3af6",
   "metadata": {},
   "outputs": [
    {
     "data": {
      "text/html": [
       "<div>\n",
       "<style scoped>\n",
       "    .dataframe tbody tr th:only-of-type {\n",
       "        vertical-align: middle;\n",
       "    }\n",
       "\n",
       "    .dataframe tbody tr th {\n",
       "        vertical-align: top;\n",
       "    }\n",
       "\n",
       "    .dataframe thead th {\n",
       "        text-align: right;\n",
       "    }\n",
       "</style>\n",
       "<table border=\"1\" class=\"dataframe\">\n",
       "  <thead>\n",
       "    <tr style=\"text-align: right;\">\n",
       "      <th></th>\n",
       "      <th>Haryana Load (MW)</th>\n",
       "    </tr>\n",
       "  </thead>\n",
       "  <tbody>\n",
       "    <tr>\n",
       "      <th>0</th>\n",
       "      <td>3880.22</td>\n",
       "    </tr>\n",
       "    <tr>\n",
       "      <th>1</th>\n",
       "      <td>3778.15</td>\n",
       "    </tr>\n",
       "    <tr>\n",
       "      <th>2</th>\n",
       "      <td>3742.81</td>\n",
       "    </tr>\n",
       "    <tr>\n",
       "      <th>3</th>\n",
       "      <td>3627.39</td>\n",
       "    </tr>\n",
       "    <tr>\n",
       "      <th>4</th>\n",
       "      <td>3616.50</td>\n",
       "    </tr>\n",
       "    <tr>\n",
       "      <th>...</th>\n",
       "      <td>...</td>\n",
       "    </tr>\n",
       "    <tr>\n",
       "      <th>98174</th>\n",
       "      <td>6730.30</td>\n",
       "    </tr>\n",
       "    <tr>\n",
       "      <th>98175</th>\n",
       "      <td>6720.85</td>\n",
       "    </tr>\n",
       "    <tr>\n",
       "      <th>98176</th>\n",
       "      <td>6738.86</td>\n",
       "    </tr>\n",
       "    <tr>\n",
       "      <th>98177</th>\n",
       "      <td>6756.65</td>\n",
       "    </tr>\n",
       "    <tr>\n",
       "      <th>98178</th>\n",
       "      <td>6769.57</td>\n",
       "    </tr>\n",
       "  </tbody>\n",
       "</table>\n",
       "<p>98179 rows × 1 columns</p>\n",
       "</div>"
      ],
      "text/plain": [
       "       Haryana Load (MW)\n",
       "0                3880.22\n",
       "1                3778.15\n",
       "2                3742.81\n",
       "3                3627.39\n",
       "4                3616.50\n",
       "...                  ...\n",
       "98174            6730.30\n",
       "98175            6720.85\n",
       "98176            6738.86\n",
       "98177            6756.65\n",
       "98178            6769.57\n",
       "\n",
       "[98179 rows x 1 columns]"
      ]
     },
     "execution_count": 34,
     "metadata": {},
     "output_type": "execute_result"
    }
   ],
   "source": [
    "y_train"
   ]
  },
  {
   "cell_type": "code",
   "execution_count": 35,
   "id": "6e8f283d",
   "metadata": {},
   "outputs": [],
   "source": [
    "from sklearn.ensemble import RandomForestRegressor"
   ]
  },
  {
   "cell_type": "code",
   "execution_count": 36,
   "id": "3fe50229",
   "metadata": {},
   "outputs": [],
   "source": [
    "regr = RandomForestRegressor()"
   ]
  },
  {
   "cell_type": "code",
   "execution_count": 37,
   "id": "d1ef36ad",
   "metadata": {},
   "outputs": [
    {
     "name": "stderr",
     "output_type": "stream",
     "text": [
      "C:\\Users\\HP\\AppData\\Local\\Temp/ipykernel_5544/1990009532.py:1: DataConversionWarning: A column-vector y was passed when a 1d array was expected. Please change the shape of y to (n_samples,), for example using ravel().\n",
      "  regr.fit(x_train, y_train)\n"
     ]
    },
    {
     "data": {
      "text/plain": [
       "RandomForestRegressor()"
      ]
     },
     "execution_count": 37,
     "metadata": {},
     "output_type": "execute_result"
    }
   ],
   "source": [
    "regr.fit(x_train, y_train)"
   ]
  },
  {
   "cell_type": "code",
   "execution_count": 38,
   "id": "6908646a",
   "metadata": {},
   "outputs": [
    {
     "data": {
      "text/html": [
       "<div>\n",
       "<style scoped>\n",
       "    .dataframe tbody tr th:only-of-type {\n",
       "        vertical-align: middle;\n",
       "    }\n",
       "\n",
       "    .dataframe tbody tr th {\n",
       "        vertical-align: top;\n",
       "    }\n",
       "\n",
       "    .dataframe thead th {\n",
       "        text-align: right;\n",
       "    }\n",
       "</style>\n",
       "<table border=\"1\" class=\"dataframe\">\n",
       "  <thead>\n",
       "    <tr style=\"text-align: right;\">\n",
       "      <th></th>\n",
       "      <th>temp</th>\n",
       "      <th>dew</th>\n",
       "      <th>humidity</th>\n",
       "      <th>windspeed</th>\n",
       "      <th>winddir</th>\n",
       "      <th>cloudcover</th>\n",
       "      <th>visibility</th>\n",
       "      <th>month</th>\n",
       "      <th>Season</th>\n",
       "      <th>Hour of day</th>\n",
       "      <th>minute_interval</th>\n",
       "      <th>Day</th>\n",
       "      <th>Day of Week</th>\n",
       "      <th>Is Weekend Clean</th>\n",
       "    </tr>\n",
       "  </thead>\n",
       "  <tbody>\n",
       "    <tr>\n",
       "      <th>0</th>\n",
       "      <td>32.0</td>\n",
       "      <td>10.0</td>\n",
       "      <td>25.82</td>\n",
       "      <td>14.8</td>\n",
       "      <td>300.0</td>\n",
       "      <td>0.0</td>\n",
       "      <td>4.0</td>\n",
       "      <td>10</td>\n",
       "      <td>3</td>\n",
       "      <td>16</td>\n",
       "      <td>45</td>\n",
       "      <td>19</td>\n",
       "      <td>0</td>\n",
       "      <td>0</td>\n",
       "    </tr>\n",
       "    <tr>\n",
       "      <th>1</th>\n",
       "      <td>30.9</td>\n",
       "      <td>13.2</td>\n",
       "      <td>33.88</td>\n",
       "      <td>7.4</td>\n",
       "      <td>303.0</td>\n",
       "      <td>0.0</td>\n",
       "      <td>3.1</td>\n",
       "      <td>10</td>\n",
       "      <td>3</td>\n",
       "      <td>17</td>\n",
       "      <td>0</td>\n",
       "      <td>19</td>\n",
       "      <td>0</td>\n",
       "      <td>0</td>\n",
       "    </tr>\n",
       "    <tr>\n",
       "      <th>2</th>\n",
       "      <td>30.9</td>\n",
       "      <td>13.2</td>\n",
       "      <td>33.88</td>\n",
       "      <td>7.4</td>\n",
       "      <td>303.0</td>\n",
       "      <td>0.0</td>\n",
       "      <td>3.1</td>\n",
       "      <td>10</td>\n",
       "      <td>3</td>\n",
       "      <td>17</td>\n",
       "      <td>15</td>\n",
       "      <td>19</td>\n",
       "      <td>0</td>\n",
       "      <td>0</td>\n",
       "    </tr>\n",
       "    <tr>\n",
       "      <th>3</th>\n",
       "      <td>30.9</td>\n",
       "      <td>13.2</td>\n",
       "      <td>33.88</td>\n",
       "      <td>7.4</td>\n",
       "      <td>303.0</td>\n",
       "      <td>0.0</td>\n",
       "      <td>3.1</td>\n",
       "      <td>10</td>\n",
       "      <td>3</td>\n",
       "      <td>17</td>\n",
       "      <td>30</td>\n",
       "      <td>19</td>\n",
       "      <td>0</td>\n",
       "      <td>0</td>\n",
       "    </tr>\n",
       "    <tr>\n",
       "      <th>4</th>\n",
       "      <td>30.9</td>\n",
       "      <td>13.2</td>\n",
       "      <td>33.88</td>\n",
       "      <td>7.4</td>\n",
       "      <td>303.0</td>\n",
       "      <td>0.0</td>\n",
       "      <td>3.1</td>\n",
       "      <td>10</td>\n",
       "      <td>3</td>\n",
       "      <td>17</td>\n",
       "      <td>45</td>\n",
       "      <td>19</td>\n",
       "      <td>0</td>\n",
       "      <td>0</td>\n",
       "    </tr>\n",
       "    <tr>\n",
       "      <th>...</th>\n",
       "      <td>...</td>\n",
       "      <td>...</td>\n",
       "      <td>...</td>\n",
       "      <td>...</td>\n",
       "      <td>...</td>\n",
       "      <td>...</td>\n",
       "      <td>...</td>\n",
       "      <td>...</td>\n",
       "      <td>...</td>\n",
       "      <td>...</td>\n",
       "      <td>...</td>\n",
       "      <td>...</td>\n",
       "      <td>...</td>\n",
       "      <td>...</td>\n",
       "    </tr>\n",
       "    <tr>\n",
       "      <th>42072</th>\n",
       "      <td>10.0</td>\n",
       "      <td>8.0</td>\n",
       "      <td>87.38</td>\n",
       "      <td>0.0</td>\n",
       "      <td>0.0</td>\n",
       "      <td>27.4</td>\n",
       "      <td>2.0</td>\n",
       "      <td>12</td>\n",
       "      <td>0</td>\n",
       "      <td>22</td>\n",
       "      <td>45</td>\n",
       "      <td>31</td>\n",
       "      <td>4</td>\n",
       "      <td>0</td>\n",
       "    </tr>\n",
       "    <tr>\n",
       "      <th>42073</th>\n",
       "      <td>9.2</td>\n",
       "      <td>7.3</td>\n",
       "      <td>88.04</td>\n",
       "      <td>0.0</td>\n",
       "      <td>0.0</td>\n",
       "      <td>28.5</td>\n",
       "      <td>1.3</td>\n",
       "      <td>12</td>\n",
       "      <td>0</td>\n",
       "      <td>23</td>\n",
       "      <td>0</td>\n",
       "      <td>31</td>\n",
       "      <td>4</td>\n",
       "      <td>0</td>\n",
       "    </tr>\n",
       "    <tr>\n",
       "      <th>42074</th>\n",
       "      <td>9.2</td>\n",
       "      <td>7.3</td>\n",
       "      <td>88.04</td>\n",
       "      <td>0.0</td>\n",
       "      <td>0.0</td>\n",
       "      <td>28.5</td>\n",
       "      <td>1.3</td>\n",
       "      <td>12</td>\n",
       "      <td>0</td>\n",
       "      <td>23</td>\n",
       "      <td>15</td>\n",
       "      <td>31</td>\n",
       "      <td>4</td>\n",
       "      <td>0</td>\n",
       "    </tr>\n",
       "    <tr>\n",
       "      <th>42075</th>\n",
       "      <td>9.2</td>\n",
       "      <td>7.3</td>\n",
       "      <td>88.04</td>\n",
       "      <td>0.0</td>\n",
       "      <td>0.0</td>\n",
       "      <td>28.5</td>\n",
       "      <td>1.3</td>\n",
       "      <td>12</td>\n",
       "      <td>0</td>\n",
       "      <td>23</td>\n",
       "      <td>30</td>\n",
       "      <td>31</td>\n",
       "      <td>4</td>\n",
       "      <td>0</td>\n",
       "    </tr>\n",
       "    <tr>\n",
       "      <th>42076</th>\n",
       "      <td>9.2</td>\n",
       "      <td>7.3</td>\n",
       "      <td>88.04</td>\n",
       "      <td>0.0</td>\n",
       "      <td>0.0</td>\n",
       "      <td>28.5</td>\n",
       "      <td>1.3</td>\n",
       "      <td>12</td>\n",
       "      <td>0</td>\n",
       "      <td>23</td>\n",
       "      <td>45</td>\n",
       "      <td>31</td>\n",
       "      <td>4</td>\n",
       "      <td>0</td>\n",
       "    </tr>\n",
       "  </tbody>\n",
       "</table>\n",
       "<p>42077 rows × 14 columns</p>\n",
       "</div>"
      ],
      "text/plain": [
       "       temp   dew  humidity  windspeed  winddir  cloudcover  visibility  \\\n",
       "0      32.0  10.0     25.82       14.8    300.0         0.0         4.0   \n",
       "1      30.9  13.2     33.88        7.4    303.0         0.0         3.1   \n",
       "2      30.9  13.2     33.88        7.4    303.0         0.0         3.1   \n",
       "3      30.9  13.2     33.88        7.4    303.0         0.0         3.1   \n",
       "4      30.9  13.2     33.88        7.4    303.0         0.0         3.1   \n",
       "...     ...   ...       ...        ...      ...         ...         ...   \n",
       "42072  10.0   8.0     87.38        0.0      0.0        27.4         2.0   \n",
       "42073   9.2   7.3     88.04        0.0      0.0        28.5         1.3   \n",
       "42074   9.2   7.3     88.04        0.0      0.0        28.5         1.3   \n",
       "42075   9.2   7.3     88.04        0.0      0.0        28.5         1.3   \n",
       "42076   9.2   7.3     88.04        0.0      0.0        28.5         1.3   \n",
       "\n",
       "       month  Season  Hour of day  minute_interval  Day  Day of Week  \\\n",
       "0         10       3           16               45   19            0   \n",
       "1         10       3           17                0   19            0   \n",
       "2         10       3           17               15   19            0   \n",
       "3         10       3           17               30   19            0   \n",
       "4         10       3           17               45   19            0   \n",
       "...      ...     ...          ...              ...  ...          ...   \n",
       "42072     12       0           22               45   31            4   \n",
       "42073     12       0           23                0   31            4   \n",
       "42074     12       0           23               15   31            4   \n",
       "42075     12       0           23               30   31            4   \n",
       "42076     12       0           23               45   31            4   \n",
       "\n",
       "       Is Weekend Clean  \n",
       "0                     0  \n",
       "1                     0  \n",
       "2                     0  \n",
       "3                     0  \n",
       "4                     0  \n",
       "...                 ...  \n",
       "42072                 0  \n",
       "42073                 0  \n",
       "42074                 0  \n",
       "42075                 0  \n",
       "42076                 0  \n",
       "\n",
       "[42077 rows x 14 columns]"
      ]
     },
     "execution_count": 38,
     "metadata": {},
     "output_type": "execute_result"
    }
   ],
   "source": [
    "x_test"
   ]
  },
  {
   "cell_type": "code",
   "execution_count": 41,
   "id": "65987aae",
   "metadata": {},
   "outputs": [],
   "source": [
    "predictions = regr.predict(x_test)"
   ]
  },
  {
   "cell_type": "code",
   "execution_count": 42,
   "id": "a9191d5a",
   "metadata": {},
   "outputs": [],
   "source": [
    "import numpy as np\n",
    "from sklearn.metrics import mean_squared_error"
   ]
  },
  {
   "cell_type": "code",
   "execution_count": 45,
   "id": "9f6c4f82",
   "metadata": {},
   "outputs": [],
   "source": [
    "rmse = np.sqrt(mean_squared_error(y_test['Haryana Load (MW)'], predictions))"
   ]
  },
  {
   "cell_type": "code",
   "execution_count": 46,
   "id": "05e78451",
   "metadata": {},
   "outputs": [
    {
     "data": {
      "text/plain": [
       "941.6374606789584"
      ]
     },
     "execution_count": 46,
     "metadata": {},
     "output_type": "execute_result"
    }
   ],
   "source": [
    "rmse"
   ]
  },
  {
   "cell_type": "code",
   "execution_count": 49,
   "id": "3e847447",
   "metadata": {},
   "outputs": [],
   "source": [
    "mx = y_test['Haryana Load (MW)'].max()\n",
    "mn = y_test['Haryana Load (MW)'].min()\n",
    "nrmse = rmse/(mx - mn)"
   ]
  },
  {
   "cell_type": "code",
   "execution_count": 50,
   "id": "a379cda0",
   "metadata": {},
   "outputs": [
    {
     "data": {
      "text/plain": [
       "0.09045708605271378"
      ]
     },
     "execution_count": 50,
     "metadata": {},
     "output_type": "execute_result"
    }
   ],
   "source": [
    "nrmse"
   ]
  },
  {
   "cell_type": "code",
   "execution_count": 53,
   "id": "bd837dc0",
   "metadata": {},
   "outputs": [
    {
     "data": {
      "text/plain": [
       "0.6856089639720184"
      ]
     },
     "execution_count": 53,
     "metadata": {},
     "output_type": "execute_result"
    }
   ],
   "source": [
    "import sklearn\n",
    "\n",
    "r2s = sklearn.metrics.r2_score(y_test['Haryana Load (MW)'], predictions)\n",
    "r2s"
   ]
  },
  {
   "cell_type": "code",
   "execution_count": 54,
   "id": "59763067",
   "metadata": {},
   "outputs": [],
   "source": [
    "def MAPE(Y_actual,Y_Predicted):\n",
    "    mape = np.mean(np.abs((Y_actual - Y_Predicted)/Y_actual))*100\n",
    "    return mape"
   ]
  },
  {
   "cell_type": "code",
   "execution_count": 55,
   "id": "d3c664eb",
   "metadata": {},
   "outputs": [
    {
     "data": {
      "text/plain": [
       "11.907867188697569"
      ]
     },
     "execution_count": 55,
     "metadata": {},
     "output_type": "execute_result"
    }
   ],
   "source": [
    "MAPE(y_test['Haryana Load (MW)'], predictions)"
   ]
  },
  {
   "cell_type": "code",
   "execution_count": 56,
   "id": "b64f2a65",
   "metadata": {},
   "outputs": [],
   "source": [
    "test_dates = pd.read_csv('test_dates.csv')"
   ]
  },
  {
   "cell_type": "code",
   "execution_count": 57,
   "id": "81890e1e",
   "metadata": {},
   "outputs": [
    {
     "data": {
      "text/html": [
       "<div>\n",
       "<style scoped>\n",
       "    .dataframe tbody tr th:only-of-type {\n",
       "        vertical-align: middle;\n",
       "    }\n",
       "\n",
       "    .dataframe tbody tr th {\n",
       "        vertical-align: top;\n",
       "    }\n",
       "\n",
       "    .dataframe thead th {\n",
       "        text-align: right;\n",
       "    }\n",
       "</style>\n",
       "<table border=\"1\" class=\"dataframe\">\n",
       "  <thead>\n",
       "    <tr style=\"text-align: right;\">\n",
       "      <th></th>\n",
       "      <th>Unnamed: 0</th>\n",
       "      <th>index</th>\n",
       "      <th>Date</th>\n",
       "    </tr>\n",
       "  </thead>\n",
       "  <tbody>\n",
       "    <tr>\n",
       "      <th>0</th>\n",
       "      <td>0</td>\n",
       "      <td>168354</td>\n",
       "      <td>2020-10-19 16:45:00</td>\n",
       "    </tr>\n",
       "    <tr>\n",
       "      <th>1</th>\n",
       "      <td>1</td>\n",
       "      <td>168355</td>\n",
       "      <td>2020-10-19 17:00:00</td>\n",
       "    </tr>\n",
       "    <tr>\n",
       "      <th>2</th>\n",
       "      <td>2</td>\n",
       "      <td>168356</td>\n",
       "      <td>2020-10-19 17:15:00</td>\n",
       "    </tr>\n",
       "    <tr>\n",
       "      <th>3</th>\n",
       "      <td>3</td>\n",
       "      <td>168357</td>\n",
       "      <td>2020-10-19 17:30:00</td>\n",
       "    </tr>\n",
       "    <tr>\n",
       "      <th>4</th>\n",
       "      <td>4</td>\n",
       "      <td>168358</td>\n",
       "      <td>2020-10-19 17:45:00</td>\n",
       "    </tr>\n",
       "    <tr>\n",
       "      <th>...</th>\n",
       "      <td>...</td>\n",
       "      <td>...</td>\n",
       "      <td>...</td>\n",
       "    </tr>\n",
       "    <tr>\n",
       "      <th>42072</th>\n",
       "      <td>42072</td>\n",
       "      <td>210426</td>\n",
       "      <td>2021-12-31 22:45:00</td>\n",
       "    </tr>\n",
       "    <tr>\n",
       "      <th>42073</th>\n",
       "      <td>42073</td>\n",
       "      <td>210427</td>\n",
       "      <td>2021-12-31 23:00:00</td>\n",
       "    </tr>\n",
       "    <tr>\n",
       "      <th>42074</th>\n",
       "      <td>42074</td>\n",
       "      <td>210428</td>\n",
       "      <td>2021-12-31 23:15:00</td>\n",
       "    </tr>\n",
       "    <tr>\n",
       "      <th>42075</th>\n",
       "      <td>42075</td>\n",
       "      <td>210429</td>\n",
       "      <td>2021-12-31 23:30:00</td>\n",
       "    </tr>\n",
       "    <tr>\n",
       "      <th>42076</th>\n",
       "      <td>42076</td>\n",
       "      <td>210430</td>\n",
       "      <td>2021-12-31 23:45:00</td>\n",
       "    </tr>\n",
       "  </tbody>\n",
       "</table>\n",
       "<p>42077 rows × 3 columns</p>\n",
       "</div>"
      ],
      "text/plain": [
       "       Unnamed: 0   index                 Date\n",
       "0               0  168354  2020-10-19 16:45:00\n",
       "1               1  168355  2020-10-19 17:00:00\n",
       "2               2  168356  2020-10-19 17:15:00\n",
       "3               3  168357  2020-10-19 17:30:00\n",
       "4               4  168358  2020-10-19 17:45:00\n",
       "...           ...     ...                  ...\n",
       "42072       42072  210426  2021-12-31 22:45:00\n",
       "42073       42073  210427  2021-12-31 23:00:00\n",
       "42074       42074  210428  2021-12-31 23:15:00\n",
       "42075       42075  210429  2021-12-31 23:30:00\n",
       "42076       42076  210430  2021-12-31 23:45:00\n",
       "\n",
       "[42077 rows x 3 columns]"
      ]
     },
     "execution_count": 57,
     "metadata": {},
     "output_type": "execute_result"
    }
   ],
   "source": [
    "test_dates"
   ]
  },
  {
   "cell_type": "code",
   "execution_count": 59,
   "id": "31afcfb3",
   "metadata": {},
   "outputs": [],
   "source": [
    "import matplotlib.pyplot as plt\n",
    "%matplotlib inline"
   ]
  },
  {
   "cell_type": "code",
   "execution_count": 65,
   "id": "3bb0fa6e",
   "metadata": {},
   "outputs": [],
   "source": [
    "y_test_with_dates = y_test\n",
    "predictions_with_dates = pd.DataFrame(predictions)"
   ]
  },
  {
   "cell_type": "code",
   "execution_count": 67,
   "id": "0cb52f9d",
   "metadata": {},
   "outputs": [],
   "source": [
    "y_test_with_dates['Date'] = test_dates['Date']"
   ]
  },
  {
   "cell_type": "code",
   "execution_count": 68,
   "id": "367fe719",
   "metadata": {},
   "outputs": [],
   "source": [
    "predictions_with_dates['Date'] = test_dates['Date']"
   ]
  },
  {
   "cell_type": "code",
   "execution_count": 71,
   "id": "c4b275f4",
   "metadata": {},
   "outputs": [
    {
     "data": {
      "image/png": "[encoded data removed]",
      "text/plain": [
       "<Figure size 720x432 with 1 Axes>"
      ]
     },
     "metadata": {
      "needs_background": "light"
     },
     "output_type": "display_data"
    }
   ],
   "source": [
    "plt.rcParams[\"figure.figsize\"] = (10,6)\n",
    "plt.plot(pd.to_datetime(y_test_with_dates['Date']), y_test['Haryana Load (MW)'])\n",
    "plt.plot(pd.to_datetime(predictions_with_dates['Date']), predictions)\n",
    "plt.legend(['Actual Load', 'Predicted Load'])\n",
    "plt.title('Random Forest Performance on Test Set')\n",
    "plt.show()"
   ]
  },
  {
   "cell_type": "code",
   "execution_count": null,
   "id": "297a6dbb",
   "metadata": {},
   "outputs": [],
   "source": []
  }
 ],
 "metadata": {
  "kernelspec": {
   "display_name": "Python 3 (ipykernel)",
   "language": "python",
   "name": "python3"
  },
  "language_info": {
   "codemirror_mode": {
    "name": "ipython",
    "version": 3
   },
   "file_extension": ".py",
   "mimetype": "text/x-python",
   "name": "python",
   "nbconvert_exporter": "python",
   "pygments_lexer": "ipython3",
   "version": "3.9.7"
  }
 },
 "nbformat": 4,
 "nbformat_minor": 5
}
