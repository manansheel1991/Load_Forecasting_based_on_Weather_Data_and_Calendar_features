{
 "cells": [
  {
   "cell_type": "code",
   "execution_count": 1,
   "id": "important-transaction",
   "metadata": {},
   "outputs": [],
   "source": [
    "import pandas as pd\n",
    "import numpy as np\n",
    "\n",
    "#df = pd.read_csv(r\"C:\\Users\\kavya\\Desktop\\Kavya\\Intelihub\\client\\HERC\\Latest\\data\\model_ready_2.csv\")"
   ]
  },
  {
   "cell_type": "code",
   "execution_count": 2,
   "id": "sticky-olive",
   "metadata": {},
   "outputs": [],
   "source": [
    "df = pd.read_csv(r\"C:\\Users\\HP\\Documents\\Load_Forecasting_using_Fbprophet\\Final Files fbprophet\\Combined_Data_for_model_final_2.csv\")"
   ]
  },
  {
   "cell_type": "code",
   "execution_count": 3,
   "id": "infinite-mailing",
   "metadata": {},
   "outputs": [],
   "source": [
    "del df['Unnamed: 0']"
   ]
  },
  {
   "cell_type": "markdown",
   "id": "statistical-syria",
   "metadata": {},
   "source": [
    "#### Extracting Cal Features"
   ]
  },
  {
   "cell_type": "code",
   "execution_count": 4,
   "id": "capital-distinction",
   "metadata": {},
   "outputs": [],
   "source": [
    "df['Date'] = pd.to_datetime(df['Date'])"
   ]
  },
  {
   "cell_type": "code",
   "execution_count": 5,
   "id": "treated-norfolk",
   "metadata": {},
   "outputs": [],
   "source": [
    "df = df[df['Date']>='2018-01-01']"
   ]
  },
  {
   "cell_type": "code",
   "execution_count": 6,
   "id": "prospective-webcam",
   "metadata": {},
   "outputs": [],
   "source": [
    "df['month'] = pd.to_datetime(df['Date']).dt.month\n",
    "df['weekday'] = pd.to_datetime(df['Date']).dt.weekday\n",
    "df['hour'] = pd.to_datetime(df['Date']).dt.hour\n",
    "df['hour_part'] = pd.to_datetime(df['Date']).dt.minute\n",
    "df['year'] = pd.to_datetime(df['Date']).dt.year\n",
    "df['day'] = pd.to_datetime(df['Date']).dt.day\n",
    "\n",
    "# remove outliers in windspeed - checked the max windspeed India recorded - it is around 100\n",
    "df = df[df['windspeed']<=100]"
   ]
  },
  {
   "cell_type": "code",
   "execution_count": 7,
   "id": "muslim-sheet",
   "metadata": {},
   "outputs": [
    {
     "data": {
      "text/plain": [
       "<AxesSubplot:>"
      ]
     },
     "execution_count": 7,
     "metadata": {},
     "output_type": "execute_result"
    },
    {
     "data": {
      "image/png": "[encoded data removed]",
      "text/plain": [
       "<Figure size 432x288 with 1 Axes>"
      ]
     },
     "metadata": {
      "needs_background": "light"
     },
     "output_type": "display_data"
    }
   ],
   "source": [
    "df['winddir'].hist()"
   ]
  },
  {
   "cell_type": "code",
   "execution_count": 8,
   "id": "1b7e8aef",
   "metadata": {},
   "outputs": [],
   "source": [
    "def get_season(TimeSeries):\n",
    "    \n",
    "    season_list = []\n",
    "    \n",
    "    year_list = []\n",
    "    month_list = []\n",
    "    for time in TimeSeries:\n",
    "        year = str(time)[:4]\n",
    "        month = str(time)[5:7]\n",
    "        year_list.append(year)\n",
    "        month_list.append(month) \n",
    "       \n",
    "    for m in month_list:\n",
    "        if m=='01' or m=='02' or m=='12':\n",
    "            season_list.append(0)   # Winter\n",
    "        elif m=='03' or m=='04' or m=='05':\n",
    "            season_list.append(1) #Spring-Summer\n",
    "        elif m == '06' or m=='07':\n",
    "            season_list.append(2) #Paddy/Monsoon\n",
    "        elif m=='08' or m=='09':\n",
    "            season_list.append(3) #Late Monsoon\n",
    "        elif m=='10' or m=='11':\n",
    "            season_list.append(4) #Autumn\n",
    "            \n",
    "    #season = pd.Series(season_list)\n",
    "    return season_list"
   ]
  },
  {
   "cell_type": "code",
   "execution_count": 9,
   "id": "830dfaff",
   "metadata": {},
   "outputs": [],
   "source": [
    "season = get_season(df['Date'])"
   ]
  },
  {
   "cell_type": "code",
   "execution_count": 10,
   "id": "16dea06b",
   "metadata": {},
   "outputs": [],
   "source": [
    "df['Season'] = season"
   ]
  },
  {
   "cell_type": "code",
   "execution_count": 11,
   "id": "working-cooperation",
   "metadata": {},
   "outputs": [],
   "source": [
    "from sklearn import metrics\n",
    "import numpy as np\n",
    "from sklearn.model_selection import StratifiedKFold\n",
    "import itertools\n",
    "# from skopt import BayesSearchCV as bayes_opt"
   ]
  },
  {
   "cell_type": "code",
   "execution_count": 12,
   "id": "hired-royalty",
   "metadata": {},
   "outputs": [],
   "source": [
    "# check for 0 values and remove\n",
    "df = df[df['Haryana Load (MW)']>0]"
   ]
  },
  {
   "cell_type": "code",
   "execution_count": 13,
   "id": "understood-booking",
   "metadata": {},
   "outputs": [],
   "source": [
    "# Train Data\n",
    "train = df[df['Date']<=\"2021-06-01\"]"
   ]
  },
  {
   "cell_type": "code",
   "execution_count": 14,
   "id": "bibliographic-assistant",
   "metadata": {},
   "outputs": [],
   "source": [
    "# Test Data\n",
    "test = df[df['Date']>\"2021-06-01\"]"
   ]
  },
  {
   "cell_type": "code",
   "execution_count": 15,
   "id": "empty-emergency",
   "metadata": {},
   "outputs": [],
   "source": [
    "x_train = train[['month', 'hour', 'weekday', 'temp',\n",
    "       'humidity', 'winddir', 'visibility', 'cloudcover',\n",
    "       'hour_part', 'day', 'Season']]\n",
    "y_train = train[['Haryana Load (MW)']]"
   ]
  },
  {
   "cell_type": "code",
   "execution_count": 16,
   "id": "leading-outline",
   "metadata": {},
   "outputs": [],
   "source": [
    "x_test = test[['month', 'hour', 'weekday', 'temp',\n",
    "       'humidity', 'winddir', 'visibility', 'cloudcover',\n",
    "       'hour_part', 'day', 'Season']]\n",
    "y_test = test[['Haryana Load (MW)']]"
   ]
  },
  {
   "cell_type": "code",
   "execution_count": 17,
   "id": "removable-luther",
   "metadata": {},
   "outputs": [
    {
     "data": {
      "text/html": [
       "<div>\n",
       "<style scoped>\n",
       "    .dataframe tbody tr th:only-of-type {\n",
       "        vertical-align: middle;\n",
       "    }\n",
       "\n",
       "    .dataframe tbody tr th {\n",
       "        vertical-align: top;\n",
       "    }\n",
       "\n",
       "    .dataframe thead th {\n",
       "        text-align: right;\n",
       "    }\n",
       "</style>\n",
       "<table border=\"1\" class=\"dataframe\">\n",
       "  <thead>\n",
       "    <tr style=\"text-align: right;\">\n",
       "      <th></th>\n",
       "      <th>month</th>\n",
       "      <th>hour</th>\n",
       "      <th>weekday</th>\n",
       "      <th>temp</th>\n",
       "      <th>humidity</th>\n",
       "      <th>winddir</th>\n",
       "      <th>visibility</th>\n",
       "      <th>cloudcover</th>\n",
       "      <th>hour_part</th>\n",
       "      <th>day</th>\n",
       "      <th>Season</th>\n",
       "    </tr>\n",
       "  </thead>\n",
       "  <tbody>\n",
       "    <tr>\n",
       "      <th>count</th>\n",
       "      <td>20543.000000</td>\n",
       "      <td>20543.000000</td>\n",
       "      <td>20543.000000</td>\n",
       "      <td>20543.000000</td>\n",
       "      <td>20543.000000</td>\n",
       "      <td>20543.000000</td>\n",
       "      <td>20543.000000</td>\n",
       "      <td>20543.000000</td>\n",
       "      <td>20543.000000</td>\n",
       "      <td>20543.000000</td>\n",
       "      <td>20543.000000</td>\n",
       "    </tr>\n",
       "    <tr>\n",
       "      <th>mean</th>\n",
       "      <td>9.004819</td>\n",
       "      <td>11.500560</td>\n",
       "      <td>2.990751</td>\n",
       "      <td>26.290746</td>\n",
       "      <td>72.787525</td>\n",
       "      <td>144.249331</td>\n",
       "      <td>2.849107</td>\n",
       "      <td>44.337088</td>\n",
       "      <td>22.501095</td>\n",
       "      <td>15.790440</td>\n",
       "      <td>2.565448</td>\n",
       "    </tr>\n",
       "    <tr>\n",
       "      <th>std</th>\n",
       "      <td>1.998813</td>\n",
       "      <td>6.922058</td>\n",
       "      <td>1.988310</td>\n",
       "      <td>7.092862</td>\n",
       "      <td>19.693465</td>\n",
       "      <td>112.560636</td>\n",
       "      <td>1.105441</td>\n",
       "      <td>35.743741</td>\n",
       "      <td>16.770591</td>\n",
       "      <td>8.827231</td>\n",
       "      <td>1.298122</td>\n",
       "    </tr>\n",
       "    <tr>\n",
       "      <th>min</th>\n",
       "      <td>6.000000</td>\n",
       "      <td>0.000000</td>\n",
       "      <td>0.000000</td>\n",
       "      <td>5.000000</td>\n",
       "      <td>19.570000</td>\n",
       "      <td>0.000000</td>\n",
       "      <td>0.000000</td>\n",
       "      <td>0.000000</td>\n",
       "      <td>0.000000</td>\n",
       "      <td>1.000000</td>\n",
       "      <td>0.000000</td>\n",
       "    </tr>\n",
       "    <tr>\n",
       "      <th>25%</th>\n",
       "      <td>7.000000</td>\n",
       "      <td>6.000000</td>\n",
       "      <td>1.000000</td>\n",
       "      <td>21.400000</td>\n",
       "      <td>58.110000</td>\n",
       "      <td>40.000000</td>\n",
       "      <td>2.000000</td>\n",
       "      <td>0.000000</td>\n",
       "      <td>15.000000</td>\n",
       "      <td>8.000000</td>\n",
       "      <td>2.000000</td>\n",
       "    </tr>\n",
       "    <tr>\n",
       "      <th>50%</th>\n",
       "      <td>9.000000</td>\n",
       "      <td>12.000000</td>\n",
       "      <td>3.000000</td>\n",
       "      <td>28.000000</td>\n",
       "      <td>77.140000</td>\n",
       "      <td>120.000000</td>\n",
       "      <td>3.000000</td>\n",
       "      <td>50.000000</td>\n",
       "      <td>30.000000</td>\n",
       "      <td>16.000000</td>\n",
       "      <td>3.000000</td>\n",
       "    </tr>\n",
       "    <tr>\n",
       "      <th>75%</th>\n",
       "      <td>11.000000</td>\n",
       "      <td>17.500000</td>\n",
       "      <td>5.000000</td>\n",
       "      <td>31.000000</td>\n",
       "      <td>88.920000</td>\n",
       "      <td>260.000000</td>\n",
       "      <td>4.000000</td>\n",
       "      <td>86.500000</td>\n",
       "      <td>37.500000</td>\n",
       "      <td>23.000000</td>\n",
       "      <td>4.000000</td>\n",
       "    </tr>\n",
       "    <tr>\n",
       "      <th>max</th>\n",
       "      <td>12.000000</td>\n",
       "      <td>23.000000</td>\n",
       "      <td>6.000000</td>\n",
       "      <td>43.000000</td>\n",
       "      <td>100.000000</td>\n",
       "      <td>360.000000</td>\n",
       "      <td>9.000000</td>\n",
       "      <td>100.000000</td>\n",
       "      <td>45.000000</td>\n",
       "      <td>31.000000</td>\n",
       "      <td>4.000000</td>\n",
       "    </tr>\n",
       "  </tbody>\n",
       "</table>\n",
       "</div>"
      ],
      "text/plain": [
       "              month          hour       weekday          temp      humidity  \\\n",
       "count  20543.000000  20543.000000  20543.000000  20543.000000  20543.000000   \n",
       "mean       9.004819     11.500560      2.990751     26.290746     72.787525   \n",
       "std        1.998813      6.922058      1.988310      7.092862     19.693465   \n",
       "min        6.000000      0.000000      0.000000      5.000000     19.570000   \n",
       "25%        7.000000      6.000000      1.000000     21.400000     58.110000   \n",
       "50%        9.000000     12.000000      3.000000     28.000000     77.140000   \n",
       "75%       11.000000     17.500000      5.000000     31.000000     88.920000   \n",
       "max       12.000000     23.000000      6.000000     43.000000    100.000000   \n",
       "\n",
       "            winddir    visibility    cloudcover     hour_part           day  \\\n",
       "count  20543.000000  20543.000000  20543.000000  20543.000000  20543.000000   \n",
       "mean     144.249331      2.849107     44.337088     22.501095     15.790440   \n",
       "std      112.560636      1.105441     35.743741     16.770591      8.827231   \n",
       "min        0.000000      0.000000      0.000000      0.000000      1.000000   \n",
       "25%       40.000000      2.000000      0.000000     15.000000      8.000000   \n",
       "50%      120.000000      3.000000     50.000000     30.000000     16.000000   \n",
       "75%      260.000000      4.000000     86.500000     37.500000     23.000000   \n",
       "max      360.000000      9.000000    100.000000     45.000000     31.000000   \n",
       "\n",
       "             Season  \n",
       "count  20543.000000  \n",
       "mean       2.565448  \n",
       "std        1.298122  \n",
       "min        0.000000  \n",
       "25%        2.000000  \n",
       "50%        3.000000  \n",
       "75%        4.000000  \n",
       "max        4.000000  "
      ]
     },
     "execution_count": 17,
     "metadata": {},
     "output_type": "execute_result"
    }
   ],
   "source": [
    "x_test.describe()"
   ]
  },
  {
   "cell_type": "code",
   "execution_count": 18,
   "id": "strong-madagascar",
   "metadata": {},
   "outputs": [],
   "source": [
    "import xgboost as xgb\n",
    "from sklearn.model_selection import GridSearchCV"
   ]
  },
  {
   "cell_type": "code",
   "execution_count": 19,
   "id": "joined-filling",
   "metadata": {},
   "outputs": [
    {
     "data": {
      "text/plain": [
       "XGBRegressor(base_score=0.5, booster='gbtree', callbacks=None,\n",
       "             colsample_bylevel=1, colsample_bynode=1, colsample_bytree=1,\n",
       "             early_stopping_rounds=None, enable_categorical=False,\n",
       "             eval_metric=None, gamma=0, gpu_id=-1, grow_policy='depthwise',\n",
       "             importance_type=None, interaction_constraints='',\n",
       "             learning_rate=0.300000012, max_bin=256, max_cat_to_onehot=4,\n",
       "             max_delta_step=0, max_depth=6, max_leaves=0, min_child_weight=1,\n",
       "             missing=nan, monotone_constraints='()', n_estimators=100, n_jobs=0,\n",
       "             num_parallel_tree=1, predictor='auto', random_state=0, reg_alpha=0,\n",
       "             reg_lambda=1, ...)"
      ]
     },
     "execution_count": 19,
     "metadata": {},
     "output_type": "execute_result"
    }
   ],
   "source": [
    "model = xgb.XGBRegressor()\n",
    "model.fit(x_train, y_train)"
   ]
  },
  {
   "cell_type": "code",
   "execution_count": 20,
   "id": "widespread-distinction",
   "metadata": {},
   "outputs": [],
   "source": [
    "preds = model.predict(x_test)"
   ]
  },
  {
   "cell_type": "code",
   "execution_count": 21,
   "id": "corporate-medline",
   "metadata": {},
   "outputs": [
    {
     "name": "stderr",
     "output_type": "stream",
     "text": [
      "C:\\Users\\HP\\AppData\\Local\\Temp/ipykernel_544/2190438978.py:1: SettingWithCopyWarning: \n",
      "A value is trying to be set on a copy of a slice from a DataFrame.\n",
      "Try using .loc[row_indexer,col_indexer] = value instead\n",
      "\n",
      "See the caveats in the documentation: https://pandas.pydata.org/pandas-docs/stable/user_guide/indexing.html#returning-a-view-versus-a-copy\n",
      "  y_test['pred'] = preds\n"
     ]
    }
   ],
   "source": [
    "y_test['pred'] = preds"
   ]
  },
  {
   "cell_type": "code",
   "execution_count": 22,
   "id": "cubic-checkout",
   "metadata": {},
   "outputs": [
    {
     "data": {
      "text/plain": [
       "0.7243099006978692"
      ]
     },
     "execution_count": 22,
     "metadata": {},
     "output_type": "execute_result"
    }
   ],
   "source": [
    "from sklearn.metrics import r2_score\n",
    "r2_score(y_test['Haryana Load (MW)'],y_test['pred'])"
   ]
  },
  {
   "cell_type": "code",
   "execution_count": 23,
   "id": "f42e50c3",
   "metadata": {},
   "outputs": [],
   "source": [
    "from sklearn.ensemble import RandomForestRegressor"
   ]
  },
  {
   "cell_type": "code",
   "execution_count": 24,
   "id": "ff08a3f6",
   "metadata": {},
   "outputs": [],
   "source": [
    "regr = RandomForestRegressor()"
   ]
  },
  {
   "cell_type": "code",
   "execution_count": 25,
   "id": "f6040f70",
   "metadata": {},
   "outputs": [
    {
     "name": "stderr",
     "output_type": "stream",
     "text": [
      "C:\\Users\\HP\\AppData\\Local\\Temp/ipykernel_544/1990009532.py:1: DataConversionWarning: A column-vector y was passed when a 1d array was expected. Please change the shape of y to (n_samples,), for example using ravel().\n",
      "  regr.fit(x_train, y_train)\n"
     ]
    },
    {
     "data": {
      "text/plain": [
       "RandomForestRegressor()"
      ]
     },
     "execution_count": 25,
     "metadata": {},
     "output_type": "execute_result"
    }
   ],
   "source": [
    "regr.fit(x_train, y_train)"
   ]
  },
  {
   "cell_type": "code",
   "execution_count": 26,
   "id": "2c47aa68",
   "metadata": {},
   "outputs": [],
   "source": [
    "preds = model.predict(x_test)"
   ]
  },
  {
   "cell_type": "code",
   "execution_count": 27,
   "id": "a1b9c84b",
   "metadata": {},
   "outputs": [
    {
     "name": "stderr",
     "output_type": "stream",
     "text": [
      "C:\\Users\\HP\\AppData\\Local\\Temp/ipykernel_544/2190438978.py:1: SettingWithCopyWarning: \n",
      "A value is trying to be set on a copy of a slice from a DataFrame.\n",
      "Try using .loc[row_indexer,col_indexer] = value instead\n",
      "\n",
      "See the caveats in the documentation: https://pandas.pydata.org/pandas-docs/stable/user_guide/indexing.html#returning-a-view-versus-a-copy\n",
      "  y_test['pred'] = preds\n"
     ]
    }
   ],
   "source": [
    "y_test['pred'] = preds"
   ]
  },
  {
   "cell_type": "code",
   "execution_count": 28,
   "id": "4244c6a2",
   "metadata": {},
   "outputs": [
    {
     "data": {
      "text/plain": [
       "0.7243099006978692"
      ]
     },
     "execution_count": 28,
     "metadata": {},
     "output_type": "execute_result"
    }
   ],
   "source": [
    "from sklearn.metrics import r2_score\n",
    "r2_score(y_test['Haryana Load (MW)'],y_test['pred'])"
   ]
  },
  {
   "cell_type": "markdown",
   "id": "26da2f51",
   "metadata": {},
   "source": [
    "#### Inputs for CV Save"
   ]
  },
  {
   "cell_type": "code",
   "execution_count": 40,
   "id": "0014e83c",
   "metadata": {},
   "outputs": [],
   "source": [
    "# x_train.to_csv('x_train_ncv.csv')\n",
    "# y_train.to_csv('y_train_ncv.csv')\n",
    "# x_test.to_csv('x_test_ncv.csv')\n",
    "# y_test.to_csv('y_test_ncv.csv')"
   ]
  },
  {
   "cell_type": "code",
   "execution_count": 42,
   "id": "86a6530d",
   "metadata": {},
   "outputs": [],
   "source": [
    "# X = df[['month', 'hour', 'weekday', 'temp',\n",
    "#        'humidity', 'winddir', 'visibility', 'cloudcover',\n",
    "#        'hour_part', 'day', 'Season']]\n",
    "# Y = df[['Haryana Load (MW)']]"
   ]
  },
  {
   "cell_type": "markdown",
   "id": "e792ae92",
   "metadata": {},
   "source": [
    "#### Bucket Analysis"
   ]
  },
  {
   "cell_type": "code",
   "execution_count": 209,
   "id": "cc47e975",
   "metadata": {},
   "outputs": [
    {
     "data": {
      "text/plain": [
       "119709"
      ]
     },
     "execution_count": 209,
     "metadata": {},
     "output_type": "execute_result"
    }
   ],
   "source": [
    "len(x_train)"
   ]
  },
  {
   "cell_type": "code",
   "execution_count": 210,
   "id": "2b93928e",
   "metadata": {},
   "outputs": [],
   "source": [
    "train_predictions = model.predict(x_train)"
   ]
  },
  {
   "cell_type": "code",
   "execution_count": 211,
   "id": "5e56d04f",
   "metadata": {},
   "outputs": [],
   "source": [
    "y_train = y_train.reset_index().drop(columns='index')"
   ]
  },
  {
   "cell_type": "code",
   "execution_count": 212,
   "id": "6387e858",
   "metadata": {},
   "outputs": [],
   "source": [
    "y_train_with_error = y_train.join(pd.Series(train_predictions, name='preds'))"
   ]
  },
  {
   "cell_type": "code",
   "execution_count": 213,
   "id": "69f612a1",
   "metadata": {},
   "outputs": [],
   "source": [
    "y_train_with_error['Error'] = y_train_with_error['Haryana Load (MW)'] - y_train_with_error['preds']"
   ]
  },
  {
   "cell_type": "code",
   "execution_count": 214,
   "id": "dfd436e5",
   "metadata": {},
   "outputs": [],
   "source": [
    "y_train_with_error['Percent Error'] = y_train_with_error['Error']*100/y_train_with_error['Haryana Load (MW)']"
   ]
  },
  {
   "cell_type": "code",
   "execution_count": 215,
   "id": "909e0f13",
   "metadata": {},
   "outputs": [],
   "source": [
    "y_errorful_buckets = y_train_with_error[np.abs(y_train_with_error['Percent Error']) > 8]"
   ]
  },
  {
   "cell_type": "code",
   "execution_count": 216,
   "id": "c71b5188",
   "metadata": {},
   "outputs": [],
   "source": [
    "x_train = x_train.reset_index().drop(columns='index')"
   ]
  },
  {
   "cell_type": "code",
   "execution_count": 217,
   "id": "bd89e70e",
   "metadata": {},
   "outputs": [
    {
     "data": {
      "text/plain": [
       "Int64Index([    28,     29,     30,     32,     33,     37,     38,     39,\n",
       "                46,     47,\n",
       "            ...\n",
       "            119699, 119700, 119701, 119702, 119703, 119704, 119705, 119706,\n",
       "            119707, 119708],\n",
       "           dtype='int64', length=29051)"
      ]
     },
     "execution_count": 217,
     "metadata": {},
     "output_type": "execute_result"
    }
   ],
   "source": [
    "y_errorful_buckets.index"
   ]
  },
  {
   "cell_type": "code",
   "execution_count": 218,
   "id": "276afc9b",
   "metadata": {},
   "outputs": [],
   "source": [
    "x_train_new = x_train.drop(index = y_errorful_buckets.index)"
   ]
  },
  {
   "cell_type": "code",
   "execution_count": 219,
   "id": "55db2747",
   "metadata": {},
   "outputs": [
    {
     "data": {
      "text/html": [
       "<div>\n",
       "<style scoped>\n",
       "    .dataframe tbody tr th:only-of-type {\n",
       "        vertical-align: middle;\n",
       "    }\n",
       "\n",
       "    .dataframe tbody tr th {\n",
       "        vertical-align: top;\n",
       "    }\n",
       "\n",
       "    .dataframe thead th {\n",
       "        text-align: right;\n",
       "    }\n",
       "</style>\n",
       "<table border=\"1\" class=\"dataframe\">\n",
       "  <thead>\n",
       "    <tr style=\"text-align: right;\">\n",
       "      <th></th>\n",
       "      <th>month</th>\n",
       "      <th>hour</th>\n",
       "      <th>weekday</th>\n",
       "      <th>temp</th>\n",
       "      <th>humidity</th>\n",
       "      <th>winddir</th>\n",
       "      <th>visibility</th>\n",
       "      <th>cloudcover</th>\n",
       "      <th>hour_part</th>\n",
       "      <th>day</th>\n",
       "      <th>Season</th>\n",
       "    </tr>\n",
       "  </thead>\n",
       "  <tbody>\n",
       "    <tr>\n",
       "      <th>0</th>\n",
       "      <td>1</td>\n",
       "      <td>0</td>\n",
       "      <td>0</td>\n",
       "      <td>11.0</td>\n",
       "      <td>87.48</td>\n",
       "      <td>0.0</td>\n",
       "      <td>1.0</td>\n",
       "      <td>0.0</td>\n",
       "      <td>0</td>\n",
       "      <td>1</td>\n",
       "      <td>0</td>\n",
       "    </tr>\n",
       "    <tr>\n",
       "      <th>1</th>\n",
       "      <td>1</td>\n",
       "      <td>0</td>\n",
       "      <td>0</td>\n",
       "      <td>11.0</td>\n",
       "      <td>87.48</td>\n",
       "      <td>0.0</td>\n",
       "      <td>1.0</td>\n",
       "      <td>0.0</td>\n",
       "      <td>15</td>\n",
       "      <td>1</td>\n",
       "      <td>0</td>\n",
       "    </tr>\n",
       "    <tr>\n",
       "      <th>2</th>\n",
       "      <td>1</td>\n",
       "      <td>0</td>\n",
       "      <td>0</td>\n",
       "      <td>11.0</td>\n",
       "      <td>87.48</td>\n",
       "      <td>0.0</td>\n",
       "      <td>1.0</td>\n",
       "      <td>0.0</td>\n",
       "      <td>30</td>\n",
       "      <td>1</td>\n",
       "      <td>0</td>\n",
       "    </tr>\n",
       "    <tr>\n",
       "      <th>3</th>\n",
       "      <td>1</td>\n",
       "      <td>0</td>\n",
       "      <td>0</td>\n",
       "      <td>11.0</td>\n",
       "      <td>87.48</td>\n",
       "      <td>0.0</td>\n",
       "      <td>1.0</td>\n",
       "      <td>0.0</td>\n",
       "      <td>45</td>\n",
       "      <td>1</td>\n",
       "      <td>0</td>\n",
       "    </tr>\n",
       "    <tr>\n",
       "      <th>4</th>\n",
       "      <td>1</td>\n",
       "      <td>1</td>\n",
       "      <td>0</td>\n",
       "      <td>10.0</td>\n",
       "      <td>87.38</td>\n",
       "      <td>0.0</td>\n",
       "      <td>1.0</td>\n",
       "      <td>0.0</td>\n",
       "      <td>0</td>\n",
       "      <td>1</td>\n",
       "      <td>0</td>\n",
       "    </tr>\n",
       "    <tr>\n",
       "      <th>...</th>\n",
       "      <td>...</td>\n",
       "      <td>...</td>\n",
       "      <td>...</td>\n",
       "      <td>...</td>\n",
       "      <td>...</td>\n",
       "      <td>...</td>\n",
       "      <td>...</td>\n",
       "      <td>...</td>\n",
       "      <td>...</td>\n",
       "      <td>...</td>\n",
       "      <td>...</td>\n",
       "    </tr>\n",
       "    <tr>\n",
       "      <th>119694</th>\n",
       "      <td>5</td>\n",
       "      <td>20</td>\n",
       "      <td>0</td>\n",
       "      <td>33.5</td>\n",
       "      <td>49.88</td>\n",
       "      <td>110.0</td>\n",
       "      <td>4.0</td>\n",
       "      <td>0.0</td>\n",
       "      <td>30</td>\n",
       "      <td>31</td>\n",
       "      <td>1</td>\n",
       "    </tr>\n",
       "    <tr>\n",
       "      <th>119695</th>\n",
       "      <td>5</td>\n",
       "      <td>20</td>\n",
       "      <td>0</td>\n",
       "      <td>33.5</td>\n",
       "      <td>49.88</td>\n",
       "      <td>110.0</td>\n",
       "      <td>4.0</td>\n",
       "      <td>0.0</td>\n",
       "      <td>45</td>\n",
       "      <td>31</td>\n",
       "      <td>1</td>\n",
       "    </tr>\n",
       "    <tr>\n",
       "      <th>119696</th>\n",
       "      <td>5</td>\n",
       "      <td>21</td>\n",
       "      <td>0</td>\n",
       "      <td>34.0</td>\n",
       "      <td>41.27</td>\n",
       "      <td>120.0</td>\n",
       "      <td>4.0</td>\n",
       "      <td>27.4</td>\n",
       "      <td>0</td>\n",
       "      <td>31</td>\n",
       "      <td>1</td>\n",
       "    </tr>\n",
       "    <tr>\n",
       "      <th>119697</th>\n",
       "      <td>5</td>\n",
       "      <td>21</td>\n",
       "      <td>0</td>\n",
       "      <td>34.0</td>\n",
       "      <td>41.27</td>\n",
       "      <td>120.0</td>\n",
       "      <td>4.0</td>\n",
       "      <td>27.4</td>\n",
       "      <td>15</td>\n",
       "      <td>31</td>\n",
       "      <td>1</td>\n",
       "    </tr>\n",
       "    <tr>\n",
       "      <th>119698</th>\n",
       "      <td>5</td>\n",
       "      <td>21</td>\n",
       "      <td>0</td>\n",
       "      <td>34.0</td>\n",
       "      <td>41.27</td>\n",
       "      <td>120.0</td>\n",
       "      <td>4.0</td>\n",
       "      <td>27.4</td>\n",
       "      <td>30</td>\n",
       "      <td>31</td>\n",
       "      <td>1</td>\n",
       "    </tr>\n",
       "  </tbody>\n",
       "</table>\n",
       "<p>90658 rows × 11 columns</p>\n",
       "</div>"
      ],
      "text/plain": [
       "        month  hour  weekday  temp  humidity  winddir  visibility  cloudcover  \\\n",
       "0           1     0        0  11.0     87.48      0.0         1.0         0.0   \n",
       "1           1     0        0  11.0     87.48      0.0         1.0         0.0   \n",
       "2           1     0        0  11.0     87.48      0.0         1.0         0.0   \n",
       "3           1     0        0  11.0     87.48      0.0         1.0         0.0   \n",
       "4           1     1        0  10.0     87.38      0.0         1.0         0.0   \n",
       "...       ...   ...      ...   ...       ...      ...         ...         ...   \n",
       "119694      5    20        0  33.5     49.88    110.0         4.0         0.0   \n",
       "119695      5    20        0  33.5     49.88    110.0         4.0         0.0   \n",
       "119696      5    21        0  34.0     41.27    120.0         4.0        27.4   \n",
       "119697      5    21        0  34.0     41.27    120.0         4.0        27.4   \n",
       "119698      5    21        0  34.0     41.27    120.0         4.0        27.4   \n",
       "\n",
       "        hour_part  day  Season  \n",
       "0               0    1       0  \n",
       "1              15    1       0  \n",
       "2              30    1       0  \n",
       "3              45    1       0  \n",
       "4               0    1       0  \n",
       "...           ...  ...     ...  \n",
       "119694         30   31       1  \n",
       "119695         45   31       1  \n",
       "119696          0   31       1  \n",
       "119697         15   31       1  \n",
       "119698         30   31       1  \n",
       "\n",
       "[90658 rows x 11 columns]"
      ]
     },
     "execution_count": 219,
     "metadata": {},
     "output_type": "execute_result"
    }
   ],
   "source": [
    "x_train_new"
   ]
  },
  {
   "cell_type": "code",
   "execution_count": 220,
   "id": "7cd8712d",
   "metadata": {},
   "outputs": [],
   "source": [
    "y_train_new = y_train.drop(index = y_errorful_buckets.index)"
   ]
  },
  {
   "cell_type": "code",
   "execution_count": 221,
   "id": "2e15f319",
   "metadata": {},
   "outputs": [
    {
     "data": {
      "text/plain": [
       "90658"
      ]
     },
     "execution_count": 221,
     "metadata": {},
     "output_type": "execute_result"
    }
   ],
   "source": [
    "len(y_train_new)"
   ]
  },
  {
   "cell_type": "code",
   "execution_count": 222,
   "id": "f6d9565f",
   "metadata": {},
   "outputs": [],
   "source": [
    "model2 = RandomForestRegressor()"
   ]
  },
  {
   "cell_type": "code",
   "execution_count": 223,
   "id": "7cc2250e",
   "metadata": {},
   "outputs": [
    {
     "name": "stderr",
     "output_type": "stream",
     "text": [
      "C:\\Users\\HP\\AppData\\Local\\Temp/ipykernel_544/3869831522.py:1: DataConversionWarning: A column-vector y was passed when a 1d array was expected. Please change the shape of y to (n_samples,), for example using ravel().\n",
      "  model2.fit(x_train_new, y_train_new)\n"
     ]
    },
    {
     "data": {
      "text/plain": [
       "RandomForestRegressor()"
      ]
     },
     "execution_count": 223,
     "metadata": {},
     "output_type": "execute_result"
    }
   ],
   "source": [
    "model2.fit(x_train_new, y_train_new)"
   ]
  },
  {
   "cell_type": "code",
   "execution_count": 224,
   "id": "a804234d",
   "metadata": {},
   "outputs": [],
   "source": [
    "preds2 = model2.predict(x_test)"
   ]
  },
  {
   "cell_type": "code",
   "execution_count": 225,
   "id": "cea10174",
   "metadata": {},
   "outputs": [
    {
     "data": {
      "text/plain": [
       "array([7093.5572, 7083.5986, 7071.0847, ..., 4488.2389, 4460.7384,\n",
       "       4411.6041])"
      ]
     },
     "execution_count": 225,
     "metadata": {},
     "output_type": "execute_result"
    }
   ],
   "source": [
    "preds2"
   ]
  },
  {
   "cell_type": "code",
   "execution_count": 226,
   "id": "0b546f32",
   "metadata": {},
   "outputs": [
    {
     "data": {
      "text/plain": [
       "0.7310649711714532"
      ]
     },
     "execution_count": 226,
     "metadata": {},
     "output_type": "execute_result"
    }
   ],
   "source": [
    "from sklearn.metrics import r2_score\n",
    "r2_score(y_test['Haryana Load (MW)'], preds2)"
   ]
  },
  {
   "cell_type": "markdown",
   "id": "fc1441a4",
   "metadata": {},
   "source": [
    "#### R2 = 0.731, when error threshold = 8%\n",
    "\n",
    "#### R2 = 0.7305, when error threshold = 9%"
   ]
  },
  {
   "cell_type": "code",
   "execution_count": 208,
   "id": "5ce8ede1",
   "metadata": {},
   "outputs": [
    {
     "data": {
      "text/plain": [
       "20543"
      ]
     },
     "execution_count": 208,
     "metadata": {},
     "output_type": "execute_result"
    }
   ],
   "source": [
    "len(preds2)"
   ]
  },
  {
   "cell_type": "markdown",
   "id": "fe770fcd",
   "metadata": {},
   "source": [
    "#### Analyze Errorful buckets"
   ]
  },
  {
   "cell_type": "code",
   "execution_count": 170,
   "id": "8cf14fd4",
   "metadata": {},
   "outputs": [
    {
     "data": {
      "text/html": [
       "<div>\n",
       "<style scoped>\n",
       "    .dataframe tbody tr th:only-of-type {\n",
       "        vertical-align: middle;\n",
       "    }\n",
       "\n",
       "    .dataframe tbody tr th {\n",
       "        vertical-align: top;\n",
       "    }\n",
       "\n",
       "    .dataframe thead th {\n",
       "        text-align: right;\n",
       "    }\n",
       "</style>\n",
       "<table border=\"1\" class=\"dataframe\">\n",
       "  <thead>\n",
       "    <tr style=\"text-align: right;\">\n",
       "      <th></th>\n",
       "      <th>Haryana Load (MW)</th>\n",
       "      <th>preds</th>\n",
       "      <th>Error</th>\n",
       "      <th>Percent Error</th>\n",
       "    </tr>\n",
       "  </thead>\n",
       "  <tbody>\n",
       "    <tr>\n",
       "      <th>28</th>\n",
       "      <td>5625.73</td>\n",
       "      <td>4981.362305</td>\n",
       "      <td>644.367695</td>\n",
       "      <td>11.453939</td>\n",
       "    </tr>\n",
       "    <tr>\n",
       "      <th>29</th>\n",
       "      <td>5558.89</td>\n",
       "      <td>4962.998535</td>\n",
       "      <td>595.891465</td>\n",
       "      <td>10.719612</td>\n",
       "    </tr>\n",
       "    <tr>\n",
       "      <th>30</th>\n",
       "      <td>5467.75</td>\n",
       "      <td>4977.129395</td>\n",
       "      <td>490.620605</td>\n",
       "      <td>8.972989</td>\n",
       "    </tr>\n",
       "    <tr>\n",
       "      <th>32</th>\n",
       "      <td>4587.46</td>\n",
       "      <td>5031.809082</td>\n",
       "      <td>-444.349082</td>\n",
       "      <td>-9.686168</td>\n",
       "    </tr>\n",
       "    <tr>\n",
       "      <th>33</th>\n",
       "      <td>4567.14</td>\n",
       "      <td>5034.720215</td>\n",
       "      <td>-467.580215</td>\n",
       "      <td>-10.237922</td>\n",
       "    </tr>\n",
       "    <tr>\n",
       "      <th>...</th>\n",
       "      <td>...</td>\n",
       "      <td>...</td>\n",
       "      <td>...</td>\n",
       "      <td>...</td>\n",
       "    </tr>\n",
       "    <tr>\n",
       "      <th>119704</th>\n",
       "      <td>4506.24</td>\n",
       "      <td>6091.851074</td>\n",
       "      <td>-1585.611074</td>\n",
       "      <td>-35.187009</td>\n",
       "    </tr>\n",
       "    <tr>\n",
       "      <th>119705</th>\n",
       "      <td>4176.59</td>\n",
       "      <td>6109.577148</td>\n",
       "      <td>-1932.987148</td>\n",
       "      <td>-46.281468</td>\n",
       "    </tr>\n",
       "    <tr>\n",
       "      <th>119706</th>\n",
       "      <td>3976.80</td>\n",
       "      <td>6100.063965</td>\n",
       "      <td>-2123.263965</td>\n",
       "      <td>-53.391268</td>\n",
       "    </tr>\n",
       "    <tr>\n",
       "      <th>119707</th>\n",
       "      <td>3819.15</td>\n",
       "      <td>6101.098633</td>\n",
       "      <td>-2281.948633</td>\n",
       "      <td>-59.750170</td>\n",
       "    </tr>\n",
       "    <tr>\n",
       "      <th>119708</th>\n",
       "      <td>3819.15</td>\n",
       "      <td>5624.251953</td>\n",
       "      <td>-1805.101953</td>\n",
       "      <td>-47.264495</td>\n",
       "    </tr>\n",
       "  </tbody>\n",
       "</table>\n",
       "<p>29051 rows × 4 columns</p>\n",
       "</div>"
      ],
      "text/plain": [
       "        Haryana Load (MW)        preds        Error  Percent Error\n",
       "28                5625.73  4981.362305   644.367695      11.453939\n",
       "29                5558.89  4962.998535   595.891465      10.719612\n",
       "30                5467.75  4977.129395   490.620605       8.972989\n",
       "32                4587.46  5031.809082  -444.349082      -9.686168\n",
       "33                4567.14  5034.720215  -467.580215     -10.237922\n",
       "...                   ...          ...          ...            ...\n",
       "119704            4506.24  6091.851074 -1585.611074     -35.187009\n",
       "119705            4176.59  6109.577148 -1932.987148     -46.281468\n",
       "119706            3976.80  6100.063965 -2123.263965     -53.391268\n",
       "119707            3819.15  6101.098633 -2281.948633     -59.750170\n",
       "119708            3819.15  5624.251953 -1805.101953     -47.264495\n",
       "\n",
       "[29051 rows x 4 columns]"
      ]
     },
     "execution_count": 170,
     "metadata": {},
     "output_type": "execute_result"
    }
   ],
   "source": [
    "y_errorful_buckets"
   ]
  },
  {
   "cell_type": "code",
   "execution_count": null,
   "id": "8e427602",
   "metadata": {},
   "outputs": [],
   "source": []
  }
 ],
 "metadata": {
  "kernelspec": {
   "display_name": "Python 3 (ipykernel)",
   "language": "python",
   "name": "python3"
  },
  "language_info": {
   "codemirror_mode": {
    "name": "ipython",
    "version": 3
   },
   "file_extension": ".py",
   "mimetype": "text/x-python",
   "name": "python",
   "nbconvert_exporter": "python",
   "pygments_lexer": "ipython3",
   "version": "3.9.7"
  }
 },
 "nbformat": 4,
 "nbformat_minor": 5
}
