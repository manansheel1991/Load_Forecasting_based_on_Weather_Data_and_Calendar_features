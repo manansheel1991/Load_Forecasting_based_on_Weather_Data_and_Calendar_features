{
 "cells": [
  {
   "cell_type": "code",
   "execution_count": 2,
   "id": "important-transaction",
   "metadata": {},
   "outputs": [],
   "source": [
    "import pandas as pd\n",
    "import numpy as np\n",
    "\n",
    "#df = pd.read_csv(r\"C:\\Users\\kavya\\Desktop\\Kavya\\Intelihub\\client\\HERC\\Latest\\data\\model_ready_2.csv\")"
   ]
  },
  {
   "cell_type": "code",
   "execution_count": 3,
   "id": "sticky-olive",
   "metadata": {},
   "outputs": [],
   "source": [
    "df = pd.read_csv(r\"C:\\Users\\HP\\Documents\\Load_Forecasting_using_Fbprophet\\Final Files fbprophet\\Combined_Data_for_model_final_2.csv\")"
   ]
  },
  {
   "cell_type": "code",
   "execution_count": 4,
   "id": "infinite-mailing",
   "metadata": {},
   "outputs": [],
   "source": [
    "del df['Unnamed: 0']"
   ]
  },
  {
   "cell_type": "markdown",
   "id": "statistical-syria",
   "metadata": {},
   "source": [
    "#### Extracting Cal Features"
   ]
  },
  {
   "cell_type": "code",
   "execution_count": 5,
   "id": "capital-distinction",
   "metadata": {},
   "outputs": [],
   "source": [
    "df['Date'] = pd.to_datetime(df['Date'])"
   ]
  },
  {
   "cell_type": "code",
   "execution_count": 6,
   "id": "treated-norfolk",
   "metadata": {},
   "outputs": [],
   "source": [
    "df = df[df['Date']>='2018-01-01']"
   ]
  },
  {
   "cell_type": "code",
   "execution_count": 7,
   "id": "68a1f9e1",
   "metadata": {},
   "outputs": [],
   "source": [
    "df['Covid_Lockdown'] = (df['Date']>='2020-03-01') & (df['Date'] <= '2020-04-30')"
   ]
  },
  {
   "cell_type": "code",
   "execution_count": 8,
   "id": "003bfbcc",
   "metadata": {},
   "outputs": [],
   "source": [
    "df['Covid_Lockdown'] = df['Covid_Lockdown'].astype(int)"
   ]
  },
  {
   "cell_type": "code",
   "execution_count": 9,
   "id": "acdf901e",
   "metadata": {},
   "outputs": [
    {
     "data": {
      "text/html": [
       "<div>\n",
       "<style scoped>\n",
       "    .dataframe tbody tr th:only-of-type {\n",
       "        vertical-align: middle;\n",
       "    }\n",
       "\n",
       "    .dataframe tbody tr th {\n",
       "        vertical-align: top;\n",
       "    }\n",
       "\n",
       "    .dataframe thead th {\n",
       "        text-align: right;\n",
       "    }\n",
       "</style>\n",
       "<table border=\"1\" class=\"dataframe\">\n",
       "  <thead>\n",
       "    <tr style=\"text-align: right;\">\n",
       "      <th></th>\n",
       "      <th>Date</th>\n",
       "      <th>Haryana Load (MW)</th>\n",
       "      <th>temp</th>\n",
       "      <th>dew</th>\n",
       "      <th>humidity</th>\n",
       "      <th>windspeed</th>\n",
       "      <th>winddir</th>\n",
       "      <th>cloudcover</th>\n",
       "      <th>visibility</th>\n",
       "      <th>Covid_Lockdown</th>\n",
       "    </tr>\n",
       "  </thead>\n",
       "  <tbody>\n",
       "    <tr>\n",
       "      <th>70175</th>\n",
       "      <td>2018-01-01 00:00:00</td>\n",
       "      <td>3880.22</td>\n",
       "      <td>11.0</td>\n",
       "      <td>9.0</td>\n",
       "      <td>87.48</td>\n",
       "      <td>0.0</td>\n",
       "      <td>0.0</td>\n",
       "      <td>0.0</td>\n",
       "      <td>1.0</td>\n",
       "      <td>0</td>\n",
       "    </tr>\n",
       "    <tr>\n",
       "      <th>70176</th>\n",
       "      <td>2018-01-01 00:15:00</td>\n",
       "      <td>3778.15</td>\n",
       "      <td>11.0</td>\n",
       "      <td>9.0</td>\n",
       "      <td>87.48</td>\n",
       "      <td>0.0</td>\n",
       "      <td>0.0</td>\n",
       "      <td>0.0</td>\n",
       "      <td>1.0</td>\n",
       "      <td>0</td>\n",
       "    </tr>\n",
       "    <tr>\n",
       "      <th>70177</th>\n",
       "      <td>2018-01-01 00:30:00</td>\n",
       "      <td>3742.81</td>\n",
       "      <td>11.0</td>\n",
       "      <td>9.0</td>\n",
       "      <td>87.48</td>\n",
       "      <td>0.0</td>\n",
       "      <td>0.0</td>\n",
       "      <td>0.0</td>\n",
       "      <td>1.0</td>\n",
       "      <td>0</td>\n",
       "    </tr>\n",
       "    <tr>\n",
       "      <th>70178</th>\n",
       "      <td>2018-01-01 00:45:00</td>\n",
       "      <td>3627.39</td>\n",
       "      <td>11.0</td>\n",
       "      <td>9.0</td>\n",
       "      <td>87.48</td>\n",
       "      <td>0.0</td>\n",
       "      <td>0.0</td>\n",
       "      <td>0.0</td>\n",
       "      <td>1.0</td>\n",
       "      <td>0</td>\n",
       "    </tr>\n",
       "    <tr>\n",
       "      <th>70179</th>\n",
       "      <td>2018-01-01 01:00:00</td>\n",
       "      <td>3616.50</td>\n",
       "      <td>10.0</td>\n",
       "      <td>8.0</td>\n",
       "      <td>87.38</td>\n",
       "      <td>0.0</td>\n",
       "      <td>0.0</td>\n",
       "      <td>0.0</td>\n",
       "      <td>1.0</td>\n",
       "      <td>0</td>\n",
       "    </tr>\n",
       "    <tr>\n",
       "      <th>...</th>\n",
       "      <td>...</td>\n",
       "      <td>...</td>\n",
       "      <td>...</td>\n",
       "      <td>...</td>\n",
       "      <td>...</td>\n",
       "      <td>...</td>\n",
       "      <td>...</td>\n",
       "      <td>...</td>\n",
       "      <td>...</td>\n",
       "      <td>...</td>\n",
       "    </tr>\n",
       "    <tr>\n",
       "      <th>210426</th>\n",
       "      <td>2021-12-31 22:45:00</td>\n",
       "      <td>4712.55</td>\n",
       "      <td>10.0</td>\n",
       "      <td>8.0</td>\n",
       "      <td>87.38</td>\n",
       "      <td>0.0</td>\n",
       "      <td>0.0</td>\n",
       "      <td>27.4</td>\n",
       "      <td>2.0</td>\n",
       "      <td>0</td>\n",
       "    </tr>\n",
       "    <tr>\n",
       "      <th>210427</th>\n",
       "      <td>2021-12-31 23:00:00</td>\n",
       "      <td>4649.58</td>\n",
       "      <td>9.2</td>\n",
       "      <td>7.3</td>\n",
       "      <td>88.04</td>\n",
       "      <td>0.0</td>\n",
       "      <td>0.0</td>\n",
       "      <td>28.5</td>\n",
       "      <td>1.3</td>\n",
       "      <td>0</td>\n",
       "    </tr>\n",
       "    <tr>\n",
       "      <th>210428</th>\n",
       "      <td>2021-12-31 23:15:00</td>\n",
       "      <td>4571.39</td>\n",
       "      <td>9.2</td>\n",
       "      <td>7.3</td>\n",
       "      <td>88.04</td>\n",
       "      <td>0.0</td>\n",
       "      <td>0.0</td>\n",
       "      <td>28.5</td>\n",
       "      <td>1.3</td>\n",
       "      <td>0</td>\n",
       "    </tr>\n",
       "    <tr>\n",
       "      <th>210429</th>\n",
       "      <td>2021-12-31 23:30:00</td>\n",
       "      <td>4510.39</td>\n",
       "      <td>9.2</td>\n",
       "      <td>7.3</td>\n",
       "      <td>88.04</td>\n",
       "      <td>0.0</td>\n",
       "      <td>0.0</td>\n",
       "      <td>28.5</td>\n",
       "      <td>1.3</td>\n",
       "      <td>0</td>\n",
       "    </tr>\n",
       "    <tr>\n",
       "      <th>210430</th>\n",
       "      <td>2021-12-31 23:45:00</td>\n",
       "      <td>4449.94</td>\n",
       "      <td>9.2</td>\n",
       "      <td>7.3</td>\n",
       "      <td>88.04</td>\n",
       "      <td>0.0</td>\n",
       "      <td>0.0</td>\n",
       "      <td>28.5</td>\n",
       "      <td>1.3</td>\n",
       "      <td>0</td>\n",
       "    </tr>\n",
       "  </tbody>\n",
       "</table>\n",
       "<p>140256 rows × 10 columns</p>\n",
       "</div>"
      ],
      "text/plain": [
       "                      Date  Haryana Load (MW)  temp  dew  humidity  windspeed  \\\n",
       "70175  2018-01-01 00:00:00            3880.22  11.0  9.0     87.48        0.0   \n",
       "70176  2018-01-01 00:15:00            3778.15  11.0  9.0     87.48        0.0   \n",
       "70177  2018-01-01 00:30:00            3742.81  11.0  9.0     87.48        0.0   \n",
       "70178  2018-01-01 00:45:00            3627.39  11.0  9.0     87.48        0.0   \n",
       "70179  2018-01-01 01:00:00            3616.50  10.0  8.0     87.38        0.0   \n",
       "...                    ...                ...   ...  ...       ...        ...   \n",
       "210426 2021-12-31 22:45:00            4712.55  10.0  8.0     87.38        0.0   \n",
       "210427 2021-12-31 23:00:00            4649.58   9.2  7.3     88.04        0.0   \n",
       "210428 2021-12-31 23:15:00            4571.39   9.2  7.3     88.04        0.0   \n",
       "210429 2021-12-31 23:30:00            4510.39   9.2  7.3     88.04        0.0   \n",
       "210430 2021-12-31 23:45:00            4449.94   9.2  7.3     88.04        0.0   \n",
       "\n",
       "        winddir  cloudcover  visibility  Covid_Lockdown  \n",
       "70175       0.0         0.0         1.0               0  \n",
       "70176       0.0         0.0         1.0               0  \n",
       "70177       0.0         0.0         1.0               0  \n",
       "70178       0.0         0.0         1.0               0  \n",
       "70179       0.0         0.0         1.0               0  \n",
       "...         ...         ...         ...             ...  \n",
       "210426      0.0        27.4         2.0               0  \n",
       "210427      0.0        28.5         1.3               0  \n",
       "210428      0.0        28.5         1.3               0  \n",
       "210429      0.0        28.5         1.3               0  \n",
       "210430      0.0        28.5         1.3               0  \n",
       "\n",
       "[140256 rows x 10 columns]"
      ]
     },
     "execution_count": 9,
     "metadata": {},
     "output_type": "execute_result"
    }
   ],
   "source": [
    "df"
   ]
  },
  {
   "cell_type": "code",
   "execution_count": 10,
   "id": "prospective-webcam",
   "metadata": {},
   "outputs": [],
   "source": [
    "df['month'] = pd.to_datetime(df['Date']).dt.month\n",
    "df['weekday'] = pd.to_datetime(df['Date']).dt.weekday\n",
    "df['hour'] = pd.to_datetime(df['Date']).dt.hour\n",
    "df['hour_part'] = pd.to_datetime(df['Date']).dt.minute\n",
    "df['year'] = pd.to_datetime(df['Date']).dt.year\n",
    "df['day'] = pd.to_datetime(df['Date']).dt.day\n",
    "\n",
    "# remove outliers in windspeed - checked the max windspeed India recorded - it is around 100\n",
    "df = df[df['windspeed']<=100]"
   ]
  },
  {
   "cell_type": "code",
   "execution_count": 11,
   "id": "muslim-sheet",
   "metadata": {},
   "outputs": [
    {
     "data": {
      "text/plain": [
       "<AxesSubplot:>"
      ]
     },
     "execution_count": 11,
     "metadata": {},
     "output_type": "execute_result"
    },
    {
     "data": {
      "image/png": "[encoded data removed]",
      "text/plain": [
       "<Figure size 432x288 with 1 Axes>"
      ]
     },
     "metadata": {
      "needs_background": "light"
     },
     "output_type": "display_data"
    }
   ],
   "source": [
    "df['winddir'].hist()"
   ]
  },
  {
   "cell_type": "code",
   "execution_count": 12,
   "id": "a4b22fe9",
   "metadata": {},
   "outputs": [],
   "source": [
    "def get_season(TimeSeries):\n",
    "    \n",
    "    season_list = []\n",
    "    \n",
    "    year_list = []\n",
    "    month_list = []\n",
    "    for time in TimeSeries:\n",
    "        year = str(time)[:4]\n",
    "        month = str(time)[5:7]\n",
    "        year_list.append(year)\n",
    "        month_list.append(month) \n",
    "       \n",
    "    for m in month_list:\n",
    "        if m=='01' or m=='02' or m=='12':\n",
    "            season_list.append(0)   # Winter\n",
    "        elif m=='03' or m=='04' or m=='05':\n",
    "            season_list.append(1) #Spring-Summer\n",
    "        elif m == '06' or m=='07':\n",
    "            season_list.append(2) #Paddy/Monsoon\n",
    "        elif m=='08' or m=='09':\n",
    "            season_list.append(3) #Late Monsoon\n",
    "        elif m=='10' or m=='11':\n",
    "            season_list.append(4) #Autumn\n",
    "            \n",
    "    #season = pd.Series(season_list)\n",
    "    return season_list"
   ]
  },
  {
   "cell_type": "code",
   "execution_count": 13,
   "id": "dab996c4",
   "metadata": {},
   "outputs": [],
   "source": [
    "season = get_season(df['Date'])"
   ]
  },
  {
   "cell_type": "code",
   "execution_count": 14,
   "id": "e04ad6db",
   "metadata": {},
   "outputs": [
    {
     "name": "stderr",
     "output_type": "stream",
     "text": [
      "C:\\Users\\HP\\AppData\\Local\\Temp/ipykernel_7004/3332413871.py:1: SettingWithCopyWarning: \n",
      "A value is trying to be set on a copy of a slice from a DataFrame.\n",
      "Try using .loc[row_indexer,col_indexer] = value instead\n",
      "\n",
      "See the caveats in the documentation: https://pandas.pydata.org/pandas-docs/stable/user_guide/indexing.html#returning-a-view-versus-a-copy\n",
      "  df['Season'] = season\n"
     ]
    }
   ],
   "source": [
    "df['Season'] = season"
   ]
  },
  {
   "cell_type": "code",
   "execution_count": 15,
   "id": "working-cooperation",
   "metadata": {},
   "outputs": [],
   "source": [
    "from sklearn import metrics\n",
    "import numpy as np\n",
    "from sklearn.model_selection import StratifiedKFold\n",
    "import itertools\n",
    "# from skopt import BayesSearchCV as bayes_opt"
   ]
  },
  {
   "cell_type": "code",
   "execution_count": 16,
   "id": "hired-royalty",
   "metadata": {},
   "outputs": [],
   "source": [
    "# check for 0 values and remove\n",
    "df = df[df['Haryana Load (MW)']>0]"
   ]
  },
  {
   "cell_type": "code",
   "execution_count": 17,
   "id": "understood-booking",
   "metadata": {},
   "outputs": [],
   "source": [
    "# Train Data\n",
    "train = df[df['Date']<=\"2021-06-01\"]"
   ]
  },
  {
   "cell_type": "code",
   "execution_count": 18,
   "id": "bibliographic-assistant",
   "metadata": {},
   "outputs": [],
   "source": [
    "# Test Data\n",
    "test = df[df['Date']>\"2021-06-01\"]"
   ]
  },
  {
   "cell_type": "code",
   "execution_count": 19,
   "id": "empty-emergency",
   "metadata": {},
   "outputs": [],
   "source": [
    "x_train = train[['month', 'hour', 'weekday', 'temp',\n",
    "       'humidity', 'winddir', 'visibility', 'cloudcover',\n",
    "       'hour_part', 'day', 'Season', 'Covid_Lockdown']]\n",
    "y_train = train[['Haryana Load (MW)']]"
   ]
  },
  {
   "cell_type": "code",
   "execution_count": 20,
   "id": "leading-outline",
   "metadata": {},
   "outputs": [],
   "source": [
    "x_test = test[['month', 'hour', 'weekday', 'temp',\n",
    "       'humidity', 'winddir', 'visibility', 'cloudcover',\n",
    "       'hour_part', 'day', 'Season', 'Covid_Lockdown']]\n",
    "y_test = test[['Haryana Load (MW)']]"
   ]
  },
  {
   "cell_type": "code",
   "execution_count": 21,
   "id": "removable-luther",
   "metadata": {},
   "outputs": [
    {
     "data": {
      "text/html": [
       "<div>\n",
       "<style scoped>\n",
       "    .dataframe tbody tr th:only-of-type {\n",
       "        vertical-align: middle;\n",
       "    }\n",
       "\n",
       "    .dataframe tbody tr th {\n",
       "        vertical-align: top;\n",
       "    }\n",
       "\n",
       "    .dataframe thead th {\n",
       "        text-align: right;\n",
       "    }\n",
       "</style>\n",
       "<table border=\"1\" class=\"dataframe\">\n",
       "  <thead>\n",
       "    <tr style=\"text-align: right;\">\n",
       "      <th></th>\n",
       "      <th>month</th>\n",
       "      <th>hour</th>\n",
       "      <th>weekday</th>\n",
       "      <th>temp</th>\n",
       "      <th>humidity</th>\n",
       "      <th>winddir</th>\n",
       "      <th>visibility</th>\n",
       "      <th>cloudcover</th>\n",
       "      <th>hour_part</th>\n",
       "      <th>day</th>\n",
       "      <th>Season</th>\n",
       "      <th>Covid_Lockdown</th>\n",
       "    </tr>\n",
       "  </thead>\n",
       "  <tbody>\n",
       "    <tr>\n",
       "      <th>count</th>\n",
       "      <td>20543.000000</td>\n",
       "      <td>20543.000000</td>\n",
       "      <td>20543.000000</td>\n",
       "      <td>20543.000000</td>\n",
       "      <td>20543.000000</td>\n",
       "      <td>20543.000000</td>\n",
       "      <td>20543.000000</td>\n",
       "      <td>20543.000000</td>\n",
       "      <td>20543.000000</td>\n",
       "      <td>20543.000000</td>\n",
       "      <td>20543.000000</td>\n",
       "      <td>20543.0</td>\n",
       "    </tr>\n",
       "    <tr>\n",
       "      <th>mean</th>\n",
       "      <td>9.004819</td>\n",
       "      <td>11.500560</td>\n",
       "      <td>2.990751</td>\n",
       "      <td>26.290746</td>\n",
       "      <td>72.787525</td>\n",
       "      <td>144.249331</td>\n",
       "      <td>2.849107</td>\n",
       "      <td>44.337088</td>\n",
       "      <td>22.501095</td>\n",
       "      <td>15.790440</td>\n",
       "      <td>2.565448</td>\n",
       "      <td>0.0</td>\n",
       "    </tr>\n",
       "    <tr>\n",
       "      <th>std</th>\n",
       "      <td>1.998813</td>\n",
       "      <td>6.922058</td>\n",
       "      <td>1.988310</td>\n",
       "      <td>7.092862</td>\n",
       "      <td>19.693465</td>\n",
       "      <td>112.560636</td>\n",
       "      <td>1.105441</td>\n",
       "      <td>35.743741</td>\n",
       "      <td>16.770591</td>\n",
       "      <td>8.827231</td>\n",
       "      <td>1.298122</td>\n",
       "      <td>0.0</td>\n",
       "    </tr>\n",
       "    <tr>\n",
       "      <th>min</th>\n",
       "      <td>6.000000</td>\n",
       "      <td>0.000000</td>\n",
       "      <td>0.000000</td>\n",
       "      <td>5.000000</td>\n",
       "      <td>19.570000</td>\n",
       "      <td>0.000000</td>\n",
       "      <td>0.000000</td>\n",
       "      <td>0.000000</td>\n",
       "      <td>0.000000</td>\n",
       "      <td>1.000000</td>\n",
       "      <td>0.000000</td>\n",
       "      <td>0.0</td>\n",
       "    </tr>\n",
       "    <tr>\n",
       "      <th>25%</th>\n",
       "      <td>7.000000</td>\n",
       "      <td>6.000000</td>\n",
       "      <td>1.000000</td>\n",
       "      <td>21.400000</td>\n",
       "      <td>58.110000</td>\n",
       "      <td>40.000000</td>\n",
       "      <td>2.000000</td>\n",
       "      <td>0.000000</td>\n",
       "      <td>15.000000</td>\n",
       "      <td>8.000000</td>\n",
       "      <td>2.000000</td>\n",
       "      <td>0.0</td>\n",
       "    </tr>\n",
       "    <tr>\n",
       "      <th>50%</th>\n",
       "      <td>9.000000</td>\n",
       "      <td>12.000000</td>\n",
       "      <td>3.000000</td>\n",
       "      <td>28.000000</td>\n",
       "      <td>77.140000</td>\n",
       "      <td>120.000000</td>\n",
       "      <td>3.000000</td>\n",
       "      <td>50.000000</td>\n",
       "      <td>30.000000</td>\n",
       "      <td>16.000000</td>\n",
       "      <td>3.000000</td>\n",
       "      <td>0.0</td>\n",
       "    </tr>\n",
       "    <tr>\n",
       "      <th>75%</th>\n",
       "      <td>11.000000</td>\n",
       "      <td>17.500000</td>\n",
       "      <td>5.000000</td>\n",
       "      <td>31.000000</td>\n",
       "      <td>88.920000</td>\n",
       "      <td>260.000000</td>\n",
       "      <td>4.000000</td>\n",
       "      <td>86.500000</td>\n",
       "      <td>37.500000</td>\n",
       "      <td>23.000000</td>\n",
       "      <td>4.000000</td>\n",
       "      <td>0.0</td>\n",
       "    </tr>\n",
       "    <tr>\n",
       "      <th>max</th>\n",
       "      <td>12.000000</td>\n",
       "      <td>23.000000</td>\n",
       "      <td>6.000000</td>\n",
       "      <td>43.000000</td>\n",
       "      <td>100.000000</td>\n",
       "      <td>360.000000</td>\n",
       "      <td>9.000000</td>\n",
       "      <td>100.000000</td>\n",
       "      <td>45.000000</td>\n",
       "      <td>31.000000</td>\n",
       "      <td>4.000000</td>\n",
       "      <td>0.0</td>\n",
       "    </tr>\n",
       "  </tbody>\n",
       "</table>\n",
       "</div>"
      ],
      "text/plain": [
       "              month          hour       weekday          temp      humidity  \\\n",
       "count  20543.000000  20543.000000  20543.000000  20543.000000  20543.000000   \n",
       "mean       9.004819     11.500560      2.990751     26.290746     72.787525   \n",
       "std        1.998813      6.922058      1.988310      7.092862     19.693465   \n",
       "min        6.000000      0.000000      0.000000      5.000000     19.570000   \n",
       "25%        7.000000      6.000000      1.000000     21.400000     58.110000   \n",
       "50%        9.000000     12.000000      3.000000     28.000000     77.140000   \n",
       "75%       11.000000     17.500000      5.000000     31.000000     88.920000   \n",
       "max       12.000000     23.000000      6.000000     43.000000    100.000000   \n",
       "\n",
       "            winddir    visibility    cloudcover     hour_part           day  \\\n",
       "count  20543.000000  20543.000000  20543.000000  20543.000000  20543.000000   \n",
       "mean     144.249331      2.849107     44.337088     22.501095     15.790440   \n",
       "std      112.560636      1.105441     35.743741     16.770591      8.827231   \n",
       "min        0.000000      0.000000      0.000000      0.000000      1.000000   \n",
       "25%       40.000000      2.000000      0.000000     15.000000      8.000000   \n",
       "50%      120.000000      3.000000     50.000000     30.000000     16.000000   \n",
       "75%      260.000000      4.000000     86.500000     37.500000     23.000000   \n",
       "max      360.000000      9.000000    100.000000     45.000000     31.000000   \n",
       "\n",
       "             Season  Covid_Lockdown  \n",
       "count  20543.000000         20543.0  \n",
       "mean       2.565448             0.0  \n",
       "std        1.298122             0.0  \n",
       "min        0.000000             0.0  \n",
       "25%        2.000000             0.0  \n",
       "50%        3.000000             0.0  \n",
       "75%        4.000000             0.0  \n",
       "max        4.000000             0.0  "
      ]
     },
     "execution_count": 21,
     "metadata": {},
     "output_type": "execute_result"
    }
   ],
   "source": [
    "x_test.describe()"
   ]
  },
  {
   "cell_type": "code",
   "execution_count": 22,
   "id": "strong-madagascar",
   "metadata": {},
   "outputs": [],
   "source": [
    "import xgboost as xgb\n",
    "from sklearn.model_selection import GridSearchCV"
   ]
  },
  {
   "cell_type": "code",
   "execution_count": 23,
   "id": "joined-filling",
   "metadata": {},
   "outputs": [
    {
     "data": {
      "text/plain": [
       "XGBRegressor(base_score=0.5, booster='gbtree', callbacks=None,\n",
       "             colsample_bylevel=1, colsample_bynode=1, colsample_bytree=1,\n",
       "             early_stopping_rounds=None, enable_categorical=False,\n",
       "             eval_metric=None, gamma=0, gpu_id=-1, grow_policy='depthwise',\n",
       "             importance_type=None, interaction_constraints='',\n",
       "             learning_rate=0.300000012, max_bin=256, max_cat_to_onehot=4,\n",
       "             max_delta_step=0, max_depth=6, max_leaves=0, min_child_weight=1,\n",
       "             missing=nan, monotone_constraints='()', n_estimators=100, n_jobs=0,\n",
       "             num_parallel_tree=1, predictor='auto', random_state=0, reg_alpha=0,\n",
       "             reg_lambda=1, ...)"
      ]
     },
     "execution_count": 23,
     "metadata": {},
     "output_type": "execute_result"
    }
   ],
   "source": [
    "model = xgb.XGBRegressor()\n",
    "model.fit(x_train, y_train)"
   ]
  },
  {
   "cell_type": "code",
   "execution_count": 24,
   "id": "widespread-distinction",
   "metadata": {},
   "outputs": [],
   "source": [
    "preds = model.predict(x_test)"
   ]
  },
  {
   "cell_type": "code",
   "execution_count": 25,
   "id": "corporate-medline",
   "metadata": {},
   "outputs": [
    {
     "name": "stderr",
     "output_type": "stream",
     "text": [
      "C:\\Users\\HP\\AppData\\Local\\Temp/ipykernel_7004/2190438978.py:1: SettingWithCopyWarning: \n",
      "A value is trying to be set on a copy of a slice from a DataFrame.\n",
      "Try using .loc[row_indexer,col_indexer] = value instead\n",
      "\n",
      "See the caveats in the documentation: https://pandas.pydata.org/pandas-docs/stable/user_guide/indexing.html#returning-a-view-versus-a-copy\n",
      "  y_test['pred'] = preds\n"
     ]
    }
   ],
   "source": [
    "y_test['pred'] = preds"
   ]
  },
  {
   "cell_type": "code",
   "execution_count": 26,
   "id": "cubic-checkout",
   "metadata": {},
   "outputs": [
    {
     "data": {
      "text/plain": [
       "0.7250024879575299"
      ]
     },
     "execution_count": 26,
     "metadata": {},
     "output_type": "execute_result"
    }
   ],
   "source": [
    "from sklearn.metrics import r2_score\n",
    "r2_score(y_test['Haryana Load (MW)'],y_test['pred'])"
   ]
  },
  {
   "cell_type": "markdown",
   "id": "billion-intellectual",
   "metadata": {},
   "source": [
    "##### R2 = 0.727"
   ]
  },
  {
   "cell_type": "code",
   "execution_count": 27,
   "id": "735b998b",
   "metadata": {},
   "outputs": [],
   "source": [
    "from sklearn.ensemble import RandomForestRegressor"
   ]
  },
  {
   "cell_type": "code",
   "execution_count": 28,
   "id": "905e2fd7",
   "metadata": {},
   "outputs": [],
   "source": [
    "regr = RandomForestRegressor()"
   ]
  },
  {
   "cell_type": "code",
   "execution_count": 29,
   "id": "866f95a9",
   "metadata": {},
   "outputs": [
    {
     "name": "stderr",
     "output_type": "stream",
     "text": [
      "C:\\Users\\HP\\AppData\\Local\\Temp/ipykernel_7004/1990009532.py:1: DataConversionWarning: A column-vector y was passed when a 1d array was expected. Please change the shape of y to (n_samples,), for example using ravel().\n",
      "  regr.fit(x_train, y_train)\n"
     ]
    },
    {
     "data": {
      "text/plain": [
       "RandomForestRegressor()"
      ]
     },
     "execution_count": 29,
     "metadata": {},
     "output_type": "execute_result"
    }
   ],
   "source": [
    "regr.fit(x_train, y_train)"
   ]
  },
  {
   "cell_type": "code",
   "execution_count": 30,
   "id": "5d5eb5cb",
   "metadata": {},
   "outputs": [],
   "source": [
    "preds = model.predict(x_test)"
   ]
  },
  {
   "cell_type": "code",
   "execution_count": 31,
   "id": "52c34f69",
   "metadata": {},
   "outputs": [
    {
     "name": "stderr",
     "output_type": "stream",
     "text": [
      "C:\\Users\\HP\\AppData\\Local\\Temp/ipykernel_7004/2190438978.py:1: SettingWithCopyWarning: \n",
      "A value is trying to be set on a copy of a slice from a DataFrame.\n",
      "Try using .loc[row_indexer,col_indexer] = value instead\n",
      "\n",
      "See the caveats in the documentation: https://pandas.pydata.org/pandas-docs/stable/user_guide/indexing.html#returning-a-view-versus-a-copy\n",
      "  y_test['pred'] = preds\n"
     ]
    }
   ],
   "source": [
    "y_test['pred'] = preds"
   ]
  },
  {
   "cell_type": "code",
   "execution_count": 32,
   "id": "9250f2d8",
   "metadata": {},
   "outputs": [
    {
     "data": {
      "text/plain": [
       "0.7250024879575299"
      ]
     },
     "execution_count": 32,
     "metadata": {},
     "output_type": "execute_result"
    }
   ],
   "source": [
    "from sklearn.metrics import r2_score\n",
    "r2_score(y_test['Haryana Load (MW)'],y_test['pred'])"
   ]
  },
  {
   "cell_type": "markdown",
   "id": "230ce5b9",
   "metadata": {},
   "source": [
    "#### Inputs for CV Save"
   ]
  },
  {
   "cell_type": "code",
   "execution_count": 33,
   "id": "fbdd8803",
   "metadata": {},
   "outputs": [],
   "source": [
    "# X = df[['month', 'hour', 'weekday', 'temp',\n",
    "#        'humidity', 'winddir', 'visibility', 'cloudcover',\n",
    "#        'hour_part', 'day', 'Season', 'Covid_Lockdown']]\n",
    "# Y = df[['Haryana Load (MW)']]"
   ]
  },
  {
   "cell_type": "code",
   "execution_count": 34,
   "id": "956eebed",
   "metadata": {},
   "outputs": [],
   "source": [
    "# X.to_csv('X_for_ncv.csv')\n",
    "# Y.to_csv('Y_for_ncv.csv')"
   ]
  },
  {
   "cell_type": "markdown",
   "id": "f49b6638",
   "metadata": {},
   "source": [
    "#### Bucket Analysis"
   ]
  },
  {
   "cell_type": "code",
   "execution_count": 35,
   "id": "cf4e4a4a",
   "metadata": {},
   "outputs": [],
   "source": [
    "train_predictions = model.predict(x_train)"
   ]
  },
  {
   "cell_type": "code",
   "execution_count": 36,
   "id": "7b9bf722",
   "metadata": {},
   "outputs": [],
   "source": [
    "y_train = y_train.reset_index().drop(columns='index')"
   ]
  },
  {
   "cell_type": "code",
   "execution_count": 37,
   "id": "b82bb1ef",
   "metadata": {},
   "outputs": [],
   "source": [
    "y_train_with_error = y_train.join(pd.Series(train_predictions, name='preds'))"
   ]
  },
  {
   "cell_type": "code",
   "execution_count": 38,
   "id": "d3e0cf16",
   "metadata": {},
   "outputs": [],
   "source": [
    "y_train_with_error['Error'] = y_train_with_error['Haryana Load (MW)'] - y_train_with_error['preds']"
   ]
  },
  {
   "cell_type": "code",
   "execution_count": 39,
   "id": "3a98707c",
   "metadata": {},
   "outputs": [],
   "source": [
    "y_train_with_error['Percent Error'] = y_train_with_error['Error']*100/y_train_with_error['Haryana Load (MW)']"
   ]
  },
  {
   "cell_type": "code",
   "execution_count": 40,
   "id": "fd414657",
   "metadata": {},
   "outputs": [],
   "source": [
    "y_errorful_buckets = y_train_with_error[np.abs(y_train_with_error['Percent Error']) > 8]"
   ]
  },
  {
   "cell_type": "code",
   "execution_count": 41,
   "id": "99123d6b",
   "metadata": {},
   "outputs": [],
   "source": [
    "x_train = x_train.reset_index().drop(columns='index')"
   ]
  },
  {
   "cell_type": "code",
   "execution_count": 42,
   "id": "40e226c4",
   "metadata": {},
   "outputs": [
    {
     "data": {
      "text/plain": [
       "Int64Index([    28,     29,     30,     38,     39,     52,     53,     64,\n",
       "                65,     69,\n",
       "            ...\n",
       "            119643, 119699, 119701, 119702, 119703, 119704, 119705, 119706,\n",
       "            119707, 119708],\n",
       "           dtype='int64', length=26322)"
      ]
     },
     "execution_count": 42,
     "metadata": {},
     "output_type": "execute_result"
    }
   ],
   "source": [
    "y_errorful_buckets.index"
   ]
  },
  {
   "cell_type": "code",
   "execution_count": 43,
   "id": "59da4ff2",
   "metadata": {},
   "outputs": [],
   "source": [
    "x_train_new = x_train.drop(index = y_errorful_buckets.index)"
   ]
  },
  {
   "cell_type": "code",
   "execution_count": 44,
   "id": "93044826",
   "metadata": {},
   "outputs": [
    {
     "data": {
      "text/html": [
       "<div>\n",
       "<style scoped>\n",
       "    .dataframe tbody tr th:only-of-type {\n",
       "        vertical-align: middle;\n",
       "    }\n",
       "\n",
       "    .dataframe tbody tr th {\n",
       "        vertical-align: top;\n",
       "    }\n",
       "\n",
       "    .dataframe thead th {\n",
       "        text-align: right;\n",
       "    }\n",
       "</style>\n",
       "<table border=\"1\" class=\"dataframe\">\n",
       "  <thead>\n",
       "    <tr style=\"text-align: right;\">\n",
       "      <th></th>\n",
       "      <th>month</th>\n",
       "      <th>hour</th>\n",
       "      <th>weekday</th>\n",
       "      <th>temp</th>\n",
       "      <th>humidity</th>\n",
       "      <th>winddir</th>\n",
       "      <th>visibility</th>\n",
       "      <th>cloudcover</th>\n",
       "      <th>hour_part</th>\n",
       "      <th>day</th>\n",
       "      <th>Season</th>\n",
       "      <th>Covid_Lockdown</th>\n",
       "    </tr>\n",
       "  </thead>\n",
       "  <tbody>\n",
       "    <tr>\n",
       "      <th>0</th>\n",
       "      <td>1</td>\n",
       "      <td>0</td>\n",
       "      <td>0</td>\n",
       "      <td>11.0</td>\n",
       "      <td>87.48</td>\n",
       "      <td>0.0</td>\n",
       "      <td>1.0</td>\n",
       "      <td>0.0</td>\n",
       "      <td>0</td>\n",
       "      <td>1</td>\n",
       "      <td>0</td>\n",
       "      <td>0</td>\n",
       "    </tr>\n",
       "    <tr>\n",
       "      <th>1</th>\n",
       "      <td>1</td>\n",
       "      <td>0</td>\n",
       "      <td>0</td>\n",
       "      <td>11.0</td>\n",
       "      <td>87.48</td>\n",
       "      <td>0.0</td>\n",
       "      <td>1.0</td>\n",
       "      <td>0.0</td>\n",
       "      <td>15</td>\n",
       "      <td>1</td>\n",
       "      <td>0</td>\n",
       "      <td>0</td>\n",
       "    </tr>\n",
       "    <tr>\n",
       "      <th>2</th>\n",
       "      <td>1</td>\n",
       "      <td>0</td>\n",
       "      <td>0</td>\n",
       "      <td>11.0</td>\n",
       "      <td>87.48</td>\n",
       "      <td>0.0</td>\n",
       "      <td>1.0</td>\n",
       "      <td>0.0</td>\n",
       "      <td>30</td>\n",
       "      <td>1</td>\n",
       "      <td>0</td>\n",
       "      <td>0</td>\n",
       "    </tr>\n",
       "    <tr>\n",
       "      <th>3</th>\n",
       "      <td>1</td>\n",
       "      <td>0</td>\n",
       "      <td>0</td>\n",
       "      <td>11.0</td>\n",
       "      <td>87.48</td>\n",
       "      <td>0.0</td>\n",
       "      <td>1.0</td>\n",
       "      <td>0.0</td>\n",
       "      <td>45</td>\n",
       "      <td>1</td>\n",
       "      <td>0</td>\n",
       "      <td>0</td>\n",
       "    </tr>\n",
       "    <tr>\n",
       "      <th>4</th>\n",
       "      <td>1</td>\n",
       "      <td>1</td>\n",
       "      <td>0</td>\n",
       "      <td>10.0</td>\n",
       "      <td>87.38</td>\n",
       "      <td>0.0</td>\n",
       "      <td>1.0</td>\n",
       "      <td>0.0</td>\n",
       "      <td>0</td>\n",
       "      <td>1</td>\n",
       "      <td>0</td>\n",
       "      <td>0</td>\n",
       "    </tr>\n",
       "    <tr>\n",
       "      <th>...</th>\n",
       "      <td>...</td>\n",
       "      <td>...</td>\n",
       "      <td>...</td>\n",
       "      <td>...</td>\n",
       "      <td>...</td>\n",
       "      <td>...</td>\n",
       "      <td>...</td>\n",
       "      <td>...</td>\n",
       "      <td>...</td>\n",
       "      <td>...</td>\n",
       "      <td>...</td>\n",
       "      <td>...</td>\n",
       "    </tr>\n",
       "    <tr>\n",
       "      <th>119695</th>\n",
       "      <td>5</td>\n",
       "      <td>20</td>\n",
       "      <td>0</td>\n",
       "      <td>33.5</td>\n",
       "      <td>49.88</td>\n",
       "      <td>110.0</td>\n",
       "      <td>4.0</td>\n",
       "      <td>0.0</td>\n",
       "      <td>45</td>\n",
       "      <td>31</td>\n",
       "      <td>1</td>\n",
       "      <td>0</td>\n",
       "    </tr>\n",
       "    <tr>\n",
       "      <th>119696</th>\n",
       "      <td>5</td>\n",
       "      <td>21</td>\n",
       "      <td>0</td>\n",
       "      <td>34.0</td>\n",
       "      <td>41.27</td>\n",
       "      <td>120.0</td>\n",
       "      <td>4.0</td>\n",
       "      <td>27.4</td>\n",
       "      <td>0</td>\n",
       "      <td>31</td>\n",
       "      <td>1</td>\n",
       "      <td>0</td>\n",
       "    </tr>\n",
       "    <tr>\n",
       "      <th>119697</th>\n",
       "      <td>5</td>\n",
       "      <td>21</td>\n",
       "      <td>0</td>\n",
       "      <td>34.0</td>\n",
       "      <td>41.27</td>\n",
       "      <td>120.0</td>\n",
       "      <td>4.0</td>\n",
       "      <td>27.4</td>\n",
       "      <td>15</td>\n",
       "      <td>31</td>\n",
       "      <td>1</td>\n",
       "      <td>0</td>\n",
       "    </tr>\n",
       "    <tr>\n",
       "      <th>119698</th>\n",
       "      <td>5</td>\n",
       "      <td>21</td>\n",
       "      <td>0</td>\n",
       "      <td>34.0</td>\n",
       "      <td>41.27</td>\n",
       "      <td>120.0</td>\n",
       "      <td>4.0</td>\n",
       "      <td>27.4</td>\n",
       "      <td>30</td>\n",
       "      <td>31</td>\n",
       "      <td>1</td>\n",
       "      <td>0</td>\n",
       "    </tr>\n",
       "    <tr>\n",
       "      <th>119700</th>\n",
       "      <td>5</td>\n",
       "      <td>22</td>\n",
       "      <td>0</td>\n",
       "      <td>32.0</td>\n",
       "      <td>46.18</td>\n",
       "      <td>110.0</td>\n",
       "      <td>4.0</td>\n",
       "      <td>50.0</td>\n",
       "      <td>0</td>\n",
       "      <td>31</td>\n",
       "      <td>1</td>\n",
       "      <td>0</td>\n",
       "    </tr>\n",
       "  </tbody>\n",
       "</table>\n",
       "<p>93387 rows × 12 columns</p>\n",
       "</div>"
      ],
      "text/plain": [
       "        month  hour  weekday  temp  humidity  winddir  visibility  cloudcover  \\\n",
       "0           1     0        0  11.0     87.48      0.0         1.0         0.0   \n",
       "1           1     0        0  11.0     87.48      0.0         1.0         0.0   \n",
       "2           1     0        0  11.0     87.48      0.0         1.0         0.0   \n",
       "3           1     0        0  11.0     87.48      0.0         1.0         0.0   \n",
       "4           1     1        0  10.0     87.38      0.0         1.0         0.0   \n",
       "...       ...   ...      ...   ...       ...      ...         ...         ...   \n",
       "119695      5    20        0  33.5     49.88    110.0         4.0         0.0   \n",
       "119696      5    21        0  34.0     41.27    120.0         4.0        27.4   \n",
       "119697      5    21        0  34.0     41.27    120.0         4.0        27.4   \n",
       "119698      5    21        0  34.0     41.27    120.0         4.0        27.4   \n",
       "119700      5    22        0  32.0     46.18    110.0         4.0        50.0   \n",
       "\n",
       "        hour_part  day  Season  Covid_Lockdown  \n",
       "0               0    1       0               0  \n",
       "1              15    1       0               0  \n",
       "2              30    1       0               0  \n",
       "3              45    1       0               0  \n",
       "4               0    1       0               0  \n",
       "...           ...  ...     ...             ...  \n",
       "119695         45   31       1               0  \n",
       "119696          0   31       1               0  \n",
       "119697         15   31       1               0  \n",
       "119698         30   31       1               0  \n",
       "119700          0   31       1               0  \n",
       "\n",
       "[93387 rows x 12 columns]"
      ]
     },
     "execution_count": 44,
     "metadata": {},
     "output_type": "execute_result"
    }
   ],
   "source": [
    "x_train_new"
   ]
  },
  {
   "cell_type": "code",
   "execution_count": 45,
   "id": "5ad970e7",
   "metadata": {},
   "outputs": [],
   "source": [
    "y_train_new = y_train.drop(index = y_errorful_buckets.index)"
   ]
  },
  {
   "cell_type": "code",
   "execution_count": 46,
   "id": "ca1f8eb1",
   "metadata": {},
   "outputs": [],
   "source": [
    "model2 = RandomForestRegressor()"
   ]
  },
  {
   "cell_type": "code",
   "execution_count": 47,
   "id": "a973719e",
   "metadata": {},
   "outputs": [
    {
     "name": "stderr",
     "output_type": "stream",
     "text": [
      "C:\\Users\\HP\\AppData\\Local\\Temp/ipykernel_7004/3869831522.py:1: DataConversionWarning: A column-vector y was passed when a 1d array was expected. Please change the shape of y to (n_samples,), for example using ravel().\n",
      "  model2.fit(x_train_new, y_train_new)\n"
     ]
    },
    {
     "data": {
      "text/plain": [
       "RandomForestRegressor()"
      ]
     },
     "execution_count": 47,
     "metadata": {},
     "output_type": "execute_result"
    }
   ],
   "source": [
    "model2.fit(x_train_new, y_train_new)"
   ]
  },
  {
   "cell_type": "code",
   "execution_count": 48,
   "id": "70e2a448",
   "metadata": {},
   "outputs": [
    {
     "data": {
      "text/html": [
       "<div>\n",
       "<style scoped>\n",
       "    .dataframe tbody tr th:only-of-type {\n",
       "        vertical-align: middle;\n",
       "    }\n",
       "\n",
       "    .dataframe tbody tr th {\n",
       "        vertical-align: top;\n",
       "    }\n",
       "\n",
       "    .dataframe thead th {\n",
       "        text-align: right;\n",
       "    }\n",
       "</style>\n",
       "<table border=\"1\" class=\"dataframe\">\n",
       "  <thead>\n",
       "    <tr style=\"text-align: right;\">\n",
       "      <th></th>\n",
       "      <th>month</th>\n",
       "      <th>hour</th>\n",
       "      <th>weekday</th>\n",
       "      <th>temp</th>\n",
       "      <th>humidity</th>\n",
       "      <th>winddir</th>\n",
       "      <th>visibility</th>\n",
       "      <th>cloudcover</th>\n",
       "      <th>hour_part</th>\n",
       "      <th>day</th>\n",
       "      <th>Season</th>\n",
       "      <th>Covid_Lockdown</th>\n",
       "    </tr>\n",
       "  </thead>\n",
       "  <tbody>\n",
       "    <tr>\n",
       "      <th>189888</th>\n",
       "      <td>6</td>\n",
       "      <td>0</td>\n",
       "      <td>1</td>\n",
       "      <td>30.0</td>\n",
       "      <td>51.76</td>\n",
       "      <td>10.0</td>\n",
       "      <td>2.0</td>\n",
       "      <td>50.0</td>\n",
       "      <td>15</td>\n",
       "      <td>1</td>\n",
       "      <td>2</td>\n",
       "      <td>0</td>\n",
       "    </tr>\n",
       "    <tr>\n",
       "      <th>189889</th>\n",
       "      <td>6</td>\n",
       "      <td>0</td>\n",
       "      <td>1</td>\n",
       "      <td>30.0</td>\n",
       "      <td>51.76</td>\n",
       "      <td>10.0</td>\n",
       "      <td>2.0</td>\n",
       "      <td>50.0</td>\n",
       "      <td>30</td>\n",
       "      <td>1</td>\n",
       "      <td>2</td>\n",
       "      <td>0</td>\n",
       "    </tr>\n",
       "    <tr>\n",
       "      <th>189890</th>\n",
       "      <td>6</td>\n",
       "      <td>0</td>\n",
       "      <td>1</td>\n",
       "      <td>30.0</td>\n",
       "      <td>51.76</td>\n",
       "      <td>10.0</td>\n",
       "      <td>2.0</td>\n",
       "      <td>50.0</td>\n",
       "      <td>45</td>\n",
       "      <td>1</td>\n",
       "      <td>2</td>\n",
       "      <td>0</td>\n",
       "    </tr>\n",
       "    <tr>\n",
       "      <th>189891</th>\n",
       "      <td>6</td>\n",
       "      <td>1</td>\n",
       "      <td>1</td>\n",
       "      <td>21.0</td>\n",
       "      <td>94.02</td>\n",
       "      <td>330.0</td>\n",
       "      <td>2.0</td>\n",
       "      <td>100.0</td>\n",
       "      <td>0</td>\n",
       "      <td>1</td>\n",
       "      <td>2</td>\n",
       "      <td>0</td>\n",
       "    </tr>\n",
       "    <tr>\n",
       "      <th>189892</th>\n",
       "      <td>6</td>\n",
       "      <td>1</td>\n",
       "      <td>1</td>\n",
       "      <td>21.0</td>\n",
       "      <td>94.02</td>\n",
       "      <td>330.0</td>\n",
       "      <td>2.0</td>\n",
       "      <td>100.0</td>\n",
       "      <td>15</td>\n",
       "      <td>1</td>\n",
       "      <td>2</td>\n",
       "      <td>0</td>\n",
       "    </tr>\n",
       "    <tr>\n",
       "      <th>...</th>\n",
       "      <td>...</td>\n",
       "      <td>...</td>\n",
       "      <td>...</td>\n",
       "      <td>...</td>\n",
       "      <td>...</td>\n",
       "      <td>...</td>\n",
       "      <td>...</td>\n",
       "      <td>...</td>\n",
       "      <td>...</td>\n",
       "      <td>...</td>\n",
       "      <td>...</td>\n",
       "      <td>...</td>\n",
       "    </tr>\n",
       "    <tr>\n",
       "      <th>210426</th>\n",
       "      <td>12</td>\n",
       "      <td>22</td>\n",
       "      <td>4</td>\n",
       "      <td>10.0</td>\n",
       "      <td>87.38</td>\n",
       "      <td>0.0</td>\n",
       "      <td>2.0</td>\n",
       "      <td>27.4</td>\n",
       "      <td>45</td>\n",
       "      <td>31</td>\n",
       "      <td>0</td>\n",
       "      <td>0</td>\n",
       "    </tr>\n",
       "    <tr>\n",
       "      <th>210427</th>\n",
       "      <td>12</td>\n",
       "      <td>23</td>\n",
       "      <td>4</td>\n",
       "      <td>9.2</td>\n",
       "      <td>88.04</td>\n",
       "      <td>0.0</td>\n",
       "      <td>1.3</td>\n",
       "      <td>28.5</td>\n",
       "      <td>0</td>\n",
       "      <td>31</td>\n",
       "      <td>0</td>\n",
       "      <td>0</td>\n",
       "    </tr>\n",
       "    <tr>\n",
       "      <th>210428</th>\n",
       "      <td>12</td>\n",
       "      <td>23</td>\n",
       "      <td>4</td>\n",
       "      <td>9.2</td>\n",
       "      <td>88.04</td>\n",
       "      <td>0.0</td>\n",
       "      <td>1.3</td>\n",
       "      <td>28.5</td>\n",
       "      <td>15</td>\n",
       "      <td>31</td>\n",
       "      <td>0</td>\n",
       "      <td>0</td>\n",
       "    </tr>\n",
       "    <tr>\n",
       "      <th>210429</th>\n",
       "      <td>12</td>\n",
       "      <td>23</td>\n",
       "      <td>4</td>\n",
       "      <td>9.2</td>\n",
       "      <td>88.04</td>\n",
       "      <td>0.0</td>\n",
       "      <td>1.3</td>\n",
       "      <td>28.5</td>\n",
       "      <td>30</td>\n",
       "      <td>31</td>\n",
       "      <td>0</td>\n",
       "      <td>0</td>\n",
       "    </tr>\n",
       "    <tr>\n",
       "      <th>210430</th>\n",
       "      <td>12</td>\n",
       "      <td>23</td>\n",
       "      <td>4</td>\n",
       "      <td>9.2</td>\n",
       "      <td>88.04</td>\n",
       "      <td>0.0</td>\n",
       "      <td>1.3</td>\n",
       "      <td>28.5</td>\n",
       "      <td>45</td>\n",
       "      <td>31</td>\n",
       "      <td>0</td>\n",
       "      <td>0</td>\n",
       "    </tr>\n",
       "  </tbody>\n",
       "</table>\n",
       "<p>20543 rows × 12 columns</p>\n",
       "</div>"
      ],
      "text/plain": [
       "        month  hour  weekday  temp  humidity  winddir  visibility  cloudcover  \\\n",
       "189888      6     0        1  30.0     51.76     10.0         2.0        50.0   \n",
       "189889      6     0        1  30.0     51.76     10.0         2.0        50.0   \n",
       "189890      6     0        1  30.0     51.76     10.0         2.0        50.0   \n",
       "189891      6     1        1  21.0     94.02    330.0         2.0       100.0   \n",
       "189892      6     1        1  21.0     94.02    330.0         2.0       100.0   \n",
       "...       ...   ...      ...   ...       ...      ...         ...         ...   \n",
       "210426     12    22        4  10.0     87.38      0.0         2.0        27.4   \n",
       "210427     12    23        4   9.2     88.04      0.0         1.3        28.5   \n",
       "210428     12    23        4   9.2     88.04      0.0         1.3        28.5   \n",
       "210429     12    23        4   9.2     88.04      0.0         1.3        28.5   \n",
       "210430     12    23        4   9.2     88.04      0.0         1.3        28.5   \n",
       "\n",
       "        hour_part  day  Season  Covid_Lockdown  \n",
       "189888         15    1       2               0  \n",
       "189889         30    1       2               0  \n",
       "189890         45    1       2               0  \n",
       "189891          0    1       2               0  \n",
       "189892         15    1       2               0  \n",
       "...           ...  ...     ...             ...  \n",
       "210426         45   31       0               0  \n",
       "210427          0   31       0               0  \n",
       "210428         15   31       0               0  \n",
       "210429         30   31       0               0  \n",
       "210430         45   31       0               0  \n",
       "\n",
       "[20543 rows x 12 columns]"
      ]
     },
     "execution_count": 48,
     "metadata": {},
     "output_type": "execute_result"
    }
   ],
   "source": [
    "x_test"
   ]
  },
  {
   "cell_type": "code",
   "execution_count": 49,
   "id": "868cb3f1",
   "metadata": {},
   "outputs": [],
   "source": [
    "preds2 = model2.predict(x_test)"
   ]
  },
  {
   "cell_type": "code",
   "execution_count": 50,
   "id": "071b6d79",
   "metadata": {},
   "outputs": [
    {
     "data": {
      "text/plain": [
       "0.7290460768633998"
      ]
     },
     "execution_count": 50,
     "metadata": {},
     "output_type": "execute_result"
    }
   ],
   "source": [
    "from sklearn.metrics import r2_score\n",
    "r2_score(y_test['Haryana Load (MW)'], preds2)"
   ]
  },
  {
   "cell_type": "code",
   "execution_count": 53,
   "id": "a9e2e81a",
   "metadata": {},
   "outputs": [
    {
     "data": {
      "text/plain": [
       "1004.8354866597205"
      ]
     },
     "execution_count": 53,
     "metadata": {},
     "output_type": "execute_result"
    }
   ],
   "source": [
    "from sklearn.metrics import mean_squared_error\n",
    "rmse = np.sqrt(mean_squared_error(y_test['Haryana Load (MW)'], preds2))\n",
    "rmse"
   ]
  },
  {
   "cell_type": "code",
   "execution_count": null,
   "id": "ff503d3a",
   "metadata": {},
   "outputs": [],
   "source": []
  }
 ],
 "metadata": {
  "kernelspec": {
   "display_name": "Python 3 (ipykernel)",
   "language": "python",
   "name": "python3"
  },
  "language_info": {
   "codemirror_mode": {
    "name": "ipython",
    "version": 3
   },
   "file_extension": ".py",
   "mimetype": "text/x-python",
   "name": "python",
   "nbconvert_exporter": "python",
   "pygments_lexer": "ipython3",
   "version": "3.9.7"
  }
 },
 "nbformat": 4,
 "nbformat_minor": 5
}
