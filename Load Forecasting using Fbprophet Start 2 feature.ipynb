{
 "cells": [
  {
   "cell_type": "code",
   "execution_count": 49,
   "id": "6f470382",
   "metadata": {},
   "outputs": [],
   "source": [
    "from fbprophet import Prophet"
   ]
  },
  {
   "cell_type": "code",
   "execution_count": 98,
   "id": "4d67e398",
   "metadata": {},
   "outputs": [],
   "source": [
    "model = Prophet(changepoint_prior_scale=0.01)"
   ]
  },
  {
   "cell_type": "code",
   "execution_count": 51,
   "id": "f0354dc6",
   "metadata": {},
   "outputs": [],
   "source": [
    "import pandas as pd"
   ]
  },
  {
   "cell_type": "code",
   "execution_count": 52,
   "id": "d8f07487",
   "metadata": {},
   "outputs": [],
   "source": [
    "df = pd.read_excel('C:/Users/HP/Downloads/Final/Final/Actuals.xlsx')"
   ]
  },
  {
   "cell_type": "code",
   "execution_count": 53,
   "id": "2dca77e6",
   "metadata": {},
   "outputs": [
    {
     "data": {
      "text/html": [
       "<div>\n",
       "<style scoped>\n",
       "    .dataframe tbody tr th:only-of-type {\n",
       "        vertical-align: middle;\n",
       "    }\n",
       "\n",
       "    .dataframe tbody tr th {\n",
       "        vertical-align: top;\n",
       "    }\n",
       "\n",
       "    .dataframe thead th {\n",
       "        text-align: right;\n",
       "    }\n",
       "</style>\n",
       "<table border=\"1\" class=\"dataframe\">\n",
       "  <thead>\n",
       "    <tr style=\"text-align: right;\">\n",
       "      <th></th>\n",
       "      <th>Time</th>\n",
       "      <th>Load (kW)</th>\n",
       "      <th>Pressure_kpa</th>\n",
       "      <th>Cloud Cover (%)</th>\n",
       "      <th>Humidity (%)</th>\n",
       "      <th>Temperature (C)</th>\n",
       "      <th>Wind Direction (deg)</th>\n",
       "      <th>Wind Speed (kmh)</th>\n",
       "    </tr>\n",
       "  </thead>\n",
       "  <tbody>\n",
       "    <tr>\n",
       "      <th>0</th>\n",
       "      <td>2017-03-18 00:00:00</td>\n",
       "      <td>1.031472e+06</td>\n",
       "      <td>1012.48000</td>\n",
       "      <td>2.125</td>\n",
       "      <td>79.333333</td>\n",
       "      <td>16.764386</td>\n",
       "      <td>285.25</td>\n",
       "      <td>6.25375</td>\n",
       "    </tr>\n",
       "    <tr>\n",
       "      <th>1</th>\n",
       "      <td>2017-03-18 01:00:00</td>\n",
       "      <td>1.007206e+06</td>\n",
       "      <td>1011.61875</td>\n",
       "      <td>0.000</td>\n",
       "      <td>82.166667</td>\n",
       "      <td>15.729386</td>\n",
       "      <td>285.00</td>\n",
       "      <td>9.20500</td>\n",
       "    </tr>\n",
       "    <tr>\n",
       "      <th>2</th>\n",
       "      <td>2017-03-18 02:00:00</td>\n",
       "      <td>9.861084e+05</td>\n",
       "      <td>1010.72000</td>\n",
       "      <td>2.125</td>\n",
       "      <td>81.666667</td>\n",
       "      <td>15.816886</td>\n",
       "      <td>316.00</td>\n",
       "      <td>11.28375</td>\n",
       "    </tr>\n",
       "    <tr>\n",
       "      <th>3</th>\n",
       "      <td>2017-03-18 03:00:00</td>\n",
       "      <td>9.707610e+05</td>\n",
       "      <td>1011.37625</td>\n",
       "      <td>17.125</td>\n",
       "      <td>82.250000</td>\n",
       "      <td>15.919386</td>\n",
       "      <td>327.00</td>\n",
       "      <td>7.16875</td>\n",
       "    </tr>\n",
       "    <tr>\n",
       "      <th>4</th>\n",
       "      <td>2017-03-18 04:00:00</td>\n",
       "      <td>9.622584e+05</td>\n",
       "      <td>1011.50000</td>\n",
       "      <td>18.625</td>\n",
       "      <td>82.333333</td>\n",
       "      <td>15.769386</td>\n",
       "      <td>282.25</td>\n",
       "      <td>0.78000</td>\n",
       "    </tr>\n",
       "  </tbody>\n",
       "</table>\n",
       "</div>"
      ],
      "text/plain": [
       "                 Time     Load (kW)  Pressure_kpa  Cloud Cover (%)  \\\n",
       "0 2017-03-18 00:00:00  1.031472e+06    1012.48000            2.125   \n",
       "1 2017-03-18 01:00:00  1.007206e+06    1011.61875            0.000   \n",
       "2 2017-03-18 02:00:00  9.861084e+05    1010.72000            2.125   \n",
       "3 2017-03-18 03:00:00  9.707610e+05    1011.37625           17.125   \n",
       "4 2017-03-18 04:00:00  9.622584e+05    1011.50000           18.625   \n",
       "\n",
       "   Humidity (%)  Temperature (C)   Wind Direction (deg)  Wind Speed (kmh)  \n",
       "0     79.333333         16.764386                285.25           6.25375  \n",
       "1     82.166667         15.729386                285.00           9.20500  \n",
       "2     81.666667         15.816886                316.00          11.28375  \n",
       "3     82.250000         15.919386                327.00           7.16875  \n",
       "4     82.333333         15.769386                282.25           0.78000  "
      ]
     },
     "execution_count": 53,
     "metadata": {},
     "output_type": "execute_result"
    }
   ],
   "source": [
    "df.head()"
   ]
  },
  {
   "cell_type": "code",
   "execution_count": 54,
   "id": "58038f41",
   "metadata": {},
   "outputs": [],
   "source": [
    "df1 = pd.DataFrame(df['Time'])"
   ]
  },
  {
   "cell_type": "code",
   "execution_count": 55,
   "id": "9c2742db",
   "metadata": {},
   "outputs": [],
   "source": [
    "df2 = pd.DataFrame(df['Load (kW)'])"
   ]
  },
  {
   "cell_type": "code",
   "execution_count": 85,
   "id": "69b7841c",
   "metadata": {},
   "outputs": [],
   "source": [
    "df3 = pd.concat([df1, df2], axis = 1)"
   ]
  },
  {
   "cell_type": "code",
   "execution_count": 86,
   "id": "03708dcf",
   "metadata": {},
   "outputs": [
    {
     "data": {
      "text/html": [
       "<div>\n",
       "<style scoped>\n",
       "    .dataframe tbody tr th:only-of-type {\n",
       "        vertical-align: middle;\n",
       "    }\n",
       "\n",
       "    .dataframe tbody tr th {\n",
       "        vertical-align: top;\n",
       "    }\n",
       "\n",
       "    .dataframe thead th {\n",
       "        text-align: right;\n",
       "    }\n",
       "</style>\n",
       "<table border=\"1\" class=\"dataframe\">\n",
       "  <thead>\n",
       "    <tr style=\"text-align: right;\">\n",
       "      <th></th>\n",
       "      <th>Load (kW)</th>\n",
       "    </tr>\n",
       "  </thead>\n",
       "  <tbody>\n",
       "    <tr>\n",
       "      <th>count</th>\n",
       "      <td>3.191200e+04</td>\n",
       "    </tr>\n",
       "    <tr>\n",
       "      <th>mean</th>\n",
       "      <td>1.152567e+06</td>\n",
       "    </tr>\n",
       "    <tr>\n",
       "      <th>std</th>\n",
       "      <td>1.506257e+05</td>\n",
       "    </tr>\n",
       "    <tr>\n",
       "      <th>min</th>\n",
       "      <td>8.454714e+05</td>\n",
       "    </tr>\n",
       "    <tr>\n",
       "      <th>25%</th>\n",
       "      <td>1.031650e+06</td>\n",
       "    </tr>\n",
       "    <tr>\n",
       "      <th>50%</th>\n",
       "      <td>1.114812e+06</td>\n",
       "    </tr>\n",
       "    <tr>\n",
       "      <th>75%</th>\n",
       "      <td>1.259393e+06</td>\n",
       "    </tr>\n",
       "    <tr>\n",
       "      <th>max</th>\n",
       "      <td>1.605192e+06</td>\n",
       "    </tr>\n",
       "  </tbody>\n",
       "</table>\n",
       "</div>"
      ],
      "text/plain": [
       "          Load (kW)\n",
       "count  3.191200e+04\n",
       "mean   1.152567e+06\n",
       "std    1.506257e+05\n",
       "min    8.454714e+05\n",
       "25%    1.031650e+06\n",
       "50%    1.114812e+06\n",
       "75%    1.259393e+06\n",
       "max    1.605192e+06"
      ]
     },
     "execution_count": 86,
     "metadata": {},
     "output_type": "execute_result"
    }
   ],
   "source": [
    "df3.describe()"
   ]
  },
  {
   "cell_type": "code",
   "execution_count": 87,
   "id": "5fe3881f",
   "metadata": {},
   "outputs": [
    {
     "name": "stdout",
     "output_type": "stream",
     "text": [
      "<class 'pandas.core.frame.DataFrame'>\n",
      "RangeIndex: 31912 entries, 0 to 31911\n",
      "Data columns (total 2 columns):\n",
      " #   Column     Non-Null Count  Dtype         \n",
      "---  ------     --------------  -----         \n",
      " 0   Time       31912 non-null  datetime64[ns]\n",
      " 1   Load (kW)  31912 non-null  float64       \n",
      "dtypes: datetime64[ns](1), float64(1)\n",
      "memory usage: 498.8 KB\n"
     ]
    }
   ],
   "source": [
    "df3.info()"
   ]
  },
  {
   "cell_type": "code",
   "execution_count": 88,
   "id": "b8e0dbc6",
   "metadata": {},
   "outputs": [
    {
     "data": {
      "text/html": [
       "<div>\n",
       "<style scoped>\n",
       "    .dataframe tbody tr th:only-of-type {\n",
       "        vertical-align: middle;\n",
       "    }\n",
       "\n",
       "    .dataframe tbody tr th {\n",
       "        vertical-align: top;\n",
       "    }\n",
       "\n",
       "    .dataframe thead th {\n",
       "        text-align: right;\n",
       "    }\n",
       "</style>\n",
       "<table border=\"1\" class=\"dataframe\">\n",
       "  <thead>\n",
       "    <tr style=\"text-align: right;\">\n",
       "      <th></th>\n",
       "      <th>Time</th>\n",
       "      <th>Load (kW)</th>\n",
       "    </tr>\n",
       "  </thead>\n",
       "  <tbody>\n",
       "    <tr>\n",
       "      <th>0</th>\n",
       "      <td>2017-03-18 00:00:00</td>\n",
       "      <td>1.031472e+06</td>\n",
       "    </tr>\n",
       "    <tr>\n",
       "      <th>1</th>\n",
       "      <td>2017-03-18 01:00:00</td>\n",
       "      <td>1.007206e+06</td>\n",
       "    </tr>\n",
       "    <tr>\n",
       "      <th>2</th>\n",
       "      <td>2017-03-18 02:00:00</td>\n",
       "      <td>9.861084e+05</td>\n",
       "    </tr>\n",
       "    <tr>\n",
       "      <th>3</th>\n",
       "      <td>2017-03-18 03:00:00</td>\n",
       "      <td>9.707610e+05</td>\n",
       "    </tr>\n",
       "    <tr>\n",
       "      <th>4</th>\n",
       "      <td>2017-03-18 04:00:00</td>\n",
       "      <td>9.622584e+05</td>\n",
       "    </tr>\n",
       "  </tbody>\n",
       "</table>\n",
       "</div>"
      ],
      "text/plain": [
       "                 Time     Load (kW)\n",
       "0 2017-03-18 00:00:00  1.031472e+06\n",
       "1 2017-03-18 01:00:00  1.007206e+06\n",
       "2 2017-03-18 02:00:00  9.861084e+05\n",
       "3 2017-03-18 03:00:00  9.707610e+05\n",
       "4 2017-03-18 04:00:00  9.622584e+05"
      ]
     },
     "execution_count": 88,
     "metadata": {},
     "output_type": "execute_result"
    }
   ],
   "source": [
    "df3.head()"
   ]
  },
  {
   "cell_type": "code",
   "execution_count": 89,
   "id": "2a13fa51",
   "metadata": {},
   "outputs": [
    {
     "data": {
      "text/html": [
       "<div>\n",
       "<style scoped>\n",
       "    .dataframe tbody tr th:only-of-type {\n",
       "        vertical-align: middle;\n",
       "    }\n",
       "\n",
       "    .dataframe tbody tr th {\n",
       "        vertical-align: top;\n",
       "    }\n",
       "\n",
       "    .dataframe thead th {\n",
       "        text-align: right;\n",
       "    }\n",
       "</style>\n",
       "<table border=\"1\" class=\"dataframe\">\n",
       "  <thead>\n",
       "    <tr style=\"text-align: right;\">\n",
       "      <th></th>\n",
       "      <th>Time</th>\n",
       "      <th>Load (kW)</th>\n",
       "    </tr>\n",
       "  </thead>\n",
       "  <tbody>\n",
       "    <tr>\n",
       "      <th>31907</th>\n",
       "      <td>2020-11-06 11:00:00</td>\n",
       "      <td>1.242830e+06</td>\n",
       "    </tr>\n",
       "    <tr>\n",
       "      <th>31908</th>\n",
       "      <td>2020-11-06 12:00:00</td>\n",
       "      <td>1.239480e+06</td>\n",
       "    </tr>\n",
       "    <tr>\n",
       "      <th>31909</th>\n",
       "      <td>2020-11-06 13:00:00</td>\n",
       "      <td>1.234773e+06</td>\n",
       "    </tr>\n",
       "    <tr>\n",
       "      <th>31910</th>\n",
       "      <td>2020-11-06 14:00:00</td>\n",
       "      <td>1.240140e+06</td>\n",
       "    </tr>\n",
       "    <tr>\n",
       "      <th>31911</th>\n",
       "      <td>2020-11-06 15:00:00</td>\n",
       "      <td>1.222309e+06</td>\n",
       "    </tr>\n",
       "  </tbody>\n",
       "</table>\n",
       "</div>"
      ],
      "text/plain": [
       "                     Time     Load (kW)\n",
       "31907 2020-11-06 11:00:00  1.242830e+06\n",
       "31908 2020-11-06 12:00:00  1.239480e+06\n",
       "31909 2020-11-06 13:00:00  1.234773e+06\n",
       "31910 2020-11-06 14:00:00  1.240140e+06\n",
       "31911 2020-11-06 15:00:00  1.222309e+06"
      ]
     },
     "execution_count": 89,
     "metadata": {},
     "output_type": "execute_result"
    }
   ],
   "source": [
    "df3.tail()"
   ]
  },
  {
   "cell_type": "code",
   "execution_count": 90,
   "id": "cb232151",
   "metadata": {},
   "outputs": [],
   "source": [
    "df3 = df3.rename(columns = {'Time': 'ds'})"
   ]
  },
  {
   "cell_type": "code",
   "execution_count": 91,
   "id": "f6c98339",
   "metadata": {},
   "outputs": [],
   "source": [
    "df3 = df3.rename(columns = {'Load (kW)': 'y'})"
   ]
  },
  {
   "cell_type": "code",
   "execution_count": 92,
   "id": "32779878",
   "metadata": {},
   "outputs": [
    {
     "data": {
      "text/html": [
       "<div>\n",
       "<style scoped>\n",
       "    .dataframe tbody tr th:only-of-type {\n",
       "        vertical-align: middle;\n",
       "    }\n",
       "\n",
       "    .dataframe tbody tr th {\n",
       "        vertical-align: top;\n",
       "    }\n",
       "\n",
       "    .dataframe thead th {\n",
       "        text-align: right;\n",
       "    }\n",
       "</style>\n",
       "<table border=\"1\" class=\"dataframe\">\n",
       "  <thead>\n",
       "    <tr style=\"text-align: right;\">\n",
       "      <th></th>\n",
       "      <th>ds</th>\n",
       "      <th>y</th>\n",
       "    </tr>\n",
       "  </thead>\n",
       "  <tbody>\n",
       "    <tr>\n",
       "      <th>0</th>\n",
       "      <td>2017-03-18 00:00:00</td>\n",
       "      <td>1.031472e+06</td>\n",
       "    </tr>\n",
       "    <tr>\n",
       "      <th>1</th>\n",
       "      <td>2017-03-18 01:00:00</td>\n",
       "      <td>1.007206e+06</td>\n",
       "    </tr>\n",
       "    <tr>\n",
       "      <th>2</th>\n",
       "      <td>2017-03-18 02:00:00</td>\n",
       "      <td>9.861084e+05</td>\n",
       "    </tr>\n",
       "    <tr>\n",
       "      <th>3</th>\n",
       "      <td>2017-03-18 03:00:00</td>\n",
       "      <td>9.707610e+05</td>\n",
       "    </tr>\n",
       "    <tr>\n",
       "      <th>4</th>\n",
       "      <td>2017-03-18 04:00:00</td>\n",
       "      <td>9.622584e+05</td>\n",
       "    </tr>\n",
       "  </tbody>\n",
       "</table>\n",
       "</div>"
      ],
      "text/plain": [
       "                   ds             y\n",
       "0 2017-03-18 00:00:00  1.031472e+06\n",
       "1 2017-03-18 01:00:00  1.007206e+06\n",
       "2 2017-03-18 02:00:00  9.861084e+05\n",
       "3 2017-03-18 03:00:00  9.707610e+05\n",
       "4 2017-03-18 04:00:00  9.622584e+05"
      ]
     },
     "execution_count": 92,
     "metadata": {},
     "output_type": "execute_result"
    }
   ],
   "source": [
    "df3.head()"
   ]
  },
  {
   "cell_type": "code",
   "execution_count": 93,
   "id": "62a90ac1",
   "metadata": {},
   "outputs": [
    {
     "name": "stdout",
     "output_type": "stream",
     "text": [
      "<class 'pandas.core.frame.DataFrame'>\n",
      "RangeIndex: 31912 entries, 0 to 31911\n",
      "Data columns (total 2 columns):\n",
      " #   Column  Non-Null Count  Dtype         \n",
      "---  ------  --------------  -----         \n",
      " 0   ds      31912 non-null  datetime64[ns]\n",
      " 1   y       31912 non-null  float64       \n",
      "dtypes: datetime64[ns](1), float64(1)\n",
      "memory usage: 498.8 KB\n"
     ]
    }
   ],
   "source": [
    "df3.info()"
   ]
  },
  {
   "cell_type": "code",
   "execution_count": 94,
   "id": "fe0c7b06",
   "metadata": {},
   "outputs": [],
   "source": [
    "#df3['y'] = df3['y'].fillna(df3['y'].mean())\n",
    "#df3"
   ]
  },
  {
   "cell_type": "code",
   "execution_count": 95,
   "id": "fb797e79",
   "metadata": {},
   "outputs": [],
   "source": [
    "#df3 = df3.dropna()"
   ]
  },
  {
   "cell_type": "code",
   "execution_count": 96,
   "id": "973c462c",
   "metadata": {},
   "outputs": [
    {
     "data": {
      "text/html": [
       "<div>\n",
       "<style scoped>\n",
       "    .dataframe tbody tr th:only-of-type {\n",
       "        vertical-align: middle;\n",
       "    }\n",
       "\n",
       "    .dataframe tbody tr th {\n",
       "        vertical-align: top;\n",
       "    }\n",
       "\n",
       "    .dataframe thead th {\n",
       "        text-align: right;\n",
       "    }\n",
       "</style>\n",
       "<table border=\"1\" class=\"dataframe\">\n",
       "  <thead>\n",
       "    <tr style=\"text-align: right;\">\n",
       "      <th></th>\n",
       "      <th>ds</th>\n",
       "      <th>y</th>\n",
       "    </tr>\n",
       "  </thead>\n",
       "  <tbody>\n",
       "    <tr>\n",
       "      <th>0</th>\n",
       "      <td>2017-03-18 00:00:00</td>\n",
       "      <td>1.031472e+06</td>\n",
       "    </tr>\n",
       "    <tr>\n",
       "      <th>1</th>\n",
       "      <td>2017-03-18 01:00:00</td>\n",
       "      <td>1.007206e+06</td>\n",
       "    </tr>\n",
       "    <tr>\n",
       "      <th>2</th>\n",
       "      <td>2017-03-18 02:00:00</td>\n",
       "      <td>9.861084e+05</td>\n",
       "    </tr>\n",
       "    <tr>\n",
       "      <th>3</th>\n",
       "      <td>2017-03-18 03:00:00</td>\n",
       "      <td>9.707610e+05</td>\n",
       "    </tr>\n",
       "    <tr>\n",
       "      <th>4</th>\n",
       "      <td>2017-03-18 04:00:00</td>\n",
       "      <td>9.622584e+05</td>\n",
       "    </tr>\n",
       "    <tr>\n",
       "      <th>...</th>\n",
       "      <td>...</td>\n",
       "      <td>...</td>\n",
       "    </tr>\n",
       "    <tr>\n",
       "      <th>31907</th>\n",
       "      <td>2020-11-06 11:00:00</td>\n",
       "      <td>1.242830e+06</td>\n",
       "    </tr>\n",
       "    <tr>\n",
       "      <th>31908</th>\n",
       "      <td>2020-11-06 12:00:00</td>\n",
       "      <td>1.239480e+06</td>\n",
       "    </tr>\n",
       "    <tr>\n",
       "      <th>31909</th>\n",
       "      <td>2020-11-06 13:00:00</td>\n",
       "      <td>1.234773e+06</td>\n",
       "    </tr>\n",
       "    <tr>\n",
       "      <th>31910</th>\n",
       "      <td>2020-11-06 14:00:00</td>\n",
       "      <td>1.240140e+06</td>\n",
       "    </tr>\n",
       "    <tr>\n",
       "      <th>31911</th>\n",
       "      <td>2020-11-06 15:00:00</td>\n",
       "      <td>1.222309e+06</td>\n",
       "    </tr>\n",
       "  </tbody>\n",
       "</table>\n",
       "<p>31912 rows × 2 columns</p>\n",
       "</div>"
      ],
      "text/plain": [
       "                       ds             y\n",
       "0     2017-03-18 00:00:00  1.031472e+06\n",
       "1     2017-03-18 01:00:00  1.007206e+06\n",
       "2     2017-03-18 02:00:00  9.861084e+05\n",
       "3     2017-03-18 03:00:00  9.707610e+05\n",
       "4     2017-03-18 04:00:00  9.622584e+05\n",
       "...                   ...           ...\n",
       "31907 2020-11-06 11:00:00  1.242830e+06\n",
       "31908 2020-11-06 12:00:00  1.239480e+06\n",
       "31909 2020-11-06 13:00:00  1.234773e+06\n",
       "31910 2020-11-06 14:00:00  1.240140e+06\n",
       "31911 2020-11-06 15:00:00  1.222309e+06\n",
       "\n",
       "[31912 rows x 2 columns]"
      ]
     },
     "execution_count": 96,
     "metadata": {},
     "output_type": "execute_result"
    }
   ],
   "source": [
    "df3"
   ]
  },
  {
   "cell_type": "code",
   "execution_count": 99,
   "id": "9576d41a",
   "metadata": {},
   "outputs": [
    {
     "data": {
      "text/plain": [
       "<fbprophet.forecaster.Prophet at 0x24326033b20>"
      ]
     },
     "execution_count": 99,
     "metadata": {},
     "output_type": "execute_result"
    }
   ],
   "source": [
    "model.fit(df3)"
   ]
  },
  {
   "cell_type": "code",
   "execution_count": 101,
   "id": "d8bb3d3a",
   "metadata": {},
   "outputs": [
    {
     "data": {
      "text/html": [
       "<div>\n",
       "<style scoped>\n",
       "    .dataframe tbody tr th:only-of-type {\n",
       "        vertical-align: middle;\n",
       "    }\n",
       "\n",
       "    .dataframe tbody tr th {\n",
       "        vertical-align: top;\n",
       "    }\n",
       "\n",
       "    .dataframe thead th {\n",
       "        text-align: right;\n",
       "    }\n",
       "</style>\n",
       "<table border=\"1\" class=\"dataframe\">\n",
       "  <thead>\n",
       "    <tr style=\"text-align: right;\">\n",
       "      <th></th>\n",
       "      <th>ds</th>\n",
       "    </tr>\n",
       "  </thead>\n",
       "  <tbody>\n",
       "    <tr>\n",
       "      <th>36287</th>\n",
       "      <td>2021-05-07 23:00:00</td>\n",
       "    </tr>\n",
       "    <tr>\n",
       "      <th>36288</th>\n",
       "      <td>2021-05-08 00:00:00</td>\n",
       "    </tr>\n",
       "    <tr>\n",
       "      <th>36289</th>\n",
       "      <td>2021-05-08 01:00:00</td>\n",
       "    </tr>\n",
       "    <tr>\n",
       "      <th>36290</th>\n",
       "      <td>2021-05-08 02:00:00</td>\n",
       "    </tr>\n",
       "    <tr>\n",
       "      <th>36291</th>\n",
       "      <td>2021-05-08 03:00:00</td>\n",
       "    </tr>\n",
       "  </tbody>\n",
       "</table>\n",
       "</div>"
      ],
      "text/plain": [
       "                       ds\n",
       "36287 2021-05-07 23:00:00\n",
       "36288 2021-05-08 00:00:00\n",
       "36289 2021-05-08 01:00:00\n",
       "36290 2021-05-08 02:00:00\n",
       "36291 2021-05-08 03:00:00"
      ]
     },
     "execution_count": 101,
     "metadata": {},
     "output_type": "execute_result"
    }
   ],
   "source": [
    "future = model.make_future_dataframe(periods = int(24*365/2), freq = 'H')\n",
    "future.tail()"
   ]
  },
  {
   "cell_type": "code",
   "execution_count": 102,
   "id": "5ee32a74",
   "metadata": {},
   "outputs": [
    {
     "data": {
      "text/html": [
       "<div>\n",
       "<style scoped>\n",
       "    .dataframe tbody tr th:only-of-type {\n",
       "        vertical-align: middle;\n",
       "    }\n",
       "\n",
       "    .dataframe tbody tr th {\n",
       "        vertical-align: top;\n",
       "    }\n",
       "\n",
       "    .dataframe thead th {\n",
       "        text-align: right;\n",
       "    }\n",
       "</style>\n",
       "<table border=\"1\" class=\"dataframe\">\n",
       "  <thead>\n",
       "    <tr style=\"text-align: right;\">\n",
       "      <th></th>\n",
       "      <th>ds</th>\n",
       "    </tr>\n",
       "  </thead>\n",
       "  <tbody>\n",
       "    <tr>\n",
       "      <th>0</th>\n",
       "      <td>2017-03-18 00:00:00</td>\n",
       "    </tr>\n",
       "    <tr>\n",
       "      <th>1</th>\n",
       "      <td>2017-03-18 01:00:00</td>\n",
       "    </tr>\n",
       "    <tr>\n",
       "      <th>2</th>\n",
       "      <td>2017-03-18 02:00:00</td>\n",
       "    </tr>\n",
       "    <tr>\n",
       "      <th>3</th>\n",
       "      <td>2017-03-18 03:00:00</td>\n",
       "    </tr>\n",
       "    <tr>\n",
       "      <th>4</th>\n",
       "      <td>2017-03-18 04:00:00</td>\n",
       "    </tr>\n",
       "  </tbody>\n",
       "</table>\n",
       "</div>"
      ],
      "text/plain": [
       "                   ds\n",
       "0 2017-03-18 00:00:00\n",
       "1 2017-03-18 01:00:00\n",
       "2 2017-03-18 02:00:00\n",
       "3 2017-03-18 03:00:00\n",
       "4 2017-03-18 04:00:00"
      ]
     },
     "execution_count": 102,
     "metadata": {},
     "output_type": "execute_result"
    }
   ],
   "source": [
    "future.head()"
   ]
  },
  {
   "cell_type": "code",
   "execution_count": 103,
   "id": "d0f4133f",
   "metadata": {},
   "outputs": [
    {
     "data": {
      "text/html": [
       "<div>\n",
       "<style scoped>\n",
       "    .dataframe tbody tr th:only-of-type {\n",
       "        vertical-align: middle;\n",
       "    }\n",
       "\n",
       "    .dataframe tbody tr th {\n",
       "        vertical-align: top;\n",
       "    }\n",
       "\n",
       "    .dataframe thead th {\n",
       "        text-align: right;\n",
       "    }\n",
       "</style>\n",
       "<table border=\"1\" class=\"dataframe\">\n",
       "  <thead>\n",
       "    <tr style=\"text-align: right;\">\n",
       "      <th></th>\n",
       "      <th>ds</th>\n",
       "      <th>yhat</th>\n",
       "      <th>yhat_lower</th>\n",
       "      <th>yhat_upper</th>\n",
       "    </tr>\n",
       "  </thead>\n",
       "  <tbody>\n",
       "    <tr>\n",
       "      <th>36287</th>\n",
       "      <td>2021-05-07 23:00:00</td>\n",
       "      <td>898487.044873</td>\n",
       "      <td>726000.112391</td>\n",
       "      <td>1.069964e+06</td>\n",
       "    </tr>\n",
       "    <tr>\n",
       "      <th>36288</th>\n",
       "      <td>2021-05-08 00:00:00</td>\n",
       "      <td>870122.627738</td>\n",
       "      <td>706169.210567</td>\n",
       "      <td>1.040311e+06</td>\n",
       "    </tr>\n",
       "    <tr>\n",
       "      <th>36289</th>\n",
       "      <td>2021-05-08 01:00:00</td>\n",
       "      <td>847818.107908</td>\n",
       "      <td>674289.554909</td>\n",
       "      <td>1.019405e+06</td>\n",
       "    </tr>\n",
       "    <tr>\n",
       "      <th>36290</th>\n",
       "      <td>2021-05-08 02:00:00</td>\n",
       "      <td>831812.844276</td>\n",
       "      <td>665435.699344</td>\n",
       "      <td>1.009254e+06</td>\n",
       "    </tr>\n",
       "    <tr>\n",
       "      <th>36291</th>\n",
       "      <td>2021-05-08 03:00:00</td>\n",
       "      <td>818063.402533</td>\n",
       "      <td>648338.744661</td>\n",
       "      <td>9.891940e+05</td>\n",
       "    </tr>\n",
       "  </tbody>\n",
       "</table>\n",
       "</div>"
      ],
      "text/plain": [
       "                       ds           yhat     yhat_lower    yhat_upper\n",
       "36287 2021-05-07 23:00:00  898487.044873  726000.112391  1.069964e+06\n",
       "36288 2021-05-08 00:00:00  870122.627738  706169.210567  1.040311e+06\n",
       "36289 2021-05-08 01:00:00  847818.107908  674289.554909  1.019405e+06\n",
       "36290 2021-05-08 02:00:00  831812.844276  665435.699344  1.009254e+06\n",
       "36291 2021-05-08 03:00:00  818063.402533  648338.744661  9.891940e+05"
      ]
     },
     "execution_count": 103,
     "metadata": {},
     "output_type": "execute_result"
    }
   ],
   "source": [
    "forecast = model.predict(future)\n",
    "forecast[['ds', 'yhat', 'yhat_lower', 'yhat_upper']].tail()"
   ]
  },
  {
   "cell_type": "code",
   "execution_count": 104,
   "id": "d8f1a811",
   "metadata": {},
   "outputs": [
    {
     "data": {
      "image/png": "[encoded data removed]",
      "text/plain": [
       "<Figure size 720x432 with 1 Axes>"
      ]
     },
     "execution_count": 104,
     "metadata": {},
     "output_type": "execute_result"
    },
    {
     "data": {
      "image/png": "[encoded data removed]",
      "text/plain": [
       "<Figure size 720x432 with 1 Axes>"
      ]
     },
     "metadata": {},
     "output_type": "display_data"
    }
   ],
   "source": [
    "model.plot(forecast)"
   ]
  },
  {
   "cell_type": "code",
   "execution_count": null,
   "id": "290f05fd",
   "metadata": {},
   "outputs": [],
   "source": []
  }
 ],
 "metadata": {
  "kernelspec": {
   "display_name": "Python 3 (ipykernel)",
   "language": "python",
   "name": "python3"
  },
  "language_info": {
   "codemirror_mode": {
    "name": "ipython",
    "version": 3
   },
   "file_extension": ".py",
   "mimetype": "text/x-python",
   "name": "python",
   "nbconvert_exporter": "python",
   "pygments_lexer": "ipython3",
   "version": "3.9.7"
  }
 },
 "nbformat": 4,
 "nbformat_minor": 5
}
