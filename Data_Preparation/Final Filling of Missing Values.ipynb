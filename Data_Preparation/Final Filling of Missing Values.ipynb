{
 "cells": [
  {
   "cell_type": "code",
   "execution_count": 21,
   "id": "c1d30854",
   "metadata": {},
   "outputs": [],
   "source": [
    "import pandas as pd"
   ]
  },
  {
   "cell_type": "code",
   "execution_count": 22,
   "id": "40b9b004",
   "metadata": {},
   "outputs": [],
   "source": [
    "df = pd.read_csv('Load_Data_V1_Final_Complete.csv')"
   ]
  },
  {
   "cell_type": "code",
   "execution_count": 23,
   "id": "1cabed65",
   "metadata": {},
   "outputs": [],
   "source": [
    "df.drop(columns = ['Unnamed: 0', 'index', 'Unnamed: 0.1'], inplace=True)"
   ]
  },
  {
   "cell_type": "code",
   "execution_count": 24,
   "id": "bb132f98",
   "metadata": {},
   "outputs": [
    {
     "data": {
      "text/html": [
       "<div>\n",
       "<style scoped>\n",
       "    .dataframe tbody tr th:only-of-type {\n",
       "        vertical-align: middle;\n",
       "    }\n",
       "\n",
       "    .dataframe tbody tr th {\n",
       "        vertical-align: top;\n",
       "    }\n",
       "\n",
       "    .dataframe thead th {\n",
       "        text-align: right;\n",
       "    }\n",
       "</style>\n",
       "<table border=\"1\" class=\"dataframe\">\n",
       "  <thead>\n",
       "    <tr style=\"text-align: right;\">\n",
       "      <th></th>\n",
       "      <th>Date</th>\n",
       "      <th>Haryana Load (MW)</th>\n",
       "    </tr>\n",
       "  </thead>\n",
       "  <tbody>\n",
       "    <tr>\n",
       "      <th>0</th>\n",
       "      <td>2016-01-01 00:00:00</td>\n",
       "      <td>NaN</td>\n",
       "    </tr>\n",
       "    <tr>\n",
       "      <th>1</th>\n",
       "      <td>2016-01-01 00:15:00</td>\n",
       "      <td>4099.37</td>\n",
       "    </tr>\n",
       "    <tr>\n",
       "      <th>2</th>\n",
       "      <td>2016-01-01 00:30:00</td>\n",
       "      <td>3995.64</td>\n",
       "    </tr>\n",
       "    <tr>\n",
       "      <th>3</th>\n",
       "      <td>2016-01-01 00:45:00</td>\n",
       "      <td>3954.80</td>\n",
       "    </tr>\n",
       "    <tr>\n",
       "      <th>4</th>\n",
       "      <td>2016-01-01 01:00:00</td>\n",
       "      <td>3904.93</td>\n",
       "    </tr>\n",
       "    <tr>\n",
       "      <th>...</th>\n",
       "      <td>...</td>\n",
       "      <td>...</td>\n",
       "    </tr>\n",
       "    <tr>\n",
       "      <th>210427</th>\n",
       "      <td>2021-12-31 22:45:00</td>\n",
       "      <td>4712.55</td>\n",
       "    </tr>\n",
       "    <tr>\n",
       "      <th>210428</th>\n",
       "      <td>2021-12-31 23:00:00</td>\n",
       "      <td>4649.58</td>\n",
       "    </tr>\n",
       "    <tr>\n",
       "      <th>210429</th>\n",
       "      <td>2021-12-31 23:15:00</td>\n",
       "      <td>4571.39</td>\n",
       "    </tr>\n",
       "    <tr>\n",
       "      <th>210430</th>\n",
       "      <td>2021-12-31 23:30:00</td>\n",
       "      <td>4510.39</td>\n",
       "    </tr>\n",
       "    <tr>\n",
       "      <th>210431</th>\n",
       "      <td>2021-12-31 23:45:00</td>\n",
       "      <td>4449.94</td>\n",
       "    </tr>\n",
       "  </tbody>\n",
       "</table>\n",
       "<p>210432 rows × 2 columns</p>\n",
       "</div>"
      ],
      "text/plain": [
       "                       Date  Haryana Load (MW)\n",
       "0       2016-01-01 00:00:00                NaN\n",
       "1       2016-01-01 00:15:00            4099.37\n",
       "2       2016-01-01 00:30:00            3995.64\n",
       "3       2016-01-01 00:45:00            3954.80\n",
       "4       2016-01-01 01:00:00            3904.93\n",
       "...                     ...                ...\n",
       "210427  2021-12-31 22:45:00            4712.55\n",
       "210428  2021-12-31 23:00:00            4649.58\n",
       "210429  2021-12-31 23:15:00            4571.39\n",
       "210430  2021-12-31 23:30:00            4510.39\n",
       "210431  2021-12-31 23:45:00            4449.94\n",
       "\n",
       "[210432 rows x 2 columns]"
      ]
     },
     "execution_count": 24,
     "metadata": {},
     "output_type": "execute_result"
    }
   ],
   "source": [
    "df"
   ]
  },
  {
   "cell_type": "code",
   "execution_count": 25,
   "id": "21fdb411",
   "metadata": {},
   "outputs": [],
   "source": [
    "df_2020 = pd.read_csv('2020_Load_Data.csv')"
   ]
  },
  {
   "cell_type": "code",
   "execution_count": 26,
   "id": "0ab6215c",
   "metadata": {},
   "outputs": [],
   "source": [
    "df_2020.drop(columns=['Unnamed: 0'], inplace=True)"
   ]
  },
  {
   "cell_type": "code",
   "execution_count": 30,
   "id": "3cb35bae",
   "metadata": {},
   "outputs": [
    {
     "data": {
      "text/plain": [
       "'2016-01'"
      ]
     },
     "execution_count": 30,
     "metadata": {},
     "output_type": "execute_result"
    }
   ],
   "source": [
    "df.Date[0][:7]#.dt.year == 2020"
   ]
  },
  {
   "cell_type": "code",
   "execution_count": 42,
   "id": "b1e4f511",
   "metadata": {},
   "outputs": [],
   "source": [
    "df.drop(columns = ['index'], inplace= True)"
   ]
  },
  {
   "cell_type": "code",
   "execution_count": 44,
   "id": "be8be31e",
   "metadata": {},
   "outputs": [
    {
     "data": {
      "text/html": [
       "<div>\n",
       "<style scoped>\n",
       "    .dataframe tbody tr th:only-of-type {\n",
       "        vertical-align: middle;\n",
       "    }\n",
       "\n",
       "    .dataframe tbody tr th {\n",
       "        vertical-align: top;\n",
       "    }\n",
       "\n",
       "    .dataframe thead th {\n",
       "        text-align: right;\n",
       "    }\n",
       "</style>\n",
       "<table border=\"1\" class=\"dataframe\">\n",
       "  <thead>\n",
       "    <tr style=\"text-align: right;\">\n",
       "      <th></th>\n",
       "      <th>Date</th>\n",
       "      <th>Haryana Load (MW)</th>\n",
       "    </tr>\n",
       "  </thead>\n",
       "  <tbody>\n",
       "    <tr>\n",
       "      <th>0</th>\n",
       "      <td>2016-01-01 00:00:00</td>\n",
       "      <td>NaN</td>\n",
       "    </tr>\n",
       "    <tr>\n",
       "      <th>1</th>\n",
       "      <td>2016-01-01 00:15:00</td>\n",
       "      <td>4099.37</td>\n",
       "    </tr>\n",
       "    <tr>\n",
       "      <th>2</th>\n",
       "      <td>2016-01-01 00:30:00</td>\n",
       "      <td>3995.64</td>\n",
       "    </tr>\n",
       "    <tr>\n",
       "      <th>3</th>\n",
       "      <td>2016-01-01 00:45:00</td>\n",
       "      <td>3954.80</td>\n",
       "    </tr>\n",
       "    <tr>\n",
       "      <th>4</th>\n",
       "      <td>2016-01-01 01:00:00</td>\n",
       "      <td>3904.93</td>\n",
       "    </tr>\n",
       "    <tr>\n",
       "      <th>...</th>\n",
       "      <td>...</td>\n",
       "      <td>...</td>\n",
       "    </tr>\n",
       "    <tr>\n",
       "      <th>210427</th>\n",
       "      <td>2021-12-31 22:45:00</td>\n",
       "      <td>4712.55</td>\n",
       "    </tr>\n",
       "    <tr>\n",
       "      <th>210428</th>\n",
       "      <td>2021-12-31 23:00:00</td>\n",
       "      <td>4649.58</td>\n",
       "    </tr>\n",
       "    <tr>\n",
       "      <th>210429</th>\n",
       "      <td>2021-12-31 23:15:00</td>\n",
       "      <td>4571.39</td>\n",
       "    </tr>\n",
       "    <tr>\n",
       "      <th>210430</th>\n",
       "      <td>2021-12-31 23:30:00</td>\n",
       "      <td>4510.39</td>\n",
       "    </tr>\n",
       "    <tr>\n",
       "      <th>210431</th>\n",
       "      <td>2021-12-31 23:45:00</td>\n",
       "      <td>4449.94</td>\n",
       "    </tr>\n",
       "  </tbody>\n",
       "</table>\n",
       "<p>210432 rows × 2 columns</p>\n",
       "</div>"
      ],
      "text/plain": [
       "                       Date  Haryana Load (MW)\n",
       "0       2016-01-01 00:00:00                NaN\n",
       "1       2016-01-01 00:15:00            4099.37\n",
       "2       2016-01-01 00:30:00            3995.64\n",
       "3       2016-01-01 00:45:00            3954.80\n",
       "4       2016-01-01 01:00:00            3904.93\n",
       "...                     ...                ...\n",
       "210427  2021-12-31 22:45:00            4712.55\n",
       "210428  2021-12-31 23:00:00            4649.58\n",
       "210429  2021-12-31 23:15:00            4571.39\n",
       "210430  2021-12-31 23:30:00            4510.39\n",
       "210431  2021-12-31 23:45:00            4449.94\n",
       "\n",
       "[210432 rows x 2 columns]"
      ]
     },
     "execution_count": 44,
     "metadata": {},
     "output_type": "execute_result"
    }
   ],
   "source": [
    "df"
   ]
  },
  {
   "cell_type": "code",
   "execution_count": 45,
   "id": "2318e590",
   "metadata": {},
   "outputs": [],
   "source": [
    "df.iloc[143232] = ['2020-02-01 00:00:00', 4010]"
   ]
  },
  {
   "cell_type": "code",
   "execution_count": 52,
   "id": "be6033d4",
   "metadata": {},
   "outputs": [
    {
     "data": {
      "text/plain": [
       "Date                 2020-02-01 00:00:00\n",
       "Haryana Load (MW)                 4010.0\n",
       "Name: 143232, dtype: object"
      ]
     },
     "execution_count": 52,
     "metadata": {},
     "output_type": "execute_result"
    }
   ],
   "source": [
    "df.iloc[143232]"
   ]
  },
  {
   "cell_type": "code",
   "execution_count": 48,
   "id": "48bca309",
   "metadata": {},
   "outputs": [
    {
     "data": {
      "text/html": [
       "<div>\n",
       "<style scoped>\n",
       "    .dataframe tbody tr th:only-of-type {\n",
       "        vertical-align: middle;\n",
       "    }\n",
       "\n",
       "    .dataframe tbody tr th {\n",
       "        vertical-align: top;\n",
       "    }\n",
       "\n",
       "    .dataframe thead th {\n",
       "        text-align: right;\n",
       "    }\n",
       "</style>\n",
       "<table border=\"1\" class=\"dataframe\">\n",
       "  <thead>\n",
       "    <tr style=\"text-align: right;\">\n",
       "      <th></th>\n",
       "      <th>Date</th>\n",
       "      <th>Haryana Load (MW)</th>\n",
       "    </tr>\n",
       "  </thead>\n",
       "  <tbody>\n",
       "    <tr>\n",
       "      <th>0</th>\n",
       "      <td>2016-01-01 00:00:00</td>\n",
       "      <td>NaN</td>\n",
       "    </tr>\n",
       "    <tr>\n",
       "      <th>1</th>\n",
       "      <td>2016-01-01 00:15:00</td>\n",
       "      <td>4099.37</td>\n",
       "    </tr>\n",
       "    <tr>\n",
       "      <th>2</th>\n",
       "      <td>2016-01-01 00:30:00</td>\n",
       "      <td>3995.64</td>\n",
       "    </tr>\n",
       "    <tr>\n",
       "      <th>3</th>\n",
       "      <td>2016-01-01 00:45:00</td>\n",
       "      <td>3954.80</td>\n",
       "    </tr>\n",
       "    <tr>\n",
       "      <th>4</th>\n",
       "      <td>2016-01-01 01:00:00</td>\n",
       "      <td>3904.93</td>\n",
       "    </tr>\n",
       "    <tr>\n",
       "      <th>...</th>\n",
       "      <td>...</td>\n",
       "      <td>...</td>\n",
       "    </tr>\n",
       "    <tr>\n",
       "      <th>210427</th>\n",
       "      <td>2021-12-31 22:45:00</td>\n",
       "      <td>4712.55</td>\n",
       "    </tr>\n",
       "    <tr>\n",
       "      <th>210428</th>\n",
       "      <td>2021-12-31 23:00:00</td>\n",
       "      <td>4649.58</td>\n",
       "    </tr>\n",
       "    <tr>\n",
       "      <th>210429</th>\n",
       "      <td>2021-12-31 23:15:00</td>\n",
       "      <td>4571.39</td>\n",
       "    </tr>\n",
       "    <tr>\n",
       "      <th>210430</th>\n",
       "      <td>2021-12-31 23:30:00</td>\n",
       "      <td>4510.39</td>\n",
       "    </tr>\n",
       "    <tr>\n",
       "      <th>210431</th>\n",
       "      <td>2021-12-31 23:45:00</td>\n",
       "      <td>4449.94</td>\n",
       "    </tr>\n",
       "  </tbody>\n",
       "</table>\n",
       "<p>210432 rows × 2 columns</p>\n",
       "</div>"
      ],
      "text/plain": [
       "                       Date  Haryana Load (MW)\n",
       "0       2016-01-01 00:00:00                NaN\n",
       "1       2016-01-01 00:15:00            4099.37\n",
       "2       2016-01-01 00:30:00            3995.64\n",
       "3       2016-01-01 00:45:00            3954.80\n",
       "4       2016-01-01 01:00:00            3904.93\n",
       "...                     ...                ...\n",
       "210427  2021-12-31 22:45:00            4712.55\n",
       "210428  2021-12-31 23:00:00            4649.58\n",
       "210429  2021-12-31 23:15:00            4571.39\n",
       "210430  2021-12-31 23:30:00            4510.39\n",
       "210431  2021-12-31 23:45:00            4449.94\n",
       "\n",
       "[210432 rows x 2 columns]"
      ]
     },
     "execution_count": 48,
     "metadata": {},
     "output_type": "execute_result"
    }
   ],
   "source": [
    "df"
   ]
  },
  {
   "cell_type": "code",
   "execution_count": 55,
   "id": "bf3c81bd",
   "metadata": {},
   "outputs": [],
   "source": [
    "df2 = pd.DataFrame([df.iloc[i] for i in range(len(df.Date)) if not (df.Date[i][:4] == '2020' and df.Date[i][:7] != '2020-01')])"
   ]
  },
  {
   "cell_type": "code",
   "execution_count": 56,
   "id": "a4f986a9",
   "metadata": {},
   "outputs": [
    {
     "data": {
      "text/html": [
       "<div>\n",
       "<style scoped>\n",
       "    .dataframe tbody tr th:only-of-type {\n",
       "        vertical-align: middle;\n",
       "    }\n",
       "\n",
       "    .dataframe tbody tr th {\n",
       "        vertical-align: top;\n",
       "    }\n",
       "\n",
       "    .dataframe thead th {\n",
       "        text-align: right;\n",
       "    }\n",
       "</style>\n",
       "<table border=\"1\" class=\"dataframe\">\n",
       "  <thead>\n",
       "    <tr style=\"text-align: right;\">\n",
       "      <th></th>\n",
       "      <th>Date</th>\n",
       "      <th>Haryana Load (MW)</th>\n",
       "    </tr>\n",
       "  </thead>\n",
       "  <tbody>\n",
       "    <tr>\n",
       "      <th>0</th>\n",
       "      <td>2016-01-01 00:00:00</td>\n",
       "      <td>NaN</td>\n",
       "    </tr>\n",
       "    <tr>\n",
       "      <th>1</th>\n",
       "      <td>2016-01-01 00:15:00</td>\n",
       "      <td>4099.37</td>\n",
       "    </tr>\n",
       "    <tr>\n",
       "      <th>2</th>\n",
       "      <td>2016-01-01 00:30:00</td>\n",
       "      <td>3995.64</td>\n",
       "    </tr>\n",
       "    <tr>\n",
       "      <th>3</th>\n",
       "      <td>2016-01-01 00:45:00</td>\n",
       "      <td>3954.80</td>\n",
       "    </tr>\n",
       "    <tr>\n",
       "      <th>4</th>\n",
       "      <td>2016-01-01 01:00:00</td>\n",
       "      <td>3904.93</td>\n",
       "    </tr>\n",
       "    <tr>\n",
       "      <th>...</th>\n",
       "      <td>...</td>\n",
       "      <td>...</td>\n",
       "    </tr>\n",
       "    <tr>\n",
       "      <th>210427</th>\n",
       "      <td>2021-12-31 22:45:00</td>\n",
       "      <td>4712.55</td>\n",
       "    </tr>\n",
       "    <tr>\n",
       "      <th>210428</th>\n",
       "      <td>2021-12-31 23:00:00</td>\n",
       "      <td>4649.58</td>\n",
       "    </tr>\n",
       "    <tr>\n",
       "      <th>210429</th>\n",
       "      <td>2021-12-31 23:15:00</td>\n",
       "      <td>4571.39</td>\n",
       "    </tr>\n",
       "    <tr>\n",
       "      <th>210430</th>\n",
       "      <td>2021-12-31 23:30:00</td>\n",
       "      <td>4510.39</td>\n",
       "    </tr>\n",
       "    <tr>\n",
       "      <th>210431</th>\n",
       "      <td>2021-12-31 23:45:00</td>\n",
       "      <td>4449.94</td>\n",
       "    </tr>\n",
       "  </tbody>\n",
       "</table>\n",
       "<p>178272 rows × 2 columns</p>\n",
       "</div>"
      ],
      "text/plain": [
       "                       Date  Haryana Load (MW)\n",
       "0       2016-01-01 00:00:00                NaN\n",
       "1       2016-01-01 00:15:00            4099.37\n",
       "2       2016-01-01 00:30:00            3995.64\n",
       "3       2016-01-01 00:45:00            3954.80\n",
       "4       2016-01-01 01:00:00            3904.93\n",
       "...                     ...                ...\n",
       "210427  2021-12-31 22:45:00            4712.55\n",
       "210428  2021-12-31 23:00:00            4649.58\n",
       "210429  2021-12-31 23:15:00            4571.39\n",
       "210430  2021-12-31 23:30:00            4510.39\n",
       "210431  2021-12-31 23:45:00            4449.94\n",
       "\n",
       "[178272 rows x 2 columns]"
      ]
     },
     "execution_count": 56,
     "metadata": {},
     "output_type": "execute_result"
    }
   ],
   "source": [
    "df2"
   ]
  },
  {
   "cell_type": "code",
   "execution_count": 58,
   "id": "10758a3c",
   "metadata": {},
   "outputs": [],
   "source": [
    "df2 = df2.append(df_2020)"
   ]
  },
  {
   "cell_type": "code",
   "execution_count": 59,
   "id": "53e347f9",
   "metadata": {},
   "outputs": [
    {
     "data": {
      "text/html": [
       "<div>\n",
       "<style scoped>\n",
       "    .dataframe tbody tr th:only-of-type {\n",
       "        vertical-align: middle;\n",
       "    }\n",
       "\n",
       "    .dataframe tbody tr th {\n",
       "        vertical-align: top;\n",
       "    }\n",
       "\n",
       "    .dataframe thead th {\n",
       "        text-align: right;\n",
       "    }\n",
       "</style>\n",
       "<table border=\"1\" class=\"dataframe\">\n",
       "  <thead>\n",
       "    <tr style=\"text-align: right;\">\n",
       "      <th></th>\n",
       "      <th>Date</th>\n",
       "      <th>Haryana Load (MW)</th>\n",
       "    </tr>\n",
       "  </thead>\n",
       "  <tbody>\n",
       "    <tr>\n",
       "      <th>0</th>\n",
       "      <td>2016-01-01 00:00:00</td>\n",
       "      <td>NaN</td>\n",
       "    </tr>\n",
       "    <tr>\n",
       "      <th>1</th>\n",
       "      <td>2016-01-01 00:15:00</td>\n",
       "      <td>4099.37</td>\n",
       "    </tr>\n",
       "    <tr>\n",
       "      <th>2</th>\n",
       "      <td>2016-01-01 00:30:00</td>\n",
       "      <td>3995.64</td>\n",
       "    </tr>\n",
       "    <tr>\n",
       "      <th>3</th>\n",
       "      <td>2016-01-01 00:45:00</td>\n",
       "      <td>3954.80</td>\n",
       "    </tr>\n",
       "    <tr>\n",
       "      <th>4</th>\n",
       "      <td>2016-01-01 01:00:00</td>\n",
       "      <td>3904.93</td>\n",
       "    </tr>\n",
       "    <tr>\n",
       "      <th>...</th>\n",
       "      <td>...</td>\n",
       "      <td>...</td>\n",
       "    </tr>\n",
       "    <tr>\n",
       "      <th>32389</th>\n",
       "      <td>2020-12-31 22:45:00</td>\n",
       "      <td>5047.28</td>\n",
       "    </tr>\n",
       "    <tr>\n",
       "      <th>32390</th>\n",
       "      <td>2020-12-31 23:00:00</td>\n",
       "      <td>4999.38</td>\n",
       "    </tr>\n",
       "    <tr>\n",
       "      <th>32391</th>\n",
       "      <td>2020-12-31 23:15:00</td>\n",
       "      <td>4869.31</td>\n",
       "    </tr>\n",
       "    <tr>\n",
       "      <th>32392</th>\n",
       "      <td>2020-12-31 23:30:00</td>\n",
       "      <td>4795.35</td>\n",
       "    </tr>\n",
       "    <tr>\n",
       "      <th>32393</th>\n",
       "      <td>2020-12-31 23:45:00</td>\n",
       "      <td>4735.48</td>\n",
       "    </tr>\n",
       "  </tbody>\n",
       "</table>\n",
       "<p>210666 rows × 2 columns</p>\n",
       "</div>"
      ],
      "text/plain": [
       "                      Date  Haryana Load (MW)\n",
       "0      2016-01-01 00:00:00                NaN\n",
       "1      2016-01-01 00:15:00            4099.37\n",
       "2      2016-01-01 00:30:00            3995.64\n",
       "3      2016-01-01 00:45:00            3954.80\n",
       "4      2016-01-01 01:00:00            3904.93\n",
       "...                    ...                ...\n",
       "32389  2020-12-31 22:45:00            5047.28\n",
       "32390  2020-12-31 23:00:00            4999.38\n",
       "32391  2020-12-31 23:15:00            4869.31\n",
       "32392  2020-12-31 23:30:00            4795.35\n",
       "32393  2020-12-31 23:45:00            4735.48\n",
       "\n",
       "[210666 rows x 2 columns]"
      ]
     },
     "execution_count": 59,
     "metadata": {},
     "output_type": "execute_result"
    }
   ],
   "source": [
    "df2"
   ]
  },
  {
   "cell_type": "code",
   "execution_count": 64,
   "id": "bf313ca9",
   "metadata": {},
   "outputs": [],
   "source": [
    "df2.drop_duplicates(subset='Date', inplace=True)"
   ]
  },
  {
   "cell_type": "code",
   "execution_count": 65,
   "id": "28170e2d",
   "metadata": {},
   "outputs": [
    {
     "data": {
      "text/html": [
       "<div>\n",
       "<style scoped>\n",
       "    .dataframe tbody tr th:only-of-type {\n",
       "        vertical-align: middle;\n",
       "    }\n",
       "\n",
       "    .dataframe tbody tr th {\n",
       "        vertical-align: top;\n",
       "    }\n",
       "\n",
       "    .dataframe thead th {\n",
       "        text-align: right;\n",
       "    }\n",
       "</style>\n",
       "<table border=\"1\" class=\"dataframe\">\n",
       "  <thead>\n",
       "    <tr style=\"text-align: right;\">\n",
       "      <th></th>\n",
       "      <th>Date</th>\n",
       "      <th>Haryana Load (MW)</th>\n",
       "    </tr>\n",
       "  </thead>\n",
       "  <tbody>\n",
       "    <tr>\n",
       "      <th>0</th>\n",
       "      <td>2016-01-01 00:00:00</td>\n",
       "      <td>NaN</td>\n",
       "    </tr>\n",
       "    <tr>\n",
       "      <th>1</th>\n",
       "      <td>2016-01-01 00:15:00</td>\n",
       "      <td>4099.37</td>\n",
       "    </tr>\n",
       "    <tr>\n",
       "      <th>2</th>\n",
       "      <td>2016-01-01 00:30:00</td>\n",
       "      <td>3995.64</td>\n",
       "    </tr>\n",
       "    <tr>\n",
       "      <th>3</th>\n",
       "      <td>2016-01-01 00:45:00</td>\n",
       "      <td>3954.80</td>\n",
       "    </tr>\n",
       "    <tr>\n",
       "      <th>4</th>\n",
       "      <td>2016-01-01 01:00:00</td>\n",
       "      <td>3904.93</td>\n",
       "    </tr>\n",
       "    <tr>\n",
       "      <th>...</th>\n",
       "      <td>...</td>\n",
       "      <td>...</td>\n",
       "    </tr>\n",
       "    <tr>\n",
       "      <th>32389</th>\n",
       "      <td>2020-12-31 22:45:00</td>\n",
       "      <td>5047.28</td>\n",
       "    </tr>\n",
       "    <tr>\n",
       "      <th>32390</th>\n",
       "      <td>2020-12-31 23:00:00</td>\n",
       "      <td>4999.38</td>\n",
       "    </tr>\n",
       "    <tr>\n",
       "      <th>32391</th>\n",
       "      <td>2020-12-31 23:15:00</td>\n",
       "      <td>4869.31</td>\n",
       "    </tr>\n",
       "    <tr>\n",
       "      <th>32392</th>\n",
       "      <td>2020-12-31 23:30:00</td>\n",
       "      <td>4795.35</td>\n",
       "    </tr>\n",
       "    <tr>\n",
       "      <th>32393</th>\n",
       "      <td>2020-12-31 23:45:00</td>\n",
       "      <td>4735.48</td>\n",
       "    </tr>\n",
       "  </tbody>\n",
       "</table>\n",
       "<p>209444 rows × 2 columns</p>\n",
       "</div>"
      ],
      "text/plain": [
       "                      Date  Haryana Load (MW)\n",
       "0      2016-01-01 00:00:00                NaN\n",
       "1      2016-01-01 00:15:00            4099.37\n",
       "2      2016-01-01 00:30:00            3995.64\n",
       "3      2016-01-01 00:45:00            3954.80\n",
       "4      2016-01-01 01:00:00            3904.93\n",
       "...                    ...                ...\n",
       "32389  2020-12-31 22:45:00            5047.28\n",
       "32390  2020-12-31 23:00:00            4999.38\n",
       "32391  2020-12-31 23:15:00            4869.31\n",
       "32392  2020-12-31 23:30:00            4795.35\n",
       "32393  2020-12-31 23:45:00            4735.48\n",
       "\n",
       "[209444 rows x 2 columns]"
      ]
     },
     "execution_count": 65,
     "metadata": {},
     "output_type": "execute_result"
    }
   ],
   "source": [
    "df2"
   ]
  },
  {
   "cell_type": "code",
   "execution_count": 63,
   "id": "d2f55e1f",
   "metadata": {},
   "outputs": [
    {
     "name": "stdout",
     "output_type": "stream",
     "text": [
      "<class 'pandas.core.frame.DataFrame'>\n",
      "Int64Index: 209444 entries, 0 to 32393\n",
      "Data columns (total 2 columns):\n",
      " #   Column             Non-Null Count   Dtype  \n",
      "---  ------             --------------   -----  \n",
      " 0   Date               209444 non-null  object \n",
      " 1   Haryana Load (MW)  204391 non-null  float64\n",
      "dtypes: float64(1), object(1)\n",
      "memory usage: 4.8+ MB\n"
     ]
    }
   ],
   "source": [
    "df2.info()"
   ]
  },
  {
   "cell_type": "code",
   "execution_count": 66,
   "id": "07df0b4a",
   "metadata": {},
   "outputs": [],
   "source": [
    "df_all = pd.read_csv('all_timestamps_2.csv')"
   ]
  },
  {
   "cell_type": "code",
   "execution_count": 70,
   "id": "c61dd264",
   "metadata": {},
   "outputs": [],
   "source": [
    "df_all = df_all.rename(columns = {'0': 'Date'}).drop(columns=['Unnamed: 0'])"
   ]
  },
  {
   "cell_type": "code",
   "execution_count": 71,
   "id": "97da8633",
   "metadata": {},
   "outputs": [],
   "source": [
    "dfV1 = df_all.merge(df2, how = 'left', left_on = 'Date', right_on= 'Date')"
   ]
  },
  {
   "cell_type": "code",
   "execution_count": 73,
   "id": "b3b09067",
   "metadata": {},
   "outputs": [],
   "source": [
    "dfV1.to_csv('Load_Data_V1_Final_Correct.csv')"
   ]
  },
  {
   "cell_type": "code",
   "execution_count": 77,
   "id": "51ad6eb0",
   "metadata": {},
   "outputs": [],
   "source": [
    "dfV1 = dfV1[1:]"
   ]
  },
  {
   "cell_type": "code",
   "execution_count": 83,
   "id": "0a8d1319",
   "metadata": {},
   "outputs": [
    {
     "name": "stdout",
     "output_type": "stream",
     "text": [
      "<class 'pandas.core.frame.DataFrame'>\n",
      "Int64Index: 210431 entries, 1 to 210431\n",
      "Data columns (total 2 columns):\n",
      " #   Column             Non-Null Count   Dtype  \n",
      "---  ------             --------------   -----  \n",
      " 0   Date               210431 non-null  object \n",
      " 1   Haryana Load (MW)  210431 non-null  float64\n",
      "dtypes: float64(1), object(1)\n",
      "memory usage: 4.8+ MB\n"
     ]
    }
   ],
   "source": [
    "dfV1.fillna(method='ffill').info()"
   ]
  },
  {
   "cell_type": "code",
   "execution_count": 84,
   "id": "2d5f5f6a",
   "metadata": {},
   "outputs": [],
   "source": [
    "dfV2 = dfV1.fillna(method = 'ffill')"
   ]
  },
  {
   "cell_type": "code",
   "execution_count": 85,
   "id": "9aefaaae",
   "metadata": {},
   "outputs": [
    {
     "data": {
      "text/html": [
       "<div>\n",
       "<style scoped>\n",
       "    .dataframe tbody tr th:only-of-type {\n",
       "        vertical-align: middle;\n",
       "    }\n",
       "\n",
       "    .dataframe tbody tr th {\n",
       "        vertical-align: top;\n",
       "    }\n",
       "\n",
       "    .dataframe thead th {\n",
       "        text-align: right;\n",
       "    }\n",
       "</style>\n",
       "<table border=\"1\" class=\"dataframe\">\n",
       "  <thead>\n",
       "    <tr style=\"text-align: right;\">\n",
       "      <th></th>\n",
       "      <th>Date</th>\n",
       "      <th>Haryana Load (MW)</th>\n",
       "    </tr>\n",
       "  </thead>\n",
       "  <tbody>\n",
       "    <tr>\n",
       "      <th>1</th>\n",
       "      <td>2016-01-01 00:15:00</td>\n",
       "      <td>4099.37</td>\n",
       "    </tr>\n",
       "    <tr>\n",
       "      <th>2</th>\n",
       "      <td>2016-01-01 00:30:00</td>\n",
       "      <td>3995.64</td>\n",
       "    </tr>\n",
       "    <tr>\n",
       "      <th>3</th>\n",
       "      <td>2016-01-01 00:45:00</td>\n",
       "      <td>3954.80</td>\n",
       "    </tr>\n",
       "    <tr>\n",
       "      <th>4</th>\n",
       "      <td>2016-01-01 01:00:00</td>\n",
       "      <td>3904.93</td>\n",
       "    </tr>\n",
       "    <tr>\n",
       "      <th>5</th>\n",
       "      <td>2016-01-01 01:15:00</td>\n",
       "      <td>3654.68</td>\n",
       "    </tr>\n",
       "    <tr>\n",
       "      <th>...</th>\n",
       "      <td>...</td>\n",
       "      <td>...</td>\n",
       "    </tr>\n",
       "    <tr>\n",
       "      <th>210427</th>\n",
       "      <td>2021-12-31 22:45:00</td>\n",
       "      <td>4712.55</td>\n",
       "    </tr>\n",
       "    <tr>\n",
       "      <th>210428</th>\n",
       "      <td>2021-12-31 23:00:00</td>\n",
       "      <td>4649.58</td>\n",
       "    </tr>\n",
       "    <tr>\n",
       "      <th>210429</th>\n",
       "      <td>2021-12-31 23:15:00</td>\n",
       "      <td>4571.39</td>\n",
       "    </tr>\n",
       "    <tr>\n",
       "      <th>210430</th>\n",
       "      <td>2021-12-31 23:30:00</td>\n",
       "      <td>4510.39</td>\n",
       "    </tr>\n",
       "    <tr>\n",
       "      <th>210431</th>\n",
       "      <td>2021-12-31 23:45:00</td>\n",
       "      <td>4449.94</td>\n",
       "    </tr>\n",
       "  </tbody>\n",
       "</table>\n",
       "<p>210431 rows × 2 columns</p>\n",
       "</div>"
      ],
      "text/plain": [
       "                       Date  Haryana Load (MW)\n",
       "1       2016-01-01 00:15:00            4099.37\n",
       "2       2016-01-01 00:30:00            3995.64\n",
       "3       2016-01-01 00:45:00            3954.80\n",
       "4       2016-01-01 01:00:00            3904.93\n",
       "5       2016-01-01 01:15:00            3654.68\n",
       "...                     ...                ...\n",
       "210427  2021-12-31 22:45:00            4712.55\n",
       "210428  2021-12-31 23:00:00            4649.58\n",
       "210429  2021-12-31 23:15:00            4571.39\n",
       "210430  2021-12-31 23:30:00            4510.39\n",
       "210431  2021-12-31 23:45:00            4449.94\n",
       "\n",
       "[210431 rows x 2 columns]"
      ]
     },
     "execution_count": 85,
     "metadata": {},
     "output_type": "execute_result"
    }
   ],
   "source": [
    "dfV2"
   ]
  },
  {
   "cell_type": "code",
   "execution_count": 86,
   "id": "d59220fc",
   "metadata": {},
   "outputs": [
    {
     "name": "stdout",
     "output_type": "stream",
     "text": [
      "<class 'pandas.core.frame.DataFrame'>\n",
      "Int64Index: 210431 entries, 1 to 210431\n",
      "Data columns (total 2 columns):\n",
      " #   Column             Non-Null Count   Dtype  \n",
      "---  ------             --------------   -----  \n",
      " 0   Date               210431 non-null  object \n",
      " 1   Haryana Load (MW)  210431 non-null  float64\n",
      "dtypes: float64(1), object(1)\n",
      "memory usage: 4.8+ MB\n"
     ]
    }
   ],
   "source": [
    "dfV2.info()"
   ]
  },
  {
   "cell_type": "code",
   "execution_count": 87,
   "id": "35a20574",
   "metadata": {},
   "outputs": [],
   "source": [
    "dfV2.to_csv('Load_Data_V2_Final_Correct.csv')"
   ]
  },
  {
   "cell_type": "code",
   "execution_count": 88,
   "id": "9eca972d",
   "metadata": {},
   "outputs": [
    {
     "name": "stdout",
     "output_type": "stream",
     "text": [
      "<class 'pandas.core.frame.DataFrame'>\n",
      "Int64Index: 210431 entries, 1 to 210431\n",
      "Data columns (total 2 columns):\n",
      " #   Column             Non-Null Count   Dtype  \n",
      "---  ------             --------------   -----  \n",
      " 0   Date               210431 non-null  object \n",
      " 1   Haryana Load (MW)  210431 non-null  float64\n",
      "dtypes: float64(1), object(1)\n",
      "memory usage: 4.8+ MB\n"
     ]
    }
   ],
   "source": [
    "dfV2.info()"
   ]
  },
  {
   "cell_type": "code",
   "execution_count": null,
   "id": "2df4d46d",
   "metadata": {},
   "outputs": [],
   "source": []
  }
 ],
 "metadata": {
  "kernelspec": {
   "display_name": "Python 3 (ipykernel)",
   "language": "python",
   "name": "python3"
  },
  "language_info": {
   "codemirror_mode": {
    "name": "ipython",
    "version": 3
   },
   "file_extension": ".py",
   "mimetype": "text/x-python",
   "name": "python",
   "nbconvert_exporter": "python",
   "pygments_lexer": "ipython3",
   "version": "3.9.6"
  }
 },
 "nbformat": 4,
 "nbformat_minor": 5
}
