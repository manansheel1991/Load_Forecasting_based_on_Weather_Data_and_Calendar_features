{
 "cells": [
  {
   "cell_type": "code",
   "execution_count": 1,
   "id": "de0f055e",
   "metadata": {},
   "outputs": [],
   "source": [
    "import seaborn as sns\n",
    "import matplotlib.pyplot as plt\n",
    "%matplotlib inline"
   ]
  },
  {
   "cell_type": "code",
   "execution_count": 2,
   "id": "important-transaction",
   "metadata": {},
   "outputs": [],
   "source": [
    "import pandas as pd\n",
    "import numpy as np\n",
    "\n",
    "#df = pd.read_csv(r\"C:\\Users\\kavya\\Desktop\\Kavya\\Intelihub\\client\\HERC\\Latest\\data\\model_ready_2.csv\")"
   ]
  },
  {
   "cell_type": "code",
   "execution_count": 3,
   "id": "sticky-olive",
   "metadata": {},
   "outputs": [],
   "source": [
    "df = pd.read_csv(r\"C:\\Users\\HP\\Documents\\Load_Forecasting_using_Fbprophet\\Final Files fbprophet\\Combined_Data_for_model_final_2.csv\")"
   ]
  },
  {
   "cell_type": "code",
   "execution_count": 4,
   "id": "infinite-mailing",
   "metadata": {},
   "outputs": [],
   "source": [
    "del df['Unnamed: 0']"
   ]
  },
  {
   "cell_type": "markdown",
   "id": "statistical-syria",
   "metadata": {},
   "source": [
    "#### Extracting Cal Features"
   ]
  },
  {
   "cell_type": "code",
   "execution_count": 5,
   "id": "capital-distinction",
   "metadata": {},
   "outputs": [],
   "source": [
    "df['Date'] = pd.to_datetime(df['Date'])"
   ]
  },
  {
   "cell_type": "code",
   "execution_count": 6,
   "id": "treated-norfolk",
   "metadata": {},
   "outputs": [],
   "source": [
    "df = df[df['Date']>='2018-01-01']"
   ]
  },
  {
   "cell_type": "code",
   "execution_count": 7,
   "id": "prospective-webcam",
   "metadata": {},
   "outputs": [],
   "source": [
    "df['month'] = pd.to_datetime(df['Date']).dt.month\n",
    "df['weekday'] = pd.to_datetime(df['Date']).dt.weekday\n",
    "df['hour'] = pd.to_datetime(df['Date']).dt.hour\n",
    "df['hour_part'] = pd.to_datetime(df['Date']).dt.minute\n",
    "df['year'] = pd.to_datetime(df['Date']).dt.year\n",
    "df['day'] = pd.to_datetime(df['Date']).dt.day\n",
    "\n",
    "# remove outliers in windspeed - checked the max windspeed India recorded - it is around 100\n",
    "df = df[df['windspeed']<=100]"
   ]
  },
  {
   "cell_type": "code",
   "execution_count": 8,
   "id": "muslim-sheet",
   "metadata": {},
   "outputs": [
    {
     "data": {
      "text/plain": [
       "<AxesSubplot:>"
      ]
     },
     "execution_count": 8,
     "metadata": {},
     "output_type": "execute_result"
    },
    {
     "data": {
      "image/png": "[encoded data removed]",
      "text/plain": [
       "<Figure size 432x288 with 1 Axes>"
      ]
     },
     "metadata": {
      "needs_background": "light"
     },
     "output_type": "display_data"
    }
   ],
   "source": [
    "df['winddir'].hist()"
   ]
  },
  {
   "cell_type": "code",
   "execution_count": 9,
   "id": "1b7e8aef",
   "metadata": {},
   "outputs": [],
   "source": [
    "def get_season(TimeSeries):\n",
    "    \n",
    "    season_list = []\n",
    "    \n",
    "    year_list = []\n",
    "    month_list = []\n",
    "    for time in TimeSeries:\n",
    "        year = str(time)[:4]\n",
    "        month = str(time)[5:7]\n",
    "        year_list.append(year)\n",
    "        month_list.append(month) \n",
    "       \n",
    "    for m in month_list:\n",
    "        if m=='01' or m=='02' or m=='12':\n",
    "            season_list.append(0)   # Winter\n",
    "        elif m=='03' or m=='04' or m=='05':\n",
    "            season_list.append(1) #Spring-Summer\n",
    "        elif m == '06' or m=='07':\n",
    "            season_list.append(2) #Paddy/Monsoon\n",
    "        elif m=='08' or m=='09':\n",
    "            season_list.append(3) #Late Monsoon\n",
    "        elif m=='10' or m=='11':\n",
    "            season_list.append(4) #Autumn\n",
    "            \n",
    "    #season = pd.Series(season_list)\n",
    "    return season_list"
   ]
  },
  {
   "cell_type": "code",
   "execution_count": 10,
   "id": "830dfaff",
   "metadata": {},
   "outputs": [],
   "source": [
    "season = get_season(df['Date'])"
   ]
  },
  {
   "cell_type": "code",
   "execution_count": 11,
   "id": "16dea06b",
   "metadata": {},
   "outputs": [],
   "source": [
    "df['Season'] = season"
   ]
  },
  {
   "cell_type": "code",
   "execution_count": 12,
   "id": "working-cooperation",
   "metadata": {},
   "outputs": [],
   "source": [
    "from sklearn import metrics\n",
    "import numpy as np\n",
    "from sklearn.model_selection import StratifiedKFold\n",
    "import itertools\n",
    "# from skopt import BayesSearchCV as bayes_opt"
   ]
  },
  {
   "cell_type": "code",
   "execution_count": 13,
   "id": "hired-royalty",
   "metadata": {},
   "outputs": [],
   "source": [
    "# check for 0 values and remove\n",
    "df = df[df['Haryana Load (MW)']>0]"
   ]
  },
  {
   "cell_type": "code",
   "execution_count": 14,
   "id": "8538e04a",
   "metadata": {},
   "outputs": [
    {
     "data": {
      "text/html": [
       "<div>\n",
       "<style scoped>\n",
       "    .dataframe tbody tr th:only-of-type {\n",
       "        vertical-align: middle;\n",
       "    }\n",
       "\n",
       "    .dataframe tbody tr th {\n",
       "        vertical-align: top;\n",
       "    }\n",
       "\n",
       "    .dataframe thead th {\n",
       "        text-align: right;\n",
       "    }\n",
       "</style>\n",
       "<table border=\"1\" class=\"dataframe\">\n",
       "  <thead>\n",
       "    <tr style=\"text-align: right;\">\n",
       "      <th></th>\n",
       "      <th>Date</th>\n",
       "      <th>Haryana Load (MW)</th>\n",
       "      <th>temp</th>\n",
       "      <th>dew</th>\n",
       "      <th>humidity</th>\n",
       "      <th>windspeed</th>\n",
       "      <th>winddir</th>\n",
       "      <th>cloudcover</th>\n",
       "      <th>visibility</th>\n",
       "      <th>month</th>\n",
       "      <th>weekday</th>\n",
       "      <th>hour</th>\n",
       "      <th>hour_part</th>\n",
       "      <th>year</th>\n",
       "      <th>day</th>\n",
       "      <th>Season</th>\n",
       "    </tr>\n",
       "  </thead>\n",
       "  <tbody>\n",
       "    <tr>\n",
       "      <th>70175</th>\n",
       "      <td>2018-01-01 00:00:00</td>\n",
       "      <td>3880.22</td>\n",
       "      <td>11.0</td>\n",
       "      <td>9.0</td>\n",
       "      <td>87.48</td>\n",
       "      <td>0.0</td>\n",
       "      <td>0.0</td>\n",
       "      <td>0.0</td>\n",
       "      <td>1.0</td>\n",
       "      <td>1</td>\n",
       "      <td>0</td>\n",
       "      <td>0</td>\n",
       "      <td>0</td>\n",
       "      <td>2018</td>\n",
       "      <td>1</td>\n",
       "      <td>0</td>\n",
       "    </tr>\n",
       "    <tr>\n",
       "      <th>70176</th>\n",
       "      <td>2018-01-01 00:15:00</td>\n",
       "      <td>3778.15</td>\n",
       "      <td>11.0</td>\n",
       "      <td>9.0</td>\n",
       "      <td>87.48</td>\n",
       "      <td>0.0</td>\n",
       "      <td>0.0</td>\n",
       "      <td>0.0</td>\n",
       "      <td>1.0</td>\n",
       "      <td>1</td>\n",
       "      <td>0</td>\n",
       "      <td>0</td>\n",
       "      <td>15</td>\n",
       "      <td>2018</td>\n",
       "      <td>1</td>\n",
       "      <td>0</td>\n",
       "    </tr>\n",
       "    <tr>\n",
       "      <th>70177</th>\n",
       "      <td>2018-01-01 00:30:00</td>\n",
       "      <td>3742.81</td>\n",
       "      <td>11.0</td>\n",
       "      <td>9.0</td>\n",
       "      <td>87.48</td>\n",
       "      <td>0.0</td>\n",
       "      <td>0.0</td>\n",
       "      <td>0.0</td>\n",
       "      <td>1.0</td>\n",
       "      <td>1</td>\n",
       "      <td>0</td>\n",
       "      <td>0</td>\n",
       "      <td>30</td>\n",
       "      <td>2018</td>\n",
       "      <td>1</td>\n",
       "      <td>0</td>\n",
       "    </tr>\n",
       "    <tr>\n",
       "      <th>70178</th>\n",
       "      <td>2018-01-01 00:45:00</td>\n",
       "      <td>3627.39</td>\n",
       "      <td>11.0</td>\n",
       "      <td>9.0</td>\n",
       "      <td>87.48</td>\n",
       "      <td>0.0</td>\n",
       "      <td>0.0</td>\n",
       "      <td>0.0</td>\n",
       "      <td>1.0</td>\n",
       "      <td>1</td>\n",
       "      <td>0</td>\n",
       "      <td>0</td>\n",
       "      <td>45</td>\n",
       "      <td>2018</td>\n",
       "      <td>1</td>\n",
       "      <td>0</td>\n",
       "    </tr>\n",
       "    <tr>\n",
       "      <th>70179</th>\n",
       "      <td>2018-01-01 01:00:00</td>\n",
       "      <td>3616.50</td>\n",
       "      <td>10.0</td>\n",
       "      <td>8.0</td>\n",
       "      <td>87.38</td>\n",
       "      <td>0.0</td>\n",
       "      <td>0.0</td>\n",
       "      <td>0.0</td>\n",
       "      <td>1.0</td>\n",
       "      <td>1</td>\n",
       "      <td>0</td>\n",
       "      <td>1</td>\n",
       "      <td>0</td>\n",
       "      <td>2018</td>\n",
       "      <td>1</td>\n",
       "      <td>0</td>\n",
       "    </tr>\n",
       "    <tr>\n",
       "      <th>...</th>\n",
       "      <td>...</td>\n",
       "      <td>...</td>\n",
       "      <td>...</td>\n",
       "      <td>...</td>\n",
       "      <td>...</td>\n",
       "      <td>...</td>\n",
       "      <td>...</td>\n",
       "      <td>...</td>\n",
       "      <td>...</td>\n",
       "      <td>...</td>\n",
       "      <td>...</td>\n",
       "      <td>...</td>\n",
       "      <td>...</td>\n",
       "      <td>...</td>\n",
       "      <td>...</td>\n",
       "      <td>...</td>\n",
       "    </tr>\n",
       "    <tr>\n",
       "      <th>210426</th>\n",
       "      <td>2021-12-31 22:45:00</td>\n",
       "      <td>4712.55</td>\n",
       "      <td>10.0</td>\n",
       "      <td>8.0</td>\n",
       "      <td>87.38</td>\n",
       "      <td>0.0</td>\n",
       "      <td>0.0</td>\n",
       "      <td>27.4</td>\n",
       "      <td>2.0</td>\n",
       "      <td>12</td>\n",
       "      <td>4</td>\n",
       "      <td>22</td>\n",
       "      <td>45</td>\n",
       "      <td>2021</td>\n",
       "      <td>31</td>\n",
       "      <td>0</td>\n",
       "    </tr>\n",
       "    <tr>\n",
       "      <th>210427</th>\n",
       "      <td>2021-12-31 23:00:00</td>\n",
       "      <td>4649.58</td>\n",
       "      <td>9.2</td>\n",
       "      <td>7.3</td>\n",
       "      <td>88.04</td>\n",
       "      <td>0.0</td>\n",
       "      <td>0.0</td>\n",
       "      <td>28.5</td>\n",
       "      <td>1.3</td>\n",
       "      <td>12</td>\n",
       "      <td>4</td>\n",
       "      <td>23</td>\n",
       "      <td>0</td>\n",
       "      <td>2021</td>\n",
       "      <td>31</td>\n",
       "      <td>0</td>\n",
       "    </tr>\n",
       "    <tr>\n",
       "      <th>210428</th>\n",
       "      <td>2021-12-31 23:15:00</td>\n",
       "      <td>4571.39</td>\n",
       "      <td>9.2</td>\n",
       "      <td>7.3</td>\n",
       "      <td>88.04</td>\n",
       "      <td>0.0</td>\n",
       "      <td>0.0</td>\n",
       "      <td>28.5</td>\n",
       "      <td>1.3</td>\n",
       "      <td>12</td>\n",
       "      <td>4</td>\n",
       "      <td>23</td>\n",
       "      <td>15</td>\n",
       "      <td>2021</td>\n",
       "      <td>31</td>\n",
       "      <td>0</td>\n",
       "    </tr>\n",
       "    <tr>\n",
       "      <th>210429</th>\n",
       "      <td>2021-12-31 23:30:00</td>\n",
       "      <td>4510.39</td>\n",
       "      <td>9.2</td>\n",
       "      <td>7.3</td>\n",
       "      <td>88.04</td>\n",
       "      <td>0.0</td>\n",
       "      <td>0.0</td>\n",
       "      <td>28.5</td>\n",
       "      <td>1.3</td>\n",
       "      <td>12</td>\n",
       "      <td>4</td>\n",
       "      <td>23</td>\n",
       "      <td>30</td>\n",
       "      <td>2021</td>\n",
       "      <td>31</td>\n",
       "      <td>0</td>\n",
       "    </tr>\n",
       "    <tr>\n",
       "      <th>210430</th>\n",
       "      <td>2021-12-31 23:45:00</td>\n",
       "      <td>4449.94</td>\n",
       "      <td>9.2</td>\n",
       "      <td>7.3</td>\n",
       "      <td>88.04</td>\n",
       "      <td>0.0</td>\n",
       "      <td>0.0</td>\n",
       "      <td>28.5</td>\n",
       "      <td>1.3</td>\n",
       "      <td>12</td>\n",
       "      <td>4</td>\n",
       "      <td>23</td>\n",
       "      <td>45</td>\n",
       "      <td>2021</td>\n",
       "      <td>31</td>\n",
       "      <td>0</td>\n",
       "    </tr>\n",
       "  </tbody>\n",
       "</table>\n",
       "<p>140252 rows × 16 columns</p>\n",
       "</div>"
      ],
      "text/plain": [
       "                      Date  Haryana Load (MW)  temp  dew  humidity  windspeed  \\\n",
       "70175  2018-01-01 00:00:00            3880.22  11.0  9.0     87.48        0.0   \n",
       "70176  2018-01-01 00:15:00            3778.15  11.0  9.0     87.48        0.0   \n",
       "70177  2018-01-01 00:30:00            3742.81  11.0  9.0     87.48        0.0   \n",
       "70178  2018-01-01 00:45:00            3627.39  11.0  9.0     87.48        0.0   \n",
       "70179  2018-01-01 01:00:00            3616.50  10.0  8.0     87.38        0.0   \n",
       "...                    ...                ...   ...  ...       ...        ...   \n",
       "210426 2021-12-31 22:45:00            4712.55  10.0  8.0     87.38        0.0   \n",
       "210427 2021-12-31 23:00:00            4649.58   9.2  7.3     88.04        0.0   \n",
       "210428 2021-12-31 23:15:00            4571.39   9.2  7.3     88.04        0.0   \n",
       "210429 2021-12-31 23:30:00            4510.39   9.2  7.3     88.04        0.0   \n",
       "210430 2021-12-31 23:45:00            4449.94   9.2  7.3     88.04        0.0   \n",
       "\n",
       "        winddir  cloudcover  visibility  month  weekday  hour  hour_part  \\\n",
       "70175       0.0         0.0         1.0      1        0     0          0   \n",
       "70176       0.0         0.0         1.0      1        0     0         15   \n",
       "70177       0.0         0.0         1.0      1        0     0         30   \n",
       "70178       0.0         0.0         1.0      1        0     0         45   \n",
       "70179       0.0         0.0         1.0      1        0     1          0   \n",
       "...         ...         ...         ...    ...      ...   ...        ...   \n",
       "210426      0.0        27.4         2.0     12        4    22         45   \n",
       "210427      0.0        28.5         1.3     12        4    23          0   \n",
       "210428      0.0        28.5         1.3     12        4    23         15   \n",
       "210429      0.0        28.5         1.3     12        4    23         30   \n",
       "210430      0.0        28.5         1.3     12        4    23         45   \n",
       "\n",
       "        year  day  Season  \n",
       "70175   2018    1       0  \n",
       "70176   2018    1       0  \n",
       "70177   2018    1       0  \n",
       "70178   2018    1       0  \n",
       "70179   2018    1       0  \n",
       "...      ...  ...     ...  \n",
       "210426  2021   31       0  \n",
       "210427  2021   31       0  \n",
       "210428  2021   31       0  \n",
       "210429  2021   31       0  \n",
       "210430  2021   31       0  \n",
       "\n",
       "[140252 rows x 16 columns]"
      ]
     },
     "execution_count": 14,
     "metadata": {},
     "output_type": "execute_result"
    }
   ],
   "source": [
    "df"
   ]
  },
  {
   "cell_type": "code",
   "execution_count": 15,
   "id": "5aa66392",
   "metadata": {},
   "outputs": [
    {
     "data": {
      "image/png": "[encoded data removed]",
      "text/plain": [
       "<Figure size 864x576 with 2 Axes>"
      ]
     },
     "metadata": {
      "needs_background": "light"
     },
     "output_type": "display_data"
    }
   ],
   "source": [
    "plt.rcParams[\"figure.figsize\"] = (12, 8)\n",
    "sp = sns.heatmap(df.corr(), annot=True)\n",
    "plt.show()"
   ]
  },
  {
   "cell_type": "markdown",
   "id": "fc31a06e",
   "metadata": {},
   "source": [
    "#### Based on Analysis, will drop Season, Dew, Cloudcover and Visibility"
   ]
  },
  {
   "cell_type": "code",
   "execution_count": 16,
   "id": "understood-booking",
   "metadata": {},
   "outputs": [],
   "source": [
    "# Train Data\n",
    "train = df[df['Date']<=\"2021-06-01\"]"
   ]
  },
  {
   "cell_type": "code",
   "execution_count": 17,
   "id": "bibliographic-assistant",
   "metadata": {},
   "outputs": [],
   "source": [
    "# Test Data\n",
    "test = df[df['Date']>\"2021-06-01\"]"
   ]
  },
  {
   "cell_type": "code",
   "execution_count": 18,
   "id": "9ab0a190",
   "metadata": {},
   "outputs": [
    {
     "data": {
      "text/html": [
       "<div>\n",
       "<style scoped>\n",
       "    .dataframe tbody tr th:only-of-type {\n",
       "        vertical-align: middle;\n",
       "    }\n",
       "\n",
       "    .dataframe tbody tr th {\n",
       "        vertical-align: top;\n",
       "    }\n",
       "\n",
       "    .dataframe thead th {\n",
       "        text-align: right;\n",
       "    }\n",
       "</style>\n",
       "<table border=\"1\" class=\"dataframe\">\n",
       "  <thead>\n",
       "    <tr style=\"text-align: right;\">\n",
       "      <th></th>\n",
       "      <th>Date</th>\n",
       "      <th>Haryana Load (MW)</th>\n",
       "      <th>temp</th>\n",
       "      <th>dew</th>\n",
       "      <th>humidity</th>\n",
       "      <th>windspeed</th>\n",
       "      <th>winddir</th>\n",
       "      <th>cloudcover</th>\n",
       "      <th>visibility</th>\n",
       "      <th>month</th>\n",
       "      <th>weekday</th>\n",
       "      <th>hour</th>\n",
       "      <th>hour_part</th>\n",
       "      <th>year</th>\n",
       "      <th>day</th>\n",
       "      <th>Season</th>\n",
       "    </tr>\n",
       "  </thead>\n",
       "  <tbody>\n",
       "    <tr>\n",
       "      <th>70175</th>\n",
       "      <td>2018-01-01 00:00:00</td>\n",
       "      <td>3880.22</td>\n",
       "      <td>11.0</td>\n",
       "      <td>9.0</td>\n",
       "      <td>87.48</td>\n",
       "      <td>0.0</td>\n",
       "      <td>0.0</td>\n",
       "      <td>0.0</td>\n",
       "      <td>1.0</td>\n",
       "      <td>1</td>\n",
       "      <td>0</td>\n",
       "      <td>0</td>\n",
       "      <td>0</td>\n",
       "      <td>2018</td>\n",
       "      <td>1</td>\n",
       "      <td>0</td>\n",
       "    </tr>\n",
       "    <tr>\n",
       "      <th>70176</th>\n",
       "      <td>2018-01-01 00:15:00</td>\n",
       "      <td>3778.15</td>\n",
       "      <td>11.0</td>\n",
       "      <td>9.0</td>\n",
       "      <td>87.48</td>\n",
       "      <td>0.0</td>\n",
       "      <td>0.0</td>\n",
       "      <td>0.0</td>\n",
       "      <td>1.0</td>\n",
       "      <td>1</td>\n",
       "      <td>0</td>\n",
       "      <td>0</td>\n",
       "      <td>15</td>\n",
       "      <td>2018</td>\n",
       "      <td>1</td>\n",
       "      <td>0</td>\n",
       "    </tr>\n",
       "    <tr>\n",
       "      <th>70177</th>\n",
       "      <td>2018-01-01 00:30:00</td>\n",
       "      <td>3742.81</td>\n",
       "      <td>11.0</td>\n",
       "      <td>9.0</td>\n",
       "      <td>87.48</td>\n",
       "      <td>0.0</td>\n",
       "      <td>0.0</td>\n",
       "      <td>0.0</td>\n",
       "      <td>1.0</td>\n",
       "      <td>1</td>\n",
       "      <td>0</td>\n",
       "      <td>0</td>\n",
       "      <td>30</td>\n",
       "      <td>2018</td>\n",
       "      <td>1</td>\n",
       "      <td>0</td>\n",
       "    </tr>\n",
       "    <tr>\n",
       "      <th>70178</th>\n",
       "      <td>2018-01-01 00:45:00</td>\n",
       "      <td>3627.39</td>\n",
       "      <td>11.0</td>\n",
       "      <td>9.0</td>\n",
       "      <td>87.48</td>\n",
       "      <td>0.0</td>\n",
       "      <td>0.0</td>\n",
       "      <td>0.0</td>\n",
       "      <td>1.0</td>\n",
       "      <td>1</td>\n",
       "      <td>0</td>\n",
       "      <td>0</td>\n",
       "      <td>45</td>\n",
       "      <td>2018</td>\n",
       "      <td>1</td>\n",
       "      <td>0</td>\n",
       "    </tr>\n",
       "    <tr>\n",
       "      <th>70179</th>\n",
       "      <td>2018-01-01 01:00:00</td>\n",
       "      <td>3616.50</td>\n",
       "      <td>10.0</td>\n",
       "      <td>8.0</td>\n",
       "      <td>87.38</td>\n",
       "      <td>0.0</td>\n",
       "      <td>0.0</td>\n",
       "      <td>0.0</td>\n",
       "      <td>1.0</td>\n",
       "      <td>1</td>\n",
       "      <td>0</td>\n",
       "      <td>1</td>\n",
       "      <td>0</td>\n",
       "      <td>2018</td>\n",
       "      <td>1</td>\n",
       "      <td>0</td>\n",
       "    </tr>\n",
       "    <tr>\n",
       "      <th>...</th>\n",
       "      <td>...</td>\n",
       "      <td>...</td>\n",
       "      <td>...</td>\n",
       "      <td>...</td>\n",
       "      <td>...</td>\n",
       "      <td>...</td>\n",
       "      <td>...</td>\n",
       "      <td>...</td>\n",
       "      <td>...</td>\n",
       "      <td>...</td>\n",
       "      <td>...</td>\n",
       "      <td>...</td>\n",
       "      <td>...</td>\n",
       "      <td>...</td>\n",
       "      <td>...</td>\n",
       "      <td>...</td>\n",
       "    </tr>\n",
       "    <tr>\n",
       "      <th>189883</th>\n",
       "      <td>2021-05-31 23:00:00</td>\n",
       "      <td>4506.24</td>\n",
       "      <td>31.6</td>\n",
       "      <td>21.5</td>\n",
       "      <td>55.05</td>\n",
       "      <td>10.4</td>\n",
       "      <td>128.0</td>\n",
       "      <td>58.6</td>\n",
       "      <td>2.3</td>\n",
       "      <td>5</td>\n",
       "      <td>0</td>\n",
       "      <td>23</td>\n",
       "      <td>0</td>\n",
       "      <td>2021</td>\n",
       "      <td>31</td>\n",
       "      <td>1</td>\n",
       "    </tr>\n",
       "    <tr>\n",
       "      <th>189884</th>\n",
       "      <td>2021-05-31 23:15:00</td>\n",
       "      <td>4176.59</td>\n",
       "      <td>31.6</td>\n",
       "      <td>21.5</td>\n",
       "      <td>55.05</td>\n",
       "      <td>10.4</td>\n",
       "      <td>128.0</td>\n",
       "      <td>58.6</td>\n",
       "      <td>2.3</td>\n",
       "      <td>5</td>\n",
       "      <td>0</td>\n",
       "      <td>23</td>\n",
       "      <td>15</td>\n",
       "      <td>2021</td>\n",
       "      <td>31</td>\n",
       "      <td>1</td>\n",
       "    </tr>\n",
       "    <tr>\n",
       "      <th>189885</th>\n",
       "      <td>2021-05-31 23:30:00</td>\n",
       "      <td>3976.80</td>\n",
       "      <td>31.6</td>\n",
       "      <td>21.5</td>\n",
       "      <td>55.05</td>\n",
       "      <td>10.4</td>\n",
       "      <td>128.0</td>\n",
       "      <td>58.6</td>\n",
       "      <td>2.3</td>\n",
       "      <td>5</td>\n",
       "      <td>0</td>\n",
       "      <td>23</td>\n",
       "      <td>30</td>\n",
       "      <td>2021</td>\n",
       "      <td>31</td>\n",
       "      <td>1</td>\n",
       "    </tr>\n",
       "    <tr>\n",
       "      <th>189886</th>\n",
       "      <td>2021-05-31 23:45:00</td>\n",
       "      <td>3819.15</td>\n",
       "      <td>31.6</td>\n",
       "      <td>21.5</td>\n",
       "      <td>55.05</td>\n",
       "      <td>10.4</td>\n",
       "      <td>128.0</td>\n",
       "      <td>58.6</td>\n",
       "      <td>2.3</td>\n",
       "      <td>5</td>\n",
       "      <td>0</td>\n",
       "      <td>23</td>\n",
       "      <td>45</td>\n",
       "      <td>2021</td>\n",
       "      <td>31</td>\n",
       "      <td>1</td>\n",
       "    </tr>\n",
       "    <tr>\n",
       "      <th>189887</th>\n",
       "      <td>2021-06-01 00:00:00</td>\n",
       "      <td>3819.15</td>\n",
       "      <td>30.0</td>\n",
       "      <td>19.0</td>\n",
       "      <td>51.76</td>\n",
       "      <td>27.7</td>\n",
       "      <td>10.0</td>\n",
       "      <td>50.0</td>\n",
       "      <td>2.0</td>\n",
       "      <td>6</td>\n",
       "      <td>1</td>\n",
       "      <td>0</td>\n",
       "      <td>0</td>\n",
       "      <td>2021</td>\n",
       "      <td>1</td>\n",
       "      <td>2</td>\n",
       "    </tr>\n",
       "  </tbody>\n",
       "</table>\n",
       "<p>119709 rows × 16 columns</p>\n",
       "</div>"
      ],
      "text/plain": [
       "                      Date  Haryana Load (MW)  temp   dew  humidity  \\\n",
       "70175  2018-01-01 00:00:00            3880.22  11.0   9.0     87.48   \n",
       "70176  2018-01-01 00:15:00            3778.15  11.0   9.0     87.48   \n",
       "70177  2018-01-01 00:30:00            3742.81  11.0   9.0     87.48   \n",
       "70178  2018-01-01 00:45:00            3627.39  11.0   9.0     87.48   \n",
       "70179  2018-01-01 01:00:00            3616.50  10.0   8.0     87.38   \n",
       "...                    ...                ...   ...   ...       ...   \n",
       "189883 2021-05-31 23:00:00            4506.24  31.6  21.5     55.05   \n",
       "189884 2021-05-31 23:15:00            4176.59  31.6  21.5     55.05   \n",
       "189885 2021-05-31 23:30:00            3976.80  31.6  21.5     55.05   \n",
       "189886 2021-05-31 23:45:00            3819.15  31.6  21.5     55.05   \n",
       "189887 2021-06-01 00:00:00            3819.15  30.0  19.0     51.76   \n",
       "\n",
       "        windspeed  winddir  cloudcover  visibility  month  weekday  hour  \\\n",
       "70175         0.0      0.0         0.0         1.0      1        0     0   \n",
       "70176         0.0      0.0         0.0         1.0      1        0     0   \n",
       "70177         0.0      0.0         0.0         1.0      1        0     0   \n",
       "70178         0.0      0.0         0.0         1.0      1        0     0   \n",
       "70179         0.0      0.0         0.0         1.0      1        0     1   \n",
       "...           ...      ...         ...         ...    ...      ...   ...   \n",
       "189883       10.4    128.0        58.6         2.3      5        0    23   \n",
       "189884       10.4    128.0        58.6         2.3      5        0    23   \n",
       "189885       10.4    128.0        58.6         2.3      5        0    23   \n",
       "189886       10.4    128.0        58.6         2.3      5        0    23   \n",
       "189887       27.7     10.0        50.0         2.0      6        1     0   \n",
       "\n",
       "        hour_part  year  day  Season  \n",
       "70175           0  2018    1       0  \n",
       "70176          15  2018    1       0  \n",
       "70177          30  2018    1       0  \n",
       "70178          45  2018    1       0  \n",
       "70179           0  2018    1       0  \n",
       "...           ...   ...  ...     ...  \n",
       "189883          0  2021   31       1  \n",
       "189884         15  2021   31       1  \n",
       "189885         30  2021   31       1  \n",
       "189886         45  2021   31       1  \n",
       "189887          0  2021    1       2  \n",
       "\n",
       "[119709 rows x 16 columns]"
      ]
     },
     "execution_count": 18,
     "metadata": {},
     "output_type": "execute_result"
    }
   ],
   "source": [
    "train"
   ]
  },
  {
   "cell_type": "code",
   "execution_count": 19,
   "id": "3e8a9daf",
   "metadata": {},
   "outputs": [
    {
     "data": {
      "text/html": [
       "<div>\n",
       "<style scoped>\n",
       "    .dataframe tbody tr th:only-of-type {\n",
       "        vertical-align: middle;\n",
       "    }\n",
       "\n",
       "    .dataframe tbody tr th {\n",
       "        vertical-align: top;\n",
       "    }\n",
       "\n",
       "    .dataframe thead th {\n",
       "        text-align: right;\n",
       "    }\n",
       "</style>\n",
       "<table border=\"1\" class=\"dataframe\">\n",
       "  <thead>\n",
       "    <tr style=\"text-align: right;\">\n",
       "      <th></th>\n",
       "      <th>Date</th>\n",
       "      <th>Haryana Load (MW)</th>\n",
       "      <th>temp</th>\n",
       "      <th>dew</th>\n",
       "      <th>humidity</th>\n",
       "      <th>windspeed</th>\n",
       "      <th>winddir</th>\n",
       "      <th>cloudcover</th>\n",
       "      <th>visibility</th>\n",
       "      <th>month</th>\n",
       "      <th>weekday</th>\n",
       "      <th>hour</th>\n",
       "      <th>hour_part</th>\n",
       "      <th>year</th>\n",
       "      <th>day</th>\n",
       "      <th>Season</th>\n",
       "    </tr>\n",
       "  </thead>\n",
       "  <tbody>\n",
       "    <tr>\n",
       "      <th>189888</th>\n",
       "      <td>2021-06-01 00:15:00</td>\n",
       "      <td>3639.93</td>\n",
       "      <td>30.0</td>\n",
       "      <td>19.0</td>\n",
       "      <td>51.76</td>\n",
       "      <td>27.7</td>\n",
       "      <td>10.0</td>\n",
       "      <td>50.0</td>\n",
       "      <td>2.0</td>\n",
       "      <td>6</td>\n",
       "      <td>1</td>\n",
       "      <td>0</td>\n",
       "      <td>15</td>\n",
       "      <td>2021</td>\n",
       "      <td>1</td>\n",
       "      <td>2</td>\n",
       "    </tr>\n",
       "    <tr>\n",
       "      <th>189889</th>\n",
       "      <td>2021-06-01 00:30:00</td>\n",
       "      <td>3486.01</td>\n",
       "      <td>30.0</td>\n",
       "      <td>19.0</td>\n",
       "      <td>51.76</td>\n",
       "      <td>27.7</td>\n",
       "      <td>10.0</td>\n",
       "      <td>50.0</td>\n",
       "      <td>2.0</td>\n",
       "      <td>6</td>\n",
       "      <td>1</td>\n",
       "      <td>0</td>\n",
       "      <td>30</td>\n",
       "      <td>2021</td>\n",
       "      <td>1</td>\n",
       "      <td>2</td>\n",
       "    </tr>\n",
       "    <tr>\n",
       "      <th>189890</th>\n",
       "      <td>2021-06-01 00:45:00</td>\n",
       "      <td>3156.73</td>\n",
       "      <td>30.0</td>\n",
       "      <td>19.0</td>\n",
       "      <td>51.76</td>\n",
       "      <td>27.7</td>\n",
       "      <td>10.0</td>\n",
       "      <td>50.0</td>\n",
       "      <td>2.0</td>\n",
       "      <td>6</td>\n",
       "      <td>1</td>\n",
       "      <td>0</td>\n",
       "      <td>45</td>\n",
       "      <td>2021</td>\n",
       "      <td>1</td>\n",
       "      <td>2</td>\n",
       "    </tr>\n",
       "    <tr>\n",
       "      <th>189891</th>\n",
       "      <td>2021-06-01 01:00:00</td>\n",
       "      <td>2776.86</td>\n",
       "      <td>21.0</td>\n",
       "      <td>20.0</td>\n",
       "      <td>94.02</td>\n",
       "      <td>27.7</td>\n",
       "      <td>330.0</td>\n",
       "      <td>100.0</td>\n",
       "      <td>2.0</td>\n",
       "      <td>6</td>\n",
       "      <td>1</td>\n",
       "      <td>1</td>\n",
       "      <td>0</td>\n",
       "      <td>2021</td>\n",
       "      <td>1</td>\n",
       "      <td>2</td>\n",
       "    </tr>\n",
       "    <tr>\n",
       "      <th>189892</th>\n",
       "      <td>2021-06-01 01:15:00</td>\n",
       "      <td>2446.95</td>\n",
       "      <td>21.0</td>\n",
       "      <td>20.0</td>\n",
       "      <td>94.02</td>\n",
       "      <td>27.7</td>\n",
       "      <td>330.0</td>\n",
       "      <td>100.0</td>\n",
       "      <td>2.0</td>\n",
       "      <td>6</td>\n",
       "      <td>1</td>\n",
       "      <td>1</td>\n",
       "      <td>15</td>\n",
       "      <td>2021</td>\n",
       "      <td>1</td>\n",
       "      <td>2</td>\n",
       "    </tr>\n",
       "    <tr>\n",
       "      <th>...</th>\n",
       "      <td>...</td>\n",
       "      <td>...</td>\n",
       "      <td>...</td>\n",
       "      <td>...</td>\n",
       "      <td>...</td>\n",
       "      <td>...</td>\n",
       "      <td>...</td>\n",
       "      <td>...</td>\n",
       "      <td>...</td>\n",
       "      <td>...</td>\n",
       "      <td>...</td>\n",
       "      <td>...</td>\n",
       "      <td>...</td>\n",
       "      <td>...</td>\n",
       "      <td>...</td>\n",
       "      <td>...</td>\n",
       "    </tr>\n",
       "    <tr>\n",
       "      <th>210426</th>\n",
       "      <td>2021-12-31 22:45:00</td>\n",
       "      <td>4712.55</td>\n",
       "      <td>10.0</td>\n",
       "      <td>8.0</td>\n",
       "      <td>87.38</td>\n",
       "      <td>0.0</td>\n",
       "      <td>0.0</td>\n",
       "      <td>27.4</td>\n",
       "      <td>2.0</td>\n",
       "      <td>12</td>\n",
       "      <td>4</td>\n",
       "      <td>22</td>\n",
       "      <td>45</td>\n",
       "      <td>2021</td>\n",
       "      <td>31</td>\n",
       "      <td>0</td>\n",
       "    </tr>\n",
       "    <tr>\n",
       "      <th>210427</th>\n",
       "      <td>2021-12-31 23:00:00</td>\n",
       "      <td>4649.58</td>\n",
       "      <td>9.2</td>\n",
       "      <td>7.3</td>\n",
       "      <td>88.04</td>\n",
       "      <td>0.0</td>\n",
       "      <td>0.0</td>\n",
       "      <td>28.5</td>\n",
       "      <td>1.3</td>\n",
       "      <td>12</td>\n",
       "      <td>4</td>\n",
       "      <td>23</td>\n",
       "      <td>0</td>\n",
       "      <td>2021</td>\n",
       "      <td>31</td>\n",
       "      <td>0</td>\n",
       "    </tr>\n",
       "    <tr>\n",
       "      <th>210428</th>\n",
       "      <td>2021-12-31 23:15:00</td>\n",
       "      <td>4571.39</td>\n",
       "      <td>9.2</td>\n",
       "      <td>7.3</td>\n",
       "      <td>88.04</td>\n",
       "      <td>0.0</td>\n",
       "      <td>0.0</td>\n",
       "      <td>28.5</td>\n",
       "      <td>1.3</td>\n",
       "      <td>12</td>\n",
       "      <td>4</td>\n",
       "      <td>23</td>\n",
       "      <td>15</td>\n",
       "      <td>2021</td>\n",
       "      <td>31</td>\n",
       "      <td>0</td>\n",
       "    </tr>\n",
       "    <tr>\n",
       "      <th>210429</th>\n",
       "      <td>2021-12-31 23:30:00</td>\n",
       "      <td>4510.39</td>\n",
       "      <td>9.2</td>\n",
       "      <td>7.3</td>\n",
       "      <td>88.04</td>\n",
       "      <td>0.0</td>\n",
       "      <td>0.0</td>\n",
       "      <td>28.5</td>\n",
       "      <td>1.3</td>\n",
       "      <td>12</td>\n",
       "      <td>4</td>\n",
       "      <td>23</td>\n",
       "      <td>30</td>\n",
       "      <td>2021</td>\n",
       "      <td>31</td>\n",
       "      <td>0</td>\n",
       "    </tr>\n",
       "    <tr>\n",
       "      <th>210430</th>\n",
       "      <td>2021-12-31 23:45:00</td>\n",
       "      <td>4449.94</td>\n",
       "      <td>9.2</td>\n",
       "      <td>7.3</td>\n",
       "      <td>88.04</td>\n",
       "      <td>0.0</td>\n",
       "      <td>0.0</td>\n",
       "      <td>28.5</td>\n",
       "      <td>1.3</td>\n",
       "      <td>12</td>\n",
       "      <td>4</td>\n",
       "      <td>23</td>\n",
       "      <td>45</td>\n",
       "      <td>2021</td>\n",
       "      <td>31</td>\n",
       "      <td>0</td>\n",
       "    </tr>\n",
       "  </tbody>\n",
       "</table>\n",
       "<p>20543 rows × 16 columns</p>\n",
       "</div>"
      ],
      "text/plain": [
       "                      Date  Haryana Load (MW)  temp   dew  humidity  \\\n",
       "189888 2021-06-01 00:15:00            3639.93  30.0  19.0     51.76   \n",
       "189889 2021-06-01 00:30:00            3486.01  30.0  19.0     51.76   \n",
       "189890 2021-06-01 00:45:00            3156.73  30.0  19.0     51.76   \n",
       "189891 2021-06-01 01:00:00            2776.86  21.0  20.0     94.02   \n",
       "189892 2021-06-01 01:15:00            2446.95  21.0  20.0     94.02   \n",
       "...                    ...                ...   ...   ...       ...   \n",
       "210426 2021-12-31 22:45:00            4712.55  10.0   8.0     87.38   \n",
       "210427 2021-12-31 23:00:00            4649.58   9.2   7.3     88.04   \n",
       "210428 2021-12-31 23:15:00            4571.39   9.2   7.3     88.04   \n",
       "210429 2021-12-31 23:30:00            4510.39   9.2   7.3     88.04   \n",
       "210430 2021-12-31 23:45:00            4449.94   9.2   7.3     88.04   \n",
       "\n",
       "        windspeed  winddir  cloudcover  visibility  month  weekday  hour  \\\n",
       "189888       27.7     10.0        50.0         2.0      6        1     0   \n",
       "189889       27.7     10.0        50.0         2.0      6        1     0   \n",
       "189890       27.7     10.0        50.0         2.0      6        1     0   \n",
       "189891       27.7    330.0       100.0         2.0      6        1     1   \n",
       "189892       27.7    330.0       100.0         2.0      6        1     1   \n",
       "...           ...      ...         ...         ...    ...      ...   ...   \n",
       "210426        0.0      0.0        27.4         2.0     12        4    22   \n",
       "210427        0.0      0.0        28.5         1.3     12        4    23   \n",
       "210428        0.0      0.0        28.5         1.3     12        4    23   \n",
       "210429        0.0      0.0        28.5         1.3     12        4    23   \n",
       "210430        0.0      0.0        28.5         1.3     12        4    23   \n",
       "\n",
       "        hour_part  year  day  Season  \n",
       "189888         15  2021    1       2  \n",
       "189889         30  2021    1       2  \n",
       "189890         45  2021    1       2  \n",
       "189891          0  2021    1       2  \n",
       "189892         15  2021    1       2  \n",
       "...           ...   ...  ...     ...  \n",
       "210426         45  2021   31       0  \n",
       "210427          0  2021   31       0  \n",
       "210428         15  2021   31       0  \n",
       "210429         30  2021   31       0  \n",
       "210430         45  2021   31       0  \n",
       "\n",
       "[20543 rows x 16 columns]"
      ]
     },
     "execution_count": 19,
     "metadata": {},
     "output_type": "execute_result"
    }
   ],
   "source": [
    "test"
   ]
  },
  {
   "cell_type": "code",
   "execution_count": 28,
   "id": "empty-emergency",
   "metadata": {},
   "outputs": [],
   "source": [
    "x_train = train[['hour', 'weekday', 'temp',\n",
    "       'winddir', 'hour_part', 'day', 'month', 'humidity']]\n",
    "y_train = train[['Haryana Load (MW)']]"
   ]
  },
  {
   "cell_type": "code",
   "execution_count": 29,
   "id": "leading-outline",
   "metadata": {},
   "outputs": [],
   "source": [
    "x_test = test[['hour', 'weekday', 'temp',\n",
    "       'winddir', 'hour_part', 'day', 'month', 'humidity']]\n",
    "y_test = test[['Haryana Load (MW)']]"
   ]
  },
  {
   "cell_type": "code",
   "execution_count": 30,
   "id": "removable-luther",
   "metadata": {},
   "outputs": [
    {
     "data": {
      "text/html": [
       "<div>\n",
       "<style scoped>\n",
       "    .dataframe tbody tr th:only-of-type {\n",
       "        vertical-align: middle;\n",
       "    }\n",
       "\n",
       "    .dataframe tbody tr th {\n",
       "        vertical-align: top;\n",
       "    }\n",
       "\n",
       "    .dataframe thead th {\n",
       "        text-align: right;\n",
       "    }\n",
       "</style>\n",
       "<table border=\"1\" class=\"dataframe\">\n",
       "  <thead>\n",
       "    <tr style=\"text-align: right;\">\n",
       "      <th></th>\n",
       "      <th>hour</th>\n",
       "      <th>weekday</th>\n",
       "      <th>temp</th>\n",
       "      <th>winddir</th>\n",
       "      <th>hour_part</th>\n",
       "      <th>day</th>\n",
       "      <th>month</th>\n",
       "      <th>humidity</th>\n",
       "    </tr>\n",
       "  </thead>\n",
       "  <tbody>\n",
       "    <tr>\n",
       "      <th>count</th>\n",
       "      <td>20543.000000</td>\n",
       "      <td>20543.000000</td>\n",
       "      <td>20543.000000</td>\n",
       "      <td>20543.000000</td>\n",
       "      <td>20543.000000</td>\n",
       "      <td>20543.000000</td>\n",
       "      <td>20543.000000</td>\n",
       "      <td>20543.000000</td>\n",
       "    </tr>\n",
       "    <tr>\n",
       "      <th>mean</th>\n",
       "      <td>11.500560</td>\n",
       "      <td>2.990751</td>\n",
       "      <td>26.290746</td>\n",
       "      <td>144.249331</td>\n",
       "      <td>22.501095</td>\n",
       "      <td>15.790440</td>\n",
       "      <td>9.004819</td>\n",
       "      <td>72.787525</td>\n",
       "    </tr>\n",
       "    <tr>\n",
       "      <th>std</th>\n",
       "      <td>6.922058</td>\n",
       "      <td>1.988310</td>\n",
       "      <td>7.092862</td>\n",
       "      <td>112.560636</td>\n",
       "      <td>16.770591</td>\n",
       "      <td>8.827231</td>\n",
       "      <td>1.998813</td>\n",
       "      <td>19.693465</td>\n",
       "    </tr>\n",
       "    <tr>\n",
       "      <th>min</th>\n",
       "      <td>0.000000</td>\n",
       "      <td>0.000000</td>\n",
       "      <td>5.000000</td>\n",
       "      <td>0.000000</td>\n",
       "      <td>0.000000</td>\n",
       "      <td>1.000000</td>\n",
       "      <td>6.000000</td>\n",
       "      <td>19.570000</td>\n",
       "    </tr>\n",
       "    <tr>\n",
       "      <th>25%</th>\n",
       "      <td>6.000000</td>\n",
       "      <td>1.000000</td>\n",
       "      <td>21.400000</td>\n",
       "      <td>40.000000</td>\n",
       "      <td>15.000000</td>\n",
       "      <td>8.000000</td>\n",
       "      <td>7.000000</td>\n",
       "      <td>58.110000</td>\n",
       "    </tr>\n",
       "    <tr>\n",
       "      <th>50%</th>\n",
       "      <td>12.000000</td>\n",
       "      <td>3.000000</td>\n",
       "      <td>28.000000</td>\n",
       "      <td>120.000000</td>\n",
       "      <td>30.000000</td>\n",
       "      <td>16.000000</td>\n",
       "      <td>9.000000</td>\n",
       "      <td>77.140000</td>\n",
       "    </tr>\n",
       "    <tr>\n",
       "      <th>75%</th>\n",
       "      <td>17.500000</td>\n",
       "      <td>5.000000</td>\n",
       "      <td>31.000000</td>\n",
       "      <td>260.000000</td>\n",
       "      <td>37.500000</td>\n",
       "      <td>23.000000</td>\n",
       "      <td>11.000000</td>\n",
       "      <td>88.920000</td>\n",
       "    </tr>\n",
       "    <tr>\n",
       "      <th>max</th>\n",
       "      <td>23.000000</td>\n",
       "      <td>6.000000</td>\n",
       "      <td>43.000000</td>\n",
       "      <td>360.000000</td>\n",
       "      <td>45.000000</td>\n",
       "      <td>31.000000</td>\n",
       "      <td>12.000000</td>\n",
       "      <td>100.000000</td>\n",
       "    </tr>\n",
       "  </tbody>\n",
       "</table>\n",
       "</div>"
      ],
      "text/plain": [
       "               hour       weekday          temp       winddir     hour_part  \\\n",
       "count  20543.000000  20543.000000  20543.000000  20543.000000  20543.000000   \n",
       "mean      11.500560      2.990751     26.290746    144.249331     22.501095   \n",
       "std        6.922058      1.988310      7.092862    112.560636     16.770591   \n",
       "min        0.000000      0.000000      5.000000      0.000000      0.000000   \n",
       "25%        6.000000      1.000000     21.400000     40.000000     15.000000   \n",
       "50%       12.000000      3.000000     28.000000    120.000000     30.000000   \n",
       "75%       17.500000      5.000000     31.000000    260.000000     37.500000   \n",
       "max       23.000000      6.000000     43.000000    360.000000     45.000000   \n",
       "\n",
       "                day         month      humidity  \n",
       "count  20543.000000  20543.000000  20543.000000  \n",
       "mean      15.790440      9.004819     72.787525  \n",
       "std        8.827231      1.998813     19.693465  \n",
       "min        1.000000      6.000000     19.570000  \n",
       "25%        8.000000      7.000000     58.110000  \n",
       "50%       16.000000      9.000000     77.140000  \n",
       "75%       23.000000     11.000000     88.920000  \n",
       "max       31.000000     12.000000    100.000000  "
      ]
     },
     "execution_count": 30,
     "metadata": {},
     "output_type": "execute_result"
    }
   ],
   "source": [
    "x_test.describe()"
   ]
  },
  {
   "cell_type": "code",
   "execution_count": 31,
   "id": "strong-madagascar",
   "metadata": {},
   "outputs": [],
   "source": [
    "import xgboost as xgb\n",
    "from sklearn.model_selection import GridSearchCV"
   ]
  },
  {
   "cell_type": "code",
   "execution_count": 32,
   "id": "joined-filling",
   "metadata": {},
   "outputs": [
    {
     "data": {
      "text/plain": [
       "XGBRegressor(base_score=0.5, booster='gbtree', callbacks=None,\n",
       "             colsample_bylevel=1, colsample_bynode=1, colsample_bytree=1,\n",
       "             early_stopping_rounds=None, enable_categorical=False,\n",
       "             eval_metric=None, gamma=0, gpu_id=-1, grow_policy='depthwise',\n",
       "             importance_type=None, interaction_constraints='',\n",
       "             learning_rate=0.300000012, max_bin=256, max_cat_to_onehot=4,\n",
       "             max_delta_step=0, max_depth=6, max_leaves=0, min_child_weight=1,\n",
       "             missing=nan, monotone_constraints='()', n_estimators=100, n_jobs=0,\n",
       "             num_parallel_tree=1, predictor='auto', random_state=0, reg_alpha=0,\n",
       "             reg_lambda=1, ...)"
      ]
     },
     "execution_count": 32,
     "metadata": {},
     "output_type": "execute_result"
    }
   ],
   "source": [
    "model = xgb.XGBRegressor()\n",
    "model.fit(x_train, y_train)"
   ]
  },
  {
   "cell_type": "code",
   "execution_count": 33,
   "id": "widespread-distinction",
   "metadata": {},
   "outputs": [],
   "source": [
    "preds = model.predict(x_test)"
   ]
  },
  {
   "cell_type": "code",
   "execution_count": 34,
   "id": "corporate-medline",
   "metadata": {},
   "outputs": [
    {
     "name": "stderr",
     "output_type": "stream",
     "text": [
      "C:\\Users\\HP\\AppData\\Local\\Temp/ipykernel_4312/2190438978.py:1: SettingWithCopyWarning: \n",
      "A value is trying to be set on a copy of a slice from a DataFrame.\n",
      "Try using .loc[row_indexer,col_indexer] = value instead\n",
      "\n",
      "See the caveats in the documentation: https://pandas.pydata.org/pandas-docs/stable/user_guide/indexing.html#returning-a-view-versus-a-copy\n",
      "  y_test['pred'] = preds\n"
     ]
    }
   ],
   "source": [
    "y_test['pred'] = preds"
   ]
  },
  {
   "cell_type": "code",
   "execution_count": 35,
   "id": "cubic-checkout",
   "metadata": {},
   "outputs": [
    {
     "data": {
      "text/plain": [
       "0.7382334186142572"
      ]
     },
     "execution_count": 35,
     "metadata": {},
     "output_type": "execute_result"
    }
   ],
   "source": [
    "from sklearn.metrics import r2_score\n",
    "r2_score(y_test['Haryana Load (MW)'],y_test['pred'])"
   ]
  },
  {
   "cell_type": "code",
   "execution_count": 36,
   "id": "2ef2d000",
   "metadata": {},
   "outputs": [
    {
     "data": {
      "text/plain": [
       "<matplotlib.legend.Legend at 0x1db3deabf70>"
      ]
     },
     "execution_count": 36,
     "metadata": {},
     "output_type": "execute_result"
    },
    {
     "data": {
      "image/png": "[encoded data removed]",
      "text/plain": [
       "<Figure size 720x432 with 1 Axes>"
      ]
     },
     "metadata": {
      "needs_background": "light"
     },
     "output_type": "display_data"
    }
   ],
   "source": [
    "import matplotlib.pyplot as plt\n",
    "%matplotlib inline\n",
    "\n",
    "plt.rcParams[\"figure.figsize\"] = (10,6)\n",
    "plt.plot(test['Date'], y_test['Haryana Load (MW)'])\n",
    "plt.plot(test['Date'], y_test['pred'])\n",
    "plt.title('XgBoost Best Scoring Model Plot')\n",
    "plt.legend(['Actual', 'Predicted'])"
   ]
  },
  {
   "cell_type": "code",
   "execution_count": 37,
   "id": "f42e50c3",
   "metadata": {},
   "outputs": [],
   "source": [
    "from sklearn.ensemble import RandomForestRegressor"
   ]
  },
  {
   "cell_type": "code",
   "execution_count": 38,
   "id": "ff08a3f6",
   "metadata": {},
   "outputs": [],
   "source": [
    "regr = RandomForestRegressor()"
   ]
  },
  {
   "cell_type": "code",
   "execution_count": 39,
   "id": "f6040f70",
   "metadata": {},
   "outputs": [
    {
     "name": "stderr",
     "output_type": "stream",
     "text": [
      "C:\\Users\\HP\\AppData\\Local\\Temp/ipykernel_4312/1990009532.py:1: DataConversionWarning: A column-vector y was passed when a 1d array was expected. Please change the shape of y to (n_samples,), for example using ravel().\n",
      "  regr.fit(x_train, y_train)\n"
     ]
    },
    {
     "data": {
      "text/plain": [
       "RandomForestRegressor()"
      ]
     },
     "execution_count": 39,
     "metadata": {},
     "output_type": "execute_result"
    }
   ],
   "source": [
    "regr.fit(x_train, y_train)"
   ]
  },
  {
   "cell_type": "code",
   "execution_count": 40,
   "id": "2c47aa68",
   "metadata": {},
   "outputs": [],
   "source": [
    "preds = model.predict(x_test)"
   ]
  },
  {
   "cell_type": "code",
   "execution_count": 41,
   "id": "a1b9c84b",
   "metadata": {},
   "outputs": [
    {
     "name": "stderr",
     "output_type": "stream",
     "text": [
      "C:\\Users\\HP\\AppData\\Local\\Temp/ipykernel_4312/2190438978.py:1: SettingWithCopyWarning: \n",
      "A value is trying to be set on a copy of a slice from a DataFrame.\n",
      "Try using .loc[row_indexer,col_indexer] = value instead\n",
      "\n",
      "See the caveats in the documentation: https://pandas.pydata.org/pandas-docs/stable/user_guide/indexing.html#returning-a-view-versus-a-copy\n",
      "  y_test['pred'] = preds\n"
     ]
    }
   ],
   "source": [
    "y_test['pred'] = preds"
   ]
  },
  {
   "cell_type": "code",
   "execution_count": 42,
   "id": "4244c6a2",
   "metadata": {},
   "outputs": [
    {
     "data": {
      "text/plain": [
       "0.7382334186142572"
      ]
     },
     "execution_count": 42,
     "metadata": {},
     "output_type": "execute_result"
    }
   ],
   "source": [
    "from sklearn.metrics import r2_score\n",
    "r2_score(y_test['Haryana Load (MW)'],y_test['pred'])"
   ]
  },
  {
   "cell_type": "markdown",
   "id": "4793c556",
   "metadata": {},
   "source": [
    "#### R2 = 0.7382"
   ]
  },
  {
   "cell_type": "markdown",
   "id": "26da2f51",
   "metadata": {},
   "source": [
    "#### Inputs for CV Save"
   ]
  },
  {
   "cell_type": "code",
   "execution_count": 43,
   "id": "0014e83c",
   "metadata": {},
   "outputs": [],
   "source": [
    "# x_train.to_csv('x_train_ncv.csv')\n",
    "# y_train.to_csv('y_train_ncv.csv')\n",
    "# x_test.to_csv('x_test_ncv.csv')\n",
    "# y_test.to_csv('y_test_ncv.csv')"
   ]
  },
  {
   "cell_type": "code",
   "execution_count": 44,
   "id": "86a6530d",
   "metadata": {},
   "outputs": [],
   "source": [
    "# X = df[['month', 'hour', 'weekday', 'temp',\n",
    "#        'humidity', 'winddir', 'visibility', 'cloudcover',\n",
    "#        'hour_part', 'day', 'Season']]\n",
    "# Y = df[['Haryana Load (MW)']]"
   ]
  },
  {
   "cell_type": "markdown",
   "id": "e792ae92",
   "metadata": {},
   "source": [
    "#### Bucket Analysis"
   ]
  },
  {
   "cell_type": "code",
   "execution_count": 92,
   "id": "cc47e975",
   "metadata": {},
   "outputs": [
    {
     "data": {
      "text/plain": [
       "119709"
      ]
     },
     "execution_count": 92,
     "metadata": {},
     "output_type": "execute_result"
    }
   ],
   "source": [
    "len(x_train)"
   ]
  },
  {
   "cell_type": "code",
   "execution_count": 93,
   "id": "2b93928e",
   "metadata": {},
   "outputs": [],
   "source": [
    "train_predictions = model.predict(x_train)"
   ]
  },
  {
   "cell_type": "code",
   "execution_count": 94,
   "id": "5e56d04f",
   "metadata": {},
   "outputs": [],
   "source": [
    "y_train = y_train.reset_index().drop(columns='index')"
   ]
  },
  {
   "cell_type": "code",
   "execution_count": 95,
   "id": "6387e858",
   "metadata": {},
   "outputs": [],
   "source": [
    "y_train_with_error = y_train.join(pd.Series(train_predictions, name='preds'))"
   ]
  },
  {
   "cell_type": "code",
   "execution_count": 96,
   "id": "69f612a1",
   "metadata": {},
   "outputs": [],
   "source": [
    "y_train_with_error['Error'] = y_train_with_error['Haryana Load (MW)'] - y_train_with_error['preds']"
   ]
  },
  {
   "cell_type": "code",
   "execution_count": 97,
   "id": "dfd436e5",
   "metadata": {},
   "outputs": [],
   "source": [
    "y_train_with_error['Percent Error'] = y_train_with_error['Error']*100/y_train_with_error['Haryana Load (MW)']"
   ]
  },
  {
   "cell_type": "code",
   "execution_count": 98,
   "id": "909e0f13",
   "metadata": {},
   "outputs": [],
   "source": [
    "y_errorful_buckets = y_train_with_error[np.abs(y_train_with_error['Percent Error']) > 7]"
   ]
  },
  {
   "cell_type": "code",
   "execution_count": 99,
   "id": "c71b5188",
   "metadata": {},
   "outputs": [],
   "source": [
    "x_train = x_train.reset_index().drop(columns='index')"
   ]
  },
  {
   "cell_type": "code",
   "execution_count": 100,
   "id": "bd89e70e",
   "metadata": {},
   "outputs": [
    {
     "data": {
      "text/plain": [
       "Int64Index([    28,     29,     32,     33,     38,     39,     46,     47,\n",
       "                48,     50,\n",
       "            ...\n",
       "            119699, 119700, 119701, 119702, 119703, 119704, 119705, 119706,\n",
       "            119707, 119708],\n",
       "           dtype='int64', length=40700)"
      ]
     },
     "execution_count": 100,
     "metadata": {},
     "output_type": "execute_result"
    }
   ],
   "source": [
    "y_errorful_buckets.index"
   ]
  },
  {
   "cell_type": "code",
   "execution_count": 101,
   "id": "276afc9b",
   "metadata": {},
   "outputs": [],
   "source": [
    "x_train_new = x_train.drop(index = y_errorful_buckets.index)"
   ]
  },
  {
   "cell_type": "code",
   "execution_count": 102,
   "id": "55db2747",
   "metadata": {},
   "outputs": [
    {
     "data": {
      "text/html": [
       "<div>\n",
       "<style scoped>\n",
       "    .dataframe tbody tr th:only-of-type {\n",
       "        vertical-align: middle;\n",
       "    }\n",
       "\n",
       "    .dataframe tbody tr th {\n",
       "        vertical-align: top;\n",
       "    }\n",
       "\n",
       "    .dataframe thead th {\n",
       "        text-align: right;\n",
       "    }\n",
       "</style>\n",
       "<table border=\"1\" class=\"dataframe\">\n",
       "  <thead>\n",
       "    <tr style=\"text-align: right;\">\n",
       "      <th></th>\n",
       "      <th>hour</th>\n",
       "      <th>weekday</th>\n",
       "      <th>temp</th>\n",
       "      <th>winddir</th>\n",
       "      <th>hour_part</th>\n",
       "      <th>day</th>\n",
       "      <th>month</th>\n",
       "      <th>humidity</th>\n",
       "    </tr>\n",
       "  </thead>\n",
       "  <tbody>\n",
       "    <tr>\n",
       "      <th>0</th>\n",
       "      <td>0</td>\n",
       "      <td>0</td>\n",
       "      <td>11.0</td>\n",
       "      <td>0.0</td>\n",
       "      <td>0</td>\n",
       "      <td>1</td>\n",
       "      <td>1</td>\n",
       "      <td>87.48</td>\n",
       "    </tr>\n",
       "    <tr>\n",
       "      <th>1</th>\n",
       "      <td>0</td>\n",
       "      <td>0</td>\n",
       "      <td>11.0</td>\n",
       "      <td>0.0</td>\n",
       "      <td>15</td>\n",
       "      <td>1</td>\n",
       "      <td>1</td>\n",
       "      <td>87.48</td>\n",
       "    </tr>\n",
       "    <tr>\n",
       "      <th>2</th>\n",
       "      <td>0</td>\n",
       "      <td>0</td>\n",
       "      <td>11.0</td>\n",
       "      <td>0.0</td>\n",
       "      <td>30</td>\n",
       "      <td>1</td>\n",
       "      <td>1</td>\n",
       "      <td>87.48</td>\n",
       "    </tr>\n",
       "    <tr>\n",
       "      <th>3</th>\n",
       "      <td>0</td>\n",
       "      <td>0</td>\n",
       "      <td>11.0</td>\n",
       "      <td>0.0</td>\n",
       "      <td>45</td>\n",
       "      <td>1</td>\n",
       "      <td>1</td>\n",
       "      <td>87.48</td>\n",
       "    </tr>\n",
       "    <tr>\n",
       "      <th>4</th>\n",
       "      <td>1</td>\n",
       "      <td>0</td>\n",
       "      <td>10.0</td>\n",
       "      <td>0.0</td>\n",
       "      <td>0</td>\n",
       "      <td>1</td>\n",
       "      <td>1</td>\n",
       "      <td>87.38</td>\n",
       "    </tr>\n",
       "    <tr>\n",
       "      <th>...</th>\n",
       "      <td>...</td>\n",
       "      <td>...</td>\n",
       "      <td>...</td>\n",
       "      <td>...</td>\n",
       "      <td>...</td>\n",
       "      <td>...</td>\n",
       "      <td>...</td>\n",
       "      <td>...</td>\n",
       "    </tr>\n",
       "    <tr>\n",
       "      <th>119693</th>\n",
       "      <td>20</td>\n",
       "      <td>0</td>\n",
       "      <td>33.5</td>\n",
       "      <td>110.0</td>\n",
       "      <td>15</td>\n",
       "      <td>31</td>\n",
       "      <td>5</td>\n",
       "      <td>49.88</td>\n",
       "    </tr>\n",
       "    <tr>\n",
       "      <th>119694</th>\n",
       "      <td>20</td>\n",
       "      <td>0</td>\n",
       "      <td>33.5</td>\n",
       "      <td>110.0</td>\n",
       "      <td>30</td>\n",
       "      <td>31</td>\n",
       "      <td>5</td>\n",
       "      <td>49.88</td>\n",
       "    </tr>\n",
       "    <tr>\n",
       "      <th>119695</th>\n",
       "      <td>20</td>\n",
       "      <td>0</td>\n",
       "      <td>33.5</td>\n",
       "      <td>110.0</td>\n",
       "      <td>45</td>\n",
       "      <td>31</td>\n",
       "      <td>5</td>\n",
       "      <td>49.88</td>\n",
       "    </tr>\n",
       "    <tr>\n",
       "      <th>119696</th>\n",
       "      <td>21</td>\n",
       "      <td>0</td>\n",
       "      <td>34.0</td>\n",
       "      <td>120.0</td>\n",
       "      <td>0</td>\n",
       "      <td>31</td>\n",
       "      <td>5</td>\n",
       "      <td>41.27</td>\n",
       "    </tr>\n",
       "    <tr>\n",
       "      <th>119697</th>\n",
       "      <td>21</td>\n",
       "      <td>0</td>\n",
       "      <td>34.0</td>\n",
       "      <td>120.0</td>\n",
       "      <td>15</td>\n",
       "      <td>31</td>\n",
       "      <td>5</td>\n",
       "      <td>41.27</td>\n",
       "    </tr>\n",
       "  </tbody>\n",
       "</table>\n",
       "<p>79009 rows × 8 columns</p>\n",
       "</div>"
      ],
      "text/plain": [
       "        hour  weekday  temp  winddir  hour_part  day  month  humidity\n",
       "0          0        0  11.0      0.0          0    1      1     87.48\n",
       "1          0        0  11.0      0.0         15    1      1     87.48\n",
       "2          0        0  11.0      0.0         30    1      1     87.48\n",
       "3          0        0  11.0      0.0         45    1      1     87.48\n",
       "4          1        0  10.0      0.0          0    1      1     87.38\n",
       "...      ...      ...   ...      ...        ...  ...    ...       ...\n",
       "119693    20        0  33.5    110.0         15   31      5     49.88\n",
       "119694    20        0  33.5    110.0         30   31      5     49.88\n",
       "119695    20        0  33.5    110.0         45   31      5     49.88\n",
       "119696    21        0  34.0    120.0          0   31      5     41.27\n",
       "119697    21        0  34.0    120.0         15   31      5     41.27\n",
       "\n",
       "[79009 rows x 8 columns]"
      ]
     },
     "execution_count": 102,
     "metadata": {},
     "output_type": "execute_result"
    }
   ],
   "source": [
    "x_train_new"
   ]
  },
  {
   "cell_type": "code",
   "execution_count": 103,
   "id": "7cd8712d",
   "metadata": {},
   "outputs": [],
   "source": [
    "y_train_new = y_train.drop(index = y_errorful_buckets.index)"
   ]
  },
  {
   "cell_type": "code",
   "execution_count": 104,
   "id": "2e15f319",
   "metadata": {},
   "outputs": [
    {
     "data": {
      "text/plain": [
       "79009"
      ]
     },
     "execution_count": 104,
     "metadata": {},
     "output_type": "execute_result"
    }
   ],
   "source": [
    "len(y_train_new)"
   ]
  },
  {
   "cell_type": "code",
   "execution_count": 105,
   "id": "f6d9565f",
   "metadata": {},
   "outputs": [],
   "source": [
    "model2 = RandomForestRegressor()"
   ]
  },
  {
   "cell_type": "code",
   "execution_count": 106,
   "id": "7cc2250e",
   "metadata": {},
   "outputs": [
    {
     "name": "stderr",
     "output_type": "stream",
     "text": [
      "C:\\Users\\HP\\AppData\\Local\\Temp/ipykernel_4312/3869831522.py:1: DataConversionWarning: A column-vector y was passed when a 1d array was expected. Please change the shape of y to (n_samples,), for example using ravel().\n",
      "  model2.fit(x_train_new, y_train_new)\n"
     ]
    },
    {
     "data": {
      "text/plain": [
       "RandomForestRegressor()"
      ]
     },
     "execution_count": 106,
     "metadata": {},
     "output_type": "execute_result"
    }
   ],
   "source": [
    "model2.fit(x_train_new, y_train_new)"
   ]
  },
  {
   "cell_type": "code",
   "execution_count": 107,
   "id": "51adff61",
   "metadata": {},
   "outputs": [
    {
     "data": {
      "text/html": [
       "<div>\n",
       "<style scoped>\n",
       "    .dataframe tbody tr th:only-of-type {\n",
       "        vertical-align: middle;\n",
       "    }\n",
       "\n",
       "    .dataframe tbody tr th {\n",
       "        vertical-align: top;\n",
       "    }\n",
       "\n",
       "    .dataframe thead th {\n",
       "        text-align: right;\n",
       "    }\n",
       "</style>\n",
       "<table border=\"1\" class=\"dataframe\">\n",
       "  <thead>\n",
       "    <tr style=\"text-align: right;\">\n",
       "      <th></th>\n",
       "      <th>hour</th>\n",
       "      <th>weekday</th>\n",
       "      <th>temp</th>\n",
       "      <th>winddir</th>\n",
       "      <th>hour_part</th>\n",
       "      <th>day</th>\n",
       "      <th>month</th>\n",
       "      <th>humidity</th>\n",
       "    </tr>\n",
       "  </thead>\n",
       "  <tbody>\n",
       "    <tr>\n",
       "      <th>189888</th>\n",
       "      <td>0</td>\n",
       "      <td>1</td>\n",
       "      <td>30.0</td>\n",
       "      <td>10.0</td>\n",
       "      <td>15</td>\n",
       "      <td>1</td>\n",
       "      <td>6</td>\n",
       "      <td>51.76</td>\n",
       "    </tr>\n",
       "    <tr>\n",
       "      <th>189889</th>\n",
       "      <td>0</td>\n",
       "      <td>1</td>\n",
       "      <td>30.0</td>\n",
       "      <td>10.0</td>\n",
       "      <td>30</td>\n",
       "      <td>1</td>\n",
       "      <td>6</td>\n",
       "      <td>51.76</td>\n",
       "    </tr>\n",
       "    <tr>\n",
       "      <th>189890</th>\n",
       "      <td>0</td>\n",
       "      <td>1</td>\n",
       "      <td>30.0</td>\n",
       "      <td>10.0</td>\n",
       "      <td>45</td>\n",
       "      <td>1</td>\n",
       "      <td>6</td>\n",
       "      <td>51.76</td>\n",
       "    </tr>\n",
       "    <tr>\n",
       "      <th>189891</th>\n",
       "      <td>1</td>\n",
       "      <td>1</td>\n",
       "      <td>21.0</td>\n",
       "      <td>330.0</td>\n",
       "      <td>0</td>\n",
       "      <td>1</td>\n",
       "      <td>6</td>\n",
       "      <td>94.02</td>\n",
       "    </tr>\n",
       "    <tr>\n",
       "      <th>189892</th>\n",
       "      <td>1</td>\n",
       "      <td>1</td>\n",
       "      <td>21.0</td>\n",
       "      <td>330.0</td>\n",
       "      <td>15</td>\n",
       "      <td>1</td>\n",
       "      <td>6</td>\n",
       "      <td>94.02</td>\n",
       "    </tr>\n",
       "    <tr>\n",
       "      <th>...</th>\n",
       "      <td>...</td>\n",
       "      <td>...</td>\n",
       "      <td>...</td>\n",
       "      <td>...</td>\n",
       "      <td>...</td>\n",
       "      <td>...</td>\n",
       "      <td>...</td>\n",
       "      <td>...</td>\n",
       "    </tr>\n",
       "    <tr>\n",
       "      <th>210426</th>\n",
       "      <td>22</td>\n",
       "      <td>4</td>\n",
       "      <td>10.0</td>\n",
       "      <td>0.0</td>\n",
       "      <td>45</td>\n",
       "      <td>31</td>\n",
       "      <td>12</td>\n",
       "      <td>87.38</td>\n",
       "    </tr>\n",
       "    <tr>\n",
       "      <th>210427</th>\n",
       "      <td>23</td>\n",
       "      <td>4</td>\n",
       "      <td>9.2</td>\n",
       "      <td>0.0</td>\n",
       "      <td>0</td>\n",
       "      <td>31</td>\n",
       "      <td>12</td>\n",
       "      <td>88.04</td>\n",
       "    </tr>\n",
       "    <tr>\n",
       "      <th>210428</th>\n",
       "      <td>23</td>\n",
       "      <td>4</td>\n",
       "      <td>9.2</td>\n",
       "      <td>0.0</td>\n",
       "      <td>15</td>\n",
       "      <td>31</td>\n",
       "      <td>12</td>\n",
       "      <td>88.04</td>\n",
       "    </tr>\n",
       "    <tr>\n",
       "      <th>210429</th>\n",
       "      <td>23</td>\n",
       "      <td>4</td>\n",
       "      <td>9.2</td>\n",
       "      <td>0.0</td>\n",
       "      <td>30</td>\n",
       "      <td>31</td>\n",
       "      <td>12</td>\n",
       "      <td>88.04</td>\n",
       "    </tr>\n",
       "    <tr>\n",
       "      <th>210430</th>\n",
       "      <td>23</td>\n",
       "      <td>4</td>\n",
       "      <td>9.2</td>\n",
       "      <td>0.0</td>\n",
       "      <td>45</td>\n",
       "      <td>31</td>\n",
       "      <td>12</td>\n",
       "      <td>88.04</td>\n",
       "    </tr>\n",
       "  </tbody>\n",
       "</table>\n",
       "<p>20543 rows × 8 columns</p>\n",
       "</div>"
      ],
      "text/plain": [
       "        hour  weekday  temp  winddir  hour_part  day  month  humidity\n",
       "189888     0        1  30.0     10.0         15    1      6     51.76\n",
       "189889     0        1  30.0     10.0         30    1      6     51.76\n",
       "189890     0        1  30.0     10.0         45    1      6     51.76\n",
       "189891     1        1  21.0    330.0          0    1      6     94.02\n",
       "189892     1        1  21.0    330.0         15    1      6     94.02\n",
       "...      ...      ...   ...      ...        ...  ...    ...       ...\n",
       "210426    22        4  10.0      0.0         45   31     12     87.38\n",
       "210427    23        4   9.2      0.0          0   31     12     88.04\n",
       "210428    23        4   9.2      0.0         15   31     12     88.04\n",
       "210429    23        4   9.2      0.0         30   31     12     88.04\n",
       "210430    23        4   9.2      0.0         45   31     12     88.04\n",
       "\n",
       "[20543 rows x 8 columns]"
      ]
     },
     "execution_count": 107,
     "metadata": {},
     "output_type": "execute_result"
    }
   ],
   "source": [
    "x_test"
   ]
  },
  {
   "cell_type": "code",
   "execution_count": 108,
   "id": "a804234d",
   "metadata": {},
   "outputs": [],
   "source": [
    "preds2 = model2.predict(x_test)"
   ]
  },
  {
   "cell_type": "code",
   "execution_count": 109,
   "id": "cea10174",
   "metadata": {},
   "outputs": [
    {
     "data": {
      "text/plain": [
       "array([6049.5408, 6009.7449, 5991.2479, ..., 4690.3056, 4643.7383,\n",
       "       4605.6687])"
      ]
     },
     "execution_count": 109,
     "metadata": {},
     "output_type": "execute_result"
    }
   ],
   "source": [
    "preds2"
   ]
  },
  {
   "cell_type": "code",
   "execution_count": 110,
   "id": "0b546f32",
   "metadata": {},
   "outputs": [
    {
     "data": {
      "text/plain": [
       "0.7347527094658541"
      ]
     },
     "execution_count": 110,
     "metadata": {},
     "output_type": "execute_result"
    }
   ],
   "source": [
    "from sklearn.metrics import r2_score\n",
    "r2_score(y_test['Haryana Load (MW)'], preds2)"
   ]
  },
  {
   "cell_type": "markdown",
   "id": "fc1441a4",
   "metadata": {},
   "source": [
    "#### R2 = 0.731, when error threshold = 8%\n",
    "\n",
    "#### R2 = 0.7305, when error threshold = 9%"
   ]
  },
  {
   "cell_type": "code",
   "execution_count": 117,
   "id": "a2cae2e0",
   "metadata": {},
   "outputs": [],
   "source": [
    "from sklearn.metrics import mean_squared_error\n",
    "\n",
    "rmse = np.sqrt(mean_squared_error(y_test['Haryana Load (MW)'], preds2))\n",
    "\n",
    "# mx = y_test['Haryana Load (MW)'].max()\n",
    "# mn = y_test['Haryana Load (MW)'].min()\n",
    "# nrmse = rmse/(mx - mn)"
   ]
  },
  {
   "cell_type": "code",
   "execution_count": 118,
   "id": "c75cd598",
   "metadata": {},
   "outputs": [
    {
     "data": {
      "text/html": [
       "<div>\n",
       "<style scoped>\n",
       "    .dataframe tbody tr th:only-of-type {\n",
       "        vertical-align: middle;\n",
       "    }\n",
       "\n",
       "    .dataframe tbody tr th {\n",
       "        vertical-align: top;\n",
       "    }\n",
       "\n",
       "    .dataframe thead th {\n",
       "        text-align: right;\n",
       "    }\n",
       "</style>\n",
       "<table border=\"1\" class=\"dataframe\">\n",
       "  <thead>\n",
       "    <tr style=\"text-align: right;\">\n",
       "      <th></th>\n",
       "      <th>Haryana Load (MW)</th>\n",
       "      <th>pred</th>\n",
       "    </tr>\n",
       "  </thead>\n",
       "  <tbody>\n",
       "    <tr>\n",
       "      <th>189888</th>\n",
       "      <td>3639.93</td>\n",
       "      <td>6268.927246</td>\n",
       "    </tr>\n",
       "    <tr>\n",
       "      <th>189889</th>\n",
       "      <td>3486.01</td>\n",
       "      <td>6221.054688</td>\n",
       "    </tr>\n",
       "    <tr>\n",
       "      <th>189890</th>\n",
       "      <td>3156.73</td>\n",
       "      <td>6218.890625</td>\n",
       "    </tr>\n",
       "    <tr>\n",
       "      <th>189891</th>\n",
       "      <td>2776.86</td>\n",
       "      <td>2579.258301</td>\n",
       "    </tr>\n",
       "    <tr>\n",
       "      <th>189892</th>\n",
       "      <td>2446.95</td>\n",
       "      <td>2573.478760</td>\n",
       "    </tr>\n",
       "    <tr>\n",
       "      <th>...</th>\n",
       "      <td>...</td>\n",
       "      <td>...</td>\n",
       "    </tr>\n",
       "    <tr>\n",
       "      <th>210426</th>\n",
       "      <td>4712.55</td>\n",
       "      <td>4698.966797</td>\n",
       "    </tr>\n",
       "    <tr>\n",
       "      <th>210427</th>\n",
       "      <td>4649.58</td>\n",
       "      <td>4672.524902</td>\n",
       "    </tr>\n",
       "    <tr>\n",
       "      <th>210428</th>\n",
       "      <td>4571.39</td>\n",
       "      <td>4599.900391</td>\n",
       "    </tr>\n",
       "    <tr>\n",
       "      <th>210429</th>\n",
       "      <td>4510.39</td>\n",
       "      <td>4547.607422</td>\n",
       "    </tr>\n",
       "    <tr>\n",
       "      <th>210430</th>\n",
       "      <td>4449.94</td>\n",
       "      <td>4532.550293</td>\n",
       "    </tr>\n",
       "  </tbody>\n",
       "</table>\n",
       "<p>20543 rows × 2 columns</p>\n",
       "</div>"
      ],
      "text/plain": [
       "        Haryana Load (MW)         pred\n",
       "189888            3639.93  6268.927246\n",
       "189889            3486.01  6221.054688\n",
       "189890            3156.73  6218.890625\n",
       "189891            2776.86  2579.258301\n",
       "189892            2446.95  2573.478760\n",
       "...                   ...          ...\n",
       "210426            4712.55  4698.966797\n",
       "210427            4649.58  4672.524902\n",
       "210428            4571.39  4599.900391\n",
       "210429            4510.39  4547.607422\n",
       "210430            4449.94  4532.550293\n",
       "\n",
       "[20543 rows x 2 columns]"
      ]
     },
     "execution_count": 118,
     "metadata": {},
     "output_type": "execute_result"
    }
   ],
   "source": [
    "y_test"
   ]
  },
  {
   "cell_type": "code",
   "execution_count": 119,
   "id": "030ab994",
   "metadata": {},
   "outputs": [
    {
     "name": "stdout",
     "output_type": "stream",
     "text": [
      "994.1976232264936\n"
     ]
    }
   ],
   "source": [
    "print(rmse)"
   ]
  },
  {
   "cell_type": "code",
   "execution_count": 120,
   "id": "f6619a25",
   "metadata": {},
   "outputs": [],
   "source": [
    "def MAPE(Y_actual,Y_Predicted):\n",
    "    mape = np.mean(np.abs((Y_actual - Y_Predicted)/Y_actual))*100\n",
    "    return mape"
   ]
  },
  {
   "cell_type": "code",
   "execution_count": 121,
   "id": "199b4570",
   "metadata": {},
   "outputs": [
    {
     "data": {
      "text/plain": [
       "10.808127120675929"
      ]
     },
     "execution_count": 121,
     "metadata": {},
     "output_type": "execute_result"
    }
   ],
   "source": [
    "MAPE(y_test['Haryana Load (MW)'], preds2)"
   ]
  },
  {
   "cell_type": "code",
   "execution_count": 122,
   "id": "5ce8ede1",
   "metadata": {},
   "outputs": [
    {
     "data": {
      "text/plain": [
       "20543"
      ]
     },
     "execution_count": 122,
     "metadata": {},
     "output_type": "execute_result"
    }
   ],
   "source": [
    "len(preds2)"
   ]
  },
  {
   "cell_type": "markdown",
   "id": "fe770fcd",
   "metadata": {},
   "source": [
    "#### Analyze Errorful buckets"
   ]
  },
  {
   "cell_type": "code",
   "execution_count": 123,
   "id": "8cf14fd4",
   "metadata": {},
   "outputs": [
    {
     "data": {
      "text/html": [
       "<div>\n",
       "<style scoped>\n",
       "    .dataframe tbody tr th:only-of-type {\n",
       "        vertical-align: middle;\n",
       "    }\n",
       "\n",
       "    .dataframe tbody tr th {\n",
       "        vertical-align: top;\n",
       "    }\n",
       "\n",
       "    .dataframe thead th {\n",
       "        text-align: right;\n",
       "    }\n",
       "</style>\n",
       "<table border=\"1\" class=\"dataframe\">\n",
       "  <thead>\n",
       "    <tr style=\"text-align: right;\">\n",
       "      <th></th>\n",
       "      <th>Haryana Load (MW)</th>\n",
       "      <th>preds</th>\n",
       "      <th>Error</th>\n",
       "      <th>Percent Error</th>\n",
       "    </tr>\n",
       "  </thead>\n",
       "  <tbody>\n",
       "    <tr>\n",
       "      <th>28</th>\n",
       "      <td>5625.73</td>\n",
       "      <td>5228.467773</td>\n",
       "      <td>397.262227</td>\n",
       "      <td>7.061523</td>\n",
       "    </tr>\n",
       "    <tr>\n",
       "      <th>29</th>\n",
       "      <td>5558.89</td>\n",
       "      <td>5093.456055</td>\n",
       "      <td>465.433945</td>\n",
       "      <td>8.372786</td>\n",
       "    </tr>\n",
       "    <tr>\n",
       "      <th>32</th>\n",
       "      <td>4587.46</td>\n",
       "      <td>5058.995605</td>\n",
       "      <td>-471.535605</td>\n",
       "      <td>-10.278795</td>\n",
       "    </tr>\n",
       "    <tr>\n",
       "      <th>33</th>\n",
       "      <td>4567.14</td>\n",
       "      <td>5033.269531</td>\n",
       "      <td>-466.129531</td>\n",
       "      <td>-10.206158</td>\n",
       "    </tr>\n",
       "    <tr>\n",
       "      <th>38</th>\n",
       "      <td>4684.43</td>\n",
       "      <td>5242.768066</td>\n",
       "      <td>-558.338066</td>\n",
       "      <td>-11.919018</td>\n",
       "    </tr>\n",
       "    <tr>\n",
       "      <th>...</th>\n",
       "      <td>...</td>\n",
       "      <td>...</td>\n",
       "      <td>...</td>\n",
       "      <td>...</td>\n",
       "    </tr>\n",
       "    <tr>\n",
       "      <th>119704</th>\n",
       "      <td>4506.24</td>\n",
       "      <td>5348.712891</td>\n",
       "      <td>-842.472891</td>\n",
       "      <td>-18.695695</td>\n",
       "    </tr>\n",
       "    <tr>\n",
       "      <th>119705</th>\n",
       "      <td>4176.59</td>\n",
       "      <td>5348.133301</td>\n",
       "      <td>-1171.543301</td>\n",
       "      <td>-28.050235</td>\n",
       "    </tr>\n",
       "    <tr>\n",
       "      <th>119706</th>\n",
       "      <td>3976.80</td>\n",
       "      <td>5357.680664</td>\n",
       "      <td>-1380.880664</td>\n",
       "      <td>-34.723412</td>\n",
       "    </tr>\n",
       "    <tr>\n",
       "      <th>119707</th>\n",
       "      <td>3819.15</td>\n",
       "      <td>5344.092773</td>\n",
       "      <td>-1524.942773</td>\n",
       "      <td>-39.928853</td>\n",
       "    </tr>\n",
       "    <tr>\n",
       "      <th>119708</th>\n",
       "      <td>3819.15</td>\n",
       "      <td>6292.455078</td>\n",
       "      <td>-2473.305078</td>\n",
       "      <td>-64.760616</td>\n",
       "    </tr>\n",
       "  </tbody>\n",
       "</table>\n",
       "<p>40700 rows × 4 columns</p>\n",
       "</div>"
      ],
      "text/plain": [
       "        Haryana Load (MW)        preds        Error  Percent Error\n",
       "28                5625.73  5228.467773   397.262227       7.061523\n",
       "29                5558.89  5093.456055   465.433945       8.372786\n",
       "32                4587.46  5058.995605  -471.535605     -10.278795\n",
       "33                4567.14  5033.269531  -466.129531     -10.206158\n",
       "38                4684.43  5242.768066  -558.338066     -11.919018\n",
       "...                   ...          ...          ...            ...\n",
       "119704            4506.24  5348.712891  -842.472891     -18.695695\n",
       "119705            4176.59  5348.133301 -1171.543301     -28.050235\n",
       "119706            3976.80  5357.680664 -1380.880664     -34.723412\n",
       "119707            3819.15  5344.092773 -1524.942773     -39.928853\n",
       "119708            3819.15  6292.455078 -2473.305078     -64.760616\n",
       "\n",
       "[40700 rows x 4 columns]"
      ]
     },
     "execution_count": 123,
     "metadata": {},
     "output_type": "execute_result"
    }
   ],
   "source": [
    "y_errorful_buckets"
   ]
  },
  {
   "cell_type": "markdown",
   "id": "7c192d5c",
   "metadata": {},
   "source": [
    "#### Plots"
   ]
  },
  {
   "cell_type": "code",
   "execution_count": 124,
   "id": "8b182296",
   "metadata": {},
   "outputs": [
    {
     "data": {
      "text/plain": [
       "<matplotlib.legend.Legend at 0x1db40f94b20>"
      ]
     },
     "execution_count": 124,
     "metadata": {},
     "output_type": "execute_result"
    },
    {
     "data": {
      "image/png": "[encoded data removed]",
      "text/plain": [
       "<Figure size 720x432 with 1 Axes>"
      ]
     },
     "metadata": {
      "needs_background": "light"
     },
     "output_type": "display_data"
    }
   ],
   "source": [
    "import matplotlib.pyplot as plt\n",
    "%matplotlib inline\n",
    "\n",
    "plt.rcParams[\"figure.figsize\"] = (10,6)\n",
    "plt.plot(test['Date'], y_test['Haryana Load (MW)'])\n",
    "plt.plot(test['Date'], preds2)\n",
    "plt.title('Random Forest Best Scoring Model Plot')\n",
    "plt.legend(['Actual', 'Predicted'])"
   ]
  },
  {
   "cell_type": "code",
   "execution_count": null,
   "id": "a9da7b53",
   "metadata": {},
   "outputs": [],
   "source": []
  }
 ],
 "metadata": {
  "kernelspec": {
   "display_name": "Python 3 (ipykernel)",
   "language": "python",
   "name": "python3"
  },
  "language_info": {
   "codemirror_mode": {
    "name": "ipython",
    "version": 3
   },
   "file_extension": ".py",
   "mimetype": "text/x-python",
   "name": "python",
   "nbconvert_exporter": "python",
   "pygments_lexer": "ipython3",
   "version": "3.9.7"
  }
 },
 "nbformat": 4,
 "nbformat_minor": 5
}
